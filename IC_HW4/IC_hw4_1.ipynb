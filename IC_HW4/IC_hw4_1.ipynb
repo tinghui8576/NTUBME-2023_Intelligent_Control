{
  "nbformat": 4,
  "nbformat_minor": 0,
  "metadata": {
    "colab": {
      "provenance": []
    },
    "kernelspec": {
      "name": "python3",
      "display_name": "Python 3"
    },
    "language_info": {
      "name": "python"
    }
  },
  "cells": [
    {
      "cell_type": "markdown",
      "source": [
        "## 程式初始化"
      ],
      "metadata": {
        "id": "GU5S91B5BuU-"
      }
    },
    {
      "cell_type": "markdown",
      "source": [
        "Import函數庫\n"
      ],
      "metadata": {
        "id": "kfpNyrHLBjD6"
      }
    },
    {
      "cell_type": "code",
      "source": [
        "import numpy as np\n",
        "import matplotlib.pyplot as plt\n",
        "import torch\n",
        "import torch.nn as nn\n",
        "import torch.optim as optim\n",
        "from torch.utils.data import TensorDataset, DataLoader\n",
        "from torch.nn import functional as F\n"
      ],
      "metadata": {
        "id": "77AskXwcBhw_"
      },
      "execution_count": 5,
      "outputs": []
    },
    {
      "cell_type": "markdown",
      "source": [
        "\n",
        "\n",
        " 取得GPU資訊"
      ],
      "metadata": {
        "id": "W--RpbClBoUa"
      }
    },
    {
      "cell_type": "code",
      "source": [
        "!/usr/local/cuda/bin/nvcc --version\n",
        "\n",
        "!nvidia-smi"
      ],
      "metadata": {
        "id": "ZO8p96FwBmsW",
        "colab": {
          "base_uri": "https://localhost:8080/"
        },
        "outputId": "66ab61d4-c916-4f17-fbdf-6faf1a4583c0"
      },
      "execution_count": 2,
      "outputs": [
        {
          "output_type": "stream",
          "name": "stdout",
          "text": [
            "nvcc: NVIDIA (R) Cuda compiler driver\n",
            "Copyright (c) 2005-2022 NVIDIA Corporation\n",
            "Built on Wed_Sep_21_10:33:58_PDT_2022\n",
            "Cuda compilation tools, release 11.8, V11.8.89\n",
            "Build cuda_11.8.r11.8/compiler.31833905_0\n",
            "/bin/bash: nvidia-smi: command not found\n"
          ]
        }
      ]
    },
    {
      "cell_type": "code",
      "source": [
        "device = torch.device(\"cuda\" if torch.cuda.is_available() else \"cpu\")\n",
        "\"cuda\" if torch.cuda.is_available() else \"cpu\""
      ],
      "metadata": {
        "colab": {
          "base_uri": "https://localhost:8080/",
          "height": 35
        },
        "id": "BgEhwTFv9LeY",
        "outputId": "6558ad3e-ae9a-4750-f17e-2b194f3c9610"
      },
      "execution_count": 6,
      "outputs": [
        {
          "output_type": "execute_result",
          "data": {
            "text/plain": [
              "'cpu'"
            ],
            "application/vnd.google.colaboratory.intrinsic+json": {
              "type": "string"
            }
          },
          "metadata": {},
          "execution_count": 6
        }
      ]
    },
    {
      "cell_type": "markdown",
      "source": [
        "宣告Dobot位置與軸關節公式函數(順向運動學)"
      ],
      "metadata": {
        "id": "ITlyqbSVC4xM"
      }
    },
    {
      "cell_type": "code",
      "source": [
        "def dobot_forword_kine(joints):\n",
        "\n",
        "    if joints.ndim == 1:\n",
        "        joints = np.expand_dims(joints, 0)\n",
        "\n",
        "    q1 = joints[:, 0:1] # 0:1而非直接0->確保內部採用Column處理\n",
        "    q2 = joints[:, 1:2]\n",
        "    q3 = joints[:, 2:3]\n",
        "\n",
        "    a2 = 135\n",
        "    a3 = 147\n",
        "    a4 = 61\n",
        "\n",
        "    C1 = np.cos(q1)\n",
        "    C2 = np.cos(q2)\n",
        "    C23 = np.cos(q2 + q3)\n",
        "    S1 = np.sin(q1)\n",
        "    S2 = np.sin(q2)\n",
        "    S23 = np.sin(q2 + q3)\n",
        "\n",
        "    dx = C1 * (a3 * C23 + a2 * C2 + a4)\n",
        "    dy = S1 * (a3 * C23 + a2 * C2 + a4)\n",
        "    dz = -a2 * S2 - a3 * S23\t\n",
        "\n",
        "    Point = np.hstack([dx, dy, dz]) # 建立陣列\n",
        "    return Point"
      ],
      "metadata": {
        "id": "PKmkfhDwC1eD"
      },
      "execution_count": 73,
      "outputs": []
    },
    {
      "cell_type": "markdown",
      "source": [
        "宣告訓練資料產生函數"
      ],
      "metadata": {
        "id": "8gV45biJDBJ5"
      }
    },
    {
      "cell_type": "code",
      "source": [
        "def gen_data(Train_num):\n",
        "    joint_1 = (-np.pi / 2) + np.pi * np.random.rand(Train_num, 1)\n",
        "    joint_2 = (-85 * np.pi / 180) + (85 * np.pi / 180) * np.random.rand(Train_num, 1)\n",
        "    joint_3 = (-10 * np.pi / 180) + (105 * np.pi / 180) * np.random.rand(Train_num, 1)\n",
        "    joints = np.hstack((joint_1, joint_2, joint_3))\n",
        "    points = dobot_forword_kine(joints)\n",
        "    return points, joints"
      ],
      "metadata": {
        "id": "t33QoG4_DEeF"
      },
      "execution_count": 74,
      "outputs": []
    },
    {
      "cell_type": "markdown",
      "source": [
        "## 建立模型\n",
        "模型架構參數"
      ],
      "metadata": {
        "id": "mZy4lF4_DMLS"
      }
    },
    {
      "cell_type": "code",
      "source": [
        "class Net(nn.Module):\n",
        "\n",
        "    def __init__(self):\n",
        "        super(Net, self).__init__()\n",
        "        self.input = nn.Sequential(\n",
        "                  nn.Linear(3, 10),\n",
        "                  nn.BatchNorm1d(10),\n",
        "                  nn.ReLU())\n",
        "        self.hidden = nn.ModuleList([\n",
        "                  nn.Sequential(\n",
        "                    nn.Linear(10, 10),\n",
        "                    nn.BatchNorm1d(10),\n",
        "                    nn.ReLU()) for i in range(10)])\n",
        "        self.output = nn.Linear(10,3)\n",
        "\n",
        "    def forward(self, x):\n",
        "        x = self.input(x)\n",
        "        for module in self.hidden:\n",
        "          x = module(x)\n",
        "        x = self.output(x)\n",
        "        return x\n",
        "model = Net().to(device)\n",
        "print(model)"
      ],
      "metadata": {
        "id": "y3iaZ5zz8mEG",
        "colab": {
          "base_uri": "https://localhost:8080/"
        },
        "outputId": "8bc57494-4597-413a-dd30-bf176afb2fd3"
      },
      "execution_count": 84,
      "outputs": [
        {
          "output_type": "stream",
          "name": "stdout",
          "text": [
            "Net(\n",
            "  (input): Sequential(\n",
            "    (0): Linear(in_features=3, out_features=10, bias=True)\n",
            "    (1): BatchNorm1d(10, eps=1e-05, momentum=0.1, affine=True, track_running_stats=True)\n",
            "    (2): ReLU()\n",
            "  )\n",
            "  (hidden): ModuleList(\n",
            "    (0-9): 10 x Sequential(\n",
            "      (0): Linear(in_features=10, out_features=10, bias=True)\n",
            "      (1): BatchNorm1d(10, eps=1e-05, momentum=0.1, affine=True, track_running_stats=True)\n",
            "      (2): ReLU()\n",
            "    )\n",
            "  )\n",
            "  (output): Linear(in_features=10, out_features=3, bias=True)\n",
            ")\n"
          ]
        }
      ]
    },
    {
      "cell_type": "markdown",
      "source": [
        "**粗體文字**## 訓練流程"
      ],
      "metadata": {
        "id": "atZD-eJ5Dtzm"
      }
    },
    {
      "cell_type": "markdown",
      "source": [
        "學習參數\n",
        "\n"
      ],
      "metadata": {
        "id": "xgwYBemRDz9o"
      }
    },
    {
      "cell_type": "code",
      "source": [
        "lr = 0.0001 # 學習率.\n",
        "loss_fnc = torch.nn.MSELoss()\n",
        "batchsize = 16 # 批次\n",
        "epochs = 150 # \n",
        "validationsplit = 0.2 # 驗證比例\n",
        "datanum = 10000"
      ],
      "metadata": {
        "id": "iaTLiBkW8q8N"
      },
      "execution_count": 85,
      "outputs": []
    },
    {
      "cell_type": "markdown",
      "source": [
        "自訂損失函數"
      ],
      "metadata": {
        "id": "JpXqaVdmD5Tl"
      }
    },
    {
      "cell_type": "code",
      "source": [
        "def euclidean_distance(y_true, y_pred):\n",
        "        return torch.sqrt(torch.sum(torch.square(y_true - y_pred)))"
      ],
      "metadata": {
        "id": "QL-XQoIAD7CN"
      },
      "execution_count": 86,
      "outputs": []
    },
    {
      "cell_type": "markdown",
      "source": [
        "產生訓練集資料"
      ],
      "metadata": {
        "id": "6dghhM1ODGih"
      }
    },
    {
      "cell_type": "code",
      "source": [
        "x_train, y_train = gen_data(datanum)"
      ],
      "metadata": {
        "id": "3Ax5Knb2DICp"
      },
      "execution_count": 87,
      "outputs": []
    },
    {
      "cell_type": "code",
      "source": [
        "\n",
        "train_size = int(0.8 * datanum)\n",
        "valid_size = datanum - train_size\n",
        "\n",
        "x_valid = x_train[:valid_size]\n",
        "y_valid = y_train[:valid_size]\n",
        "x_train = x_train[valid_size:]\n",
        "y_train = y_train[valid_size:]"
      ],
      "metadata": {
        "id": "l8idcgUS8uvI"
      },
      "execution_count": 88,
      "outputs": []
    },
    {
      "cell_type": "code",
      "source": [
        "# transform to torch tensor\n",
        "tensor_x_train = torch.Tensor(x_train) \n",
        "tensor_y_train = torch.Tensor(y_train)\n",
        "tensor_x_valid = torch.Tensor(x_valid) \n",
        "tensor_y_valid = torch.Tensor(y_valid)\n",
        "\n",
        "\n",
        "# create your datset & DataLoader\n",
        "train_dataset = TensorDataset(tensor_x_train, tensor_y_train) \n",
        "train_dataloader = DataLoader(train_dataset, batch_size=batchsize) \n",
        "valid_dataset = TensorDataset(tensor_x_valid, tensor_y_valid) \n",
        "valid_dataloader = DataLoader(valid_dataset, batch_size=batchsize) \n"
      ],
      "metadata": {
        "id": "5iq76xkK8yc4"
      },
      "execution_count": 89,
      "outputs": []
    },
    {
      "cell_type": "code",
      "source": [
        "# 確認dataloader\n",
        "for batch_idx, (data, target) in enumerate(train_dataloader):\n",
        "  if (batch_idx <1):\n",
        "    print(\"data:\",data)\n",
        "    print(\"target:\", target)"
      ],
      "metadata": {
        "colab": {
          "base_uri": "https://localhost:8080/"
        },
        "id": "dToKT6hYxcL9",
        "outputId": "d95b2825-e31c-45d0-de2b-0f1f45ddf293"
      },
      "execution_count": 90,
      "outputs": [
        {
          "output_type": "stream",
          "name": "stdout",
          "text": [
            "data: tensor([[ 140.7863, -230.7711,    0.5382],\n",
            "        [ 174.9903,  207.2307,  186.8458],\n",
            "        [  43.1625,  222.5139,  101.0718],\n",
            "        [ 176.8678,  109.9223,  213.3111],\n",
            "        [ 191.6783,  208.6342,  165.7504],\n",
            "        [  90.6569,  183.7944,  234.8314],\n",
            "        [ 127.2455, -212.6498,  210.0577],\n",
            "        [ 240.0968,   24.7829,  205.2057],\n",
            "        [ 306.0340,   58.9999,  128.7055],\n",
            "        [ 181.4693, -235.3370,  104.2558],\n",
            "        [  84.0240, -128.5982,  265.3640],\n",
            "        [ 203.6002, -240.0348,  122.6024],\n",
            "        [ 326.5616,  -93.2731,   40.5086],\n",
            "        [ 276.7806,   99.3758,  -17.4601],\n",
            "        [ 237.6394,   31.9192,  215.0756],\n",
            "        [ 196.3266, -273.5963,   50.3721]])\n",
            "target: tensor([[-1.0230, -0.7762,  1.4703],\n",
            "        [ 0.8695, -0.8021,  0.1448],\n",
            "        [ 1.3792, -1.4056,  1.6256],\n",
            "        [ 0.5561, -1.3902,  0.8106],\n",
            "        [ 0.8277, -0.8314,  0.3658],\n",
            "        [ 1.1126, -1.2467,  0.4328],\n",
            "        [-1.0316, -0.7610, -0.1590],\n",
            "        [ 0.1029, -1.1112,  0.5011],\n",
            "        [ 0.1905, -0.4332, -0.0790],\n",
            "        [-0.9139, -0.8489,  0.8290],\n",
            "        [-0.9920, -1.1498, -0.1634],\n",
            "        [-0.8673, -0.4127, -0.0717],\n",
            "        [-0.2782, -0.2033,  0.1131],\n",
            "        [ 0.3447, -0.5484,  1.1888],\n",
            "        [ 0.1335, -1.0115,  0.2573],\n",
            "        [-0.9484, -0.2950,  0.2192]])\n"
          ]
        }
      ]
    },
    {
      "cell_type": "markdown",
      "source": [
        "編譯模型"
      ],
      "metadata": {
        "id": "jQKm0XD_D9il"
      }
    },
    {
      "cell_type": "code",
      "source": [
        "# 設定優化器(optimizer)\n",
        "optimizer = torch.optim.Adam(model.parameters(),lr=lr)\n"
      ],
      "metadata": {
        "id": "DZmVfaPY81Jy"
      },
      "execution_count": 91,
      "outputs": []
    },
    {
      "cell_type": "markdown",
      "source": [
        "開始訓練"
      ],
      "metadata": {
        "id": "42uXyCiWEBMp"
      }
    },
    {
      "cell_type": "code",
      "source": [
        "\n",
        "loss_list = []  \n",
        "valid_loss_list = []  \n",
        "for epoch in range(0, epochs):\n",
        "    train_loss = 0.0\n",
        "    correct = 0\n",
        "    model.train()     # Optional when not using Model Specific layer\n",
        "    for batch_idx, (data, target) in enumerate(train_dataloader):\n",
        "        data, target = data.to(device), target.to(device)\n",
        "        if torch.cuda.is_available():\n",
        "            data, target = data.cuda(), target.cuda()\n",
        "        \n",
        "\n",
        "        optimizer.zero_grad()\n",
        "        output = model(data)\n",
        "        loss = euclidean_distance(output,target)\n",
        "        loss.backward()\n",
        "        optimizer.step()\n",
        "        \n",
        "        train_loss += loss.item()\n",
        "        \n",
        "        \n",
        "        # correct += target.eq(labels.view_as(target)).sum().item()\n",
        "    valid_loss = 0.0\n",
        "    model.eval()     # Optional when not using Model Specific layer\n",
        "    for data, labels in valid_dataloader:\n",
        "        if torch.cuda.is_available():\n",
        "            data, labels = data.cuda(), labels.cuda()\n",
        "        \n",
        "        target = model(data)\n",
        "        loss = euclidean_distance(target,labels)\n",
        "        valid_loss += loss.item() \n",
        "\n",
        "    print(f'Epoch {epoch+1} \\t Training Loss: {train_loss / train_size} \\t  Validation Loss: {valid_loss / valid_size}')\n",
        "    loss_list.append(train_loss / train_size)\n",
        "    valid_loss_list.append(valid_loss / valid_size)"
      ],
      "metadata": {
        "colab": {
          "base_uri": "https://localhost:8080/"
        },
        "id": "dQwh3yCd862t",
        "outputId": "7cfec2ef-5959-46ab-ef61-0bbb13b26793"
      },
      "execution_count": 92,
      "outputs": [
        {
          "output_type": "stream",
          "name": "stdout",
          "text": [
            "Epoch 1 \t Training Loss: 0.4258978451490402 \t  Validation Loss: 0.37547992897033694\n",
            "Epoch 2 \t Training Loss: 0.3353686275780201 \t  Validation Loss: 0.294652871131897\n",
            "Epoch 3 \t Training Loss: 0.25705718287825585 \t  Validation Loss: 0.23190380036830902\n",
            "Epoch 4 \t Training Loss: 0.21305707654356956 \t  Validation Loss: 0.2017896498441696\n",
            "Epoch 5 \t Training Loss: 0.1946033409833908 \t  Validation Loss: 0.1860029218196869\n",
            "Epoch 6 \t Training Loss: 0.1872853026986122 \t  Validation Loss: 0.1792760525941849\n",
            "Epoch 7 \t Training Loss: 0.18405876514315606 \t  Validation Loss: 0.17553693401813508\n",
            "Epoch 8 \t Training Loss: 0.18147032330930232 \t  Validation Loss: 0.1727906892299652\n",
            "Epoch 9 \t Training Loss: 0.17911248002946376 \t  Validation Loss: 0.17011885941028596\n",
            "Epoch 10 \t Training Loss: 0.17725746999680997 \t  Validation Loss: 0.16799988543987274\n",
            "Epoch 11 \t Training Loss: 0.17523337753117085 \t  Validation Loss: 0.1656365760564804\n",
            "Epoch 12 \t Training Loss: 0.17305882108211518 \t  Validation Loss: 0.16333352196216583\n",
            "Epoch 13 \t Training Loss: 0.17130774375796318 \t  Validation Loss: 0.16157653230428695\n",
            "Epoch 14 \t Training Loss: 0.16996843476593496 \t  Validation Loss: 0.16018673837184905\n",
            "Epoch 15 \t Training Loss: 0.16856108394265173 \t  Validation Loss: 0.1587436512708664\n",
            "Epoch 16 \t Training Loss: 0.1671181845664978 \t  Validation Loss: 0.15746595120429993\n",
            "Epoch 17 \t Training Loss: 0.16582908032834529 \t  Validation Loss: 0.15658545804023744\n",
            "Epoch 18 \t Training Loss: 0.16462279583513736 \t  Validation Loss: 0.15536379092931749\n",
            "Epoch 19 \t Training Loss: 0.16353827141225338 \t  Validation Loss: 0.15467479068040849\n",
            "Epoch 20 \t Training Loss: 0.1627243456095457 \t  Validation Loss: 0.15384115862846376\n",
            "Epoch 21 \t Training Loss: 0.16194325567781925 \t  Validation Loss: 0.15286125260591507\n",
            "Epoch 22 \t Training Loss: 0.16122671319544316 \t  Validation Loss: 0.15232485663890838\n",
            "Epoch 23 \t Training Loss: 0.16060140842199325 \t  Validation Loss: 0.15186016857624055\n",
            "Epoch 24 \t Training Loss: 0.16005247388780117 \t  Validation Loss: 0.15104883426427843\n",
            "Epoch 25 \t Training Loss: 0.15954716120660306 \t  Validation Loss: 0.15060968685150147\n",
            "Epoch 26 \t Training Loss: 0.15905069348216055 \t  Validation Loss: 0.15027884250879286\n",
            "Epoch 27 \t Training Loss: 0.158519003033638 \t  Validation Loss: 0.14964570581912995\n",
            "Epoch 28 \t Training Loss: 0.15806810484826564 \t  Validation Loss: 0.14937976098060607\n",
            "Epoch 29 \t Training Loss: 0.15758522871136665 \t  Validation Loss: 0.14890221649408342\n",
            "Epoch 30 \t Training Loss: 0.15710337541997432 \t  Validation Loss: 0.14860318785905838\n",
            "Epoch 31 \t Training Loss: 0.156673684746027 \t  Validation Loss: 0.1482231125831604\n",
            "Epoch 32 \t Training Loss: 0.15623912160098552 \t  Validation Loss: 0.14791054087877273\n",
            "Epoch 33 \t Training Loss: 0.15578148823976518 \t  Validation Loss: 0.14784115487337113\n",
            "Epoch 34 \t Training Loss: 0.1553767988085747 \t  Validation Loss: 0.1473345811367035\n",
            "Epoch 35 \t Training Loss: 0.15492311170697212 \t  Validation Loss: 0.14694898229837416\n",
            "Epoch 36 \t Training Loss: 0.1544871016293764 \t  Validation Loss: 0.14685593175888062\n",
            "Epoch 37 \t Training Loss: 0.15401508603990077 \t  Validation Loss: 0.14625572907924653\n",
            "Epoch 38 \t Training Loss: 0.15347655518352984 \t  Validation Loss: 0.1456818191409111\n",
            "Epoch 39 \t Training Loss: 0.1529297405332327 \t  Validation Loss: 0.1453352330327034\n",
            "Epoch 40 \t Training Loss: 0.15259307238459588 \t  Validation Loss: 0.1450536788702011\n",
            "Epoch 41 \t Training Loss: 0.15221461510658263 \t  Validation Loss: 0.14473504692316055\n",
            "Epoch 42 \t Training Loss: 0.15184696650505067 \t  Validation Loss: 0.14463960725069047\n",
            "Epoch 43 \t Training Loss: 0.15153606206178666 \t  Validation Loss: 0.14455979120731355\n",
            "Epoch 44 \t Training Loss: 0.1512262052744627 \t  Validation Loss: 0.14430390864610673\n",
            "Epoch 45 \t Training Loss: 0.15103214165568352 \t  Validation Loss: 0.14406761127710344\n",
            "Epoch 46 \t Training Loss: 0.1507341276407242 \t  Validation Loss: 0.14375007009506224\n",
            "Epoch 47 \t Training Loss: 0.15047408778965474 \t  Validation Loss: 0.14353510469198227\n",
            "Epoch 48 \t Training Loss: 0.15019705651700496 \t  Validation Loss: 0.14323317295312882\n",
            "Epoch 49 \t Training Loss: 0.149982034817338 \t  Validation Loss: 0.14310491096973418\n",
            "Epoch 50 \t Training Loss: 0.14978167514503002 \t  Validation Loss: 0.14308661997318267\n",
            "Epoch 51 \t Training Loss: 0.1494708983451128 \t  Validation Loss: 0.14298566353321077\n",
            "Epoch 52 \t Training Loss: 0.1492503379881382 \t  Validation Loss: 0.14264250499010087\n",
            "Epoch 53 \t Training Loss: 0.14897167098522185 \t  Validation Loss: 0.14238613253831864\n",
            "Epoch 54 \t Training Loss: 0.14875977638363838 \t  Validation Loss: 0.14224948519468308\n",
            "Epoch 55 \t Training Loss: 0.14852847653627396 \t  Validation Loss: 0.14203957557678223\n",
            "Epoch 56 \t Training Loss: 0.14828089444339276 \t  Validation Loss: 0.14200957655906676\n",
            "Epoch 57 \t Training Loss: 0.14808324341475965 \t  Validation Loss: 0.1419495804309845\n",
            "Epoch 58 \t Training Loss: 0.1478181270211935 \t  Validation Loss: 0.14191974860429762\n",
            "Epoch 59 \t Training Loss: 0.14763438732922077 \t  Validation Loss: 0.14158068335056304\n",
            "Epoch 60 \t Training Loss: 0.14737650617957115 \t  Validation Loss: 0.14122972613573073\n",
            "Epoch 61 \t Training Loss: 0.14719293150305748 \t  Validation Loss: 0.1408060250878334\n",
            "Epoch 62 \t Training Loss: 0.1469591914266348 \t  Validation Loss: 0.14049582850933076\n",
            "Epoch 63 \t Training Loss: 0.14672714677453041 \t  Validation Loss: 0.14045050954818725\n",
            "Epoch 64 \t Training Loss: 0.14647394838929176 \t  Validation Loss: 0.13993726807832718\n",
            "Epoch 65 \t Training Loss: 0.14622514450550078 \t  Validation Loss: 0.13975668758153914\n",
            "Epoch 66 \t Training Loss: 0.14603304743766785 \t  Validation Loss: 0.1395390530824661\n",
            "Epoch 67 \t Training Loss: 0.14582462717592717 \t  Validation Loss: 0.1393786742091179\n",
            "Epoch 68 \t Training Loss: 0.14565961617231368 \t  Validation Loss: 0.13925965309143065\n",
            "Epoch 69 \t Training Loss: 0.1454426444619894 \t  Validation Loss: 0.13921053606271744\n",
            "Epoch 70 \t Training Loss: 0.1452225128263235 \t  Validation Loss: 0.13864538061618806\n",
            "Epoch 71 \t Training Loss: 0.14499307104945183 \t  Validation Loss: 0.1389087149500847\n",
            "Epoch 72 \t Training Loss: 0.1447379670739174 \t  Validation Loss: 0.13887611508369446\n",
            "Epoch 73 \t Training Loss: 0.144522890239954 \t  Validation Loss: 0.13876001608371735\n",
            "Epoch 74 \t Training Loss: 0.14430972926318644 \t  Validation Loss: 0.13849203205108643\n",
            "Epoch 75 \t Training Loss: 0.1440832135975361 \t  Validation Loss: 0.13829551655054093\n",
            "Epoch 76 \t Training Loss: 0.1438943643271923 \t  Validation Loss: 0.13781925004720688\n",
            "Epoch 77 \t Training Loss: 0.14361512164771556 \t  Validation Loss: 0.13763592594861984\n",
            "Epoch 78 \t Training Loss: 0.14343189191818237 \t  Validation Loss: 0.136965218603611\n",
            "Epoch 79 \t Training Loss: 0.14318745708465577 \t  Validation Loss: 0.13637625455856323\n",
            "Epoch 80 \t Training Loss: 0.14295920526981354 \t  Validation Loss: 0.13650489509105682\n",
            "Epoch 81 \t Training Loss: 0.14266613820195198 \t  Validation Loss: 0.13621386176347733\n",
            "Epoch 82 \t Training Loss: 0.142405763104558 \t  Validation Loss: 0.1358766257762909\n",
            "Epoch 83 \t Training Loss: 0.14205971662700176 \t  Validation Loss: 0.13540591824054718\n",
            "Epoch 84 \t Training Loss: 0.14166502183675767 \t  Validation Loss: 0.1347158550620079\n",
            "Epoch 85 \t Training Loss: 0.14122261679172515 \t  Validation Loss: 0.13435807234048844\n",
            "Epoch 86 \t Training Loss: 0.140656386628747 \t  Validation Loss: 0.13353772807121278\n",
            "Epoch 87 \t Training Loss: 0.14002022501826286 \t  Validation Loss: 0.13255862551927566\n",
            "Epoch 88 \t Training Loss: 0.13935304822027683 \t  Validation Loss: 0.13180996710062026\n",
            "Epoch 89 \t Training Loss: 0.13875805425643922 \t  Validation Loss: 0.13090447717905043\n",
            "Epoch 90 \t Training Loss: 0.13828856483101845 \t  Validation Loss: 0.13034474468231202\n",
            "Epoch 91 \t Training Loss: 0.13781206016242503 \t  Validation Loss: 0.12969833445549012\n",
            "Epoch 92 \t Training Loss: 0.13735656614601613 \t  Validation Loss: 0.12923912417888642\n",
            "Epoch 93 \t Training Loss: 0.13687091764807702 \t  Validation Loss: 0.12866088831424713\n",
            "Epoch 94 \t Training Loss: 0.1364166462123394 \t  Validation Loss: 0.12749625772237777\n",
            "Epoch 95 \t Training Loss: 0.13591585275530815 \t  Validation Loss: 0.1268925998210907\n",
            "Epoch 96 \t Training Loss: 0.13545296697318554 \t  Validation Loss: 0.1261835487484932\n",
            "Epoch 97 \t Training Loss: 0.13504129415750504 \t  Validation Loss: 0.12562546020746232\n",
            "Epoch 98 \t Training Loss: 0.13462226344645023 \t  Validation Loss: 0.12541851222515107\n",
            "Epoch 99 \t Training Loss: 0.1342734002918005 \t  Validation Loss: 0.12449342173337936\n",
            "Epoch 100 \t Training Loss: 0.1338615085631609 \t  Validation Loss: 0.12429444193840027\n",
            "Epoch 101 \t Training Loss: 0.13341869281232357 \t  Validation Loss: 0.1230710511803627\n",
            "Epoch 102 \t Training Loss: 0.13299181519448758 \t  Validation Loss: 0.12266313987970352\n",
            "Epoch 103 \t Training Loss: 0.13251963755488397 \t  Validation Loss: 0.12205576682090759\n",
            "Epoch 104 \t Training Loss: 0.13197436621785164 \t  Validation Loss: 0.12137501615285873\n",
            "Epoch 105 \t Training Loss: 0.13148622903227805 \t  Validation Loss: 0.12092599952220917\n",
            "Epoch 106 \t Training Loss: 0.1310111623853445 \t  Validation Loss: 0.12079847919940949\n",
            "Epoch 107 \t Training Loss: 0.13056456206738948 \t  Validation Loss: 0.12056211006641387\n",
            "Epoch 108 \t Training Loss: 0.1301894851028919 \t  Validation Loss: 0.12016305673122406\n",
            "Epoch 109 \t Training Loss: 0.12979129782319068 \t  Validation Loss: 0.11946923929452896\n",
            "Epoch 110 \t Training Loss: 0.12945579800009727 \t  Validation Loss: 0.11890915727615356\n",
            "Epoch 111 \t Training Loss: 0.12908010920882226 \t  Validation Loss: 0.11805107367038727\n",
            "Epoch 112 \t Training Loss: 0.1287646579146385 \t  Validation Loss: 0.11724122762680053\n",
            "Epoch 113 \t Training Loss: 0.12841350424289705 \t  Validation Loss: 0.11652310818433761\n",
            "Epoch 114 \t Training Loss: 0.12805674770474434 \t  Validation Loss: 0.11576384949684143\n",
            "Epoch 115 \t Training Loss: 0.12770999012887477 \t  Validation Loss: 0.11522598522901535\n",
            "Epoch 116 \t Training Loss: 0.12739482580125333 \t  Validation Loss: 0.1149656062722206\n",
            "Epoch 117 \t Training Loss: 0.12706792910397052 \t  Validation Loss: 0.11440266901254655\n",
            "Epoch 118 \t Training Loss: 0.12685525585711002 \t  Validation Loss: 0.11402811688184739\n",
            "Epoch 119 \t Training Loss: 0.12656657761335374 \t  Validation Loss: 0.11372335237264633\n",
            "Epoch 120 \t Training Loss: 0.12634840801358224 \t  Validation Loss: 0.11315712934732437\n",
            "Epoch 121 \t Training Loss: 0.1261092902868986 \t  Validation Loss: 0.11220000648498535\n",
            "Epoch 122 \t Training Loss: 0.12588252936303615 \t  Validation Loss: 0.11189787232875824\n",
            "Epoch 123 \t Training Loss: 0.1256326753348112 \t  Validation Loss: 0.11119805556535721\n",
            "Epoch 124 \t Training Loss: 0.125398036852479 \t  Validation Loss: 0.11102885645627976\n",
            "Epoch 125 \t Training Loss: 0.12514829823374748 \t  Validation Loss: 0.11040057569742202\n",
            "Epoch 126 \t Training Loss: 0.12491407249867915 \t  Validation Loss: 0.10903732055425644\n",
            "Epoch 127 \t Training Loss: 0.12465211834013462 \t  Validation Loss: 0.1088082509636879\n",
            "Epoch 128 \t Training Loss: 0.12441644942760467 \t  Validation Loss: 0.10845127475261689\n",
            "Epoch 129 \t Training Loss: 0.12415633480250836 \t  Validation Loss: 0.10822432780265809\n",
            "Epoch 130 \t Training Loss: 0.123924282386899 \t  Validation Loss: 0.10728819477558137\n",
            "Epoch 131 \t Training Loss: 0.12363196521997452 \t  Validation Loss: 0.10692309409379959\n",
            "Epoch 132 \t Training Loss: 0.12337429770827293 \t  Validation Loss: 0.10630014383792877\n",
            "Epoch 133 \t Training Loss: 0.123131601318717 \t  Validation Loss: 0.10617694860696793\n",
            "Epoch 134 \t Training Loss: 0.12288230718672276 \t  Validation Loss: 0.10544452452659607\n",
            "Epoch 135 \t Training Loss: 0.12266019541025162 \t  Validation Loss: 0.10521578741073609\n",
            "Epoch 136 \t Training Loss: 0.12242549103498458 \t  Validation Loss: 0.10526393586397172\n",
            "Epoch 137 \t Training Loss: 0.12221916040778161 \t  Validation Loss: 0.10496569567918777\n",
            "Epoch 138 \t Training Loss: 0.12197016172111035 \t  Validation Loss: 0.10458685088157654\n",
            "Epoch 139 \t Training Loss: 0.1217598108202219 \t  Validation Loss: 0.10402404892444611\n",
            "Epoch 140 \t Training Loss: 0.12155153673887253 \t  Validation Loss: 0.1037516902089119\n",
            "Epoch 141 \t Training Loss: 0.12133311398327351 \t  Validation Loss: 0.1032568616271019\n",
            "Epoch 142 \t Training Loss: 0.12114742314815521 \t  Validation Loss: 0.10296511852741241\n",
            "Epoch 143 \t Training Loss: 0.12097415512800216 \t  Validation Loss: 0.10244686144590377\n",
            "Epoch 144 \t Training Loss: 0.12080819982290268 \t  Validation Loss: 0.10224208557605743\n",
            "Epoch 145 \t Training Loss: 0.12064883659780025 \t  Validation Loss: 0.10207134872674942\n",
            "Epoch 146 \t Training Loss: 0.12047093968093395 \t  Validation Loss: 0.10188640815019608\n",
            "Epoch 147 \t Training Loss: 0.1202214551270008 \t  Validation Loss: 0.10135094392299653\n",
            "Epoch 148 \t Training Loss: 0.12004404944181442 \t  Validation Loss: 0.10139222967624664\n",
            "Epoch 149 \t Training Loss: 0.11988046990334987 \t  Validation Loss: 0.1010785676240921\n",
            "Epoch 150 \t Training Loss: 0.11969413457810879 \t  Validation Loss: 0.10083878380060196\n"
          ]
        }
      ]
    },
    {
      "cell_type": "markdown",
      "source": [
        "畫loss收斂圖"
      ],
      "metadata": {
        "id": "VlNy-bUFkSCe"
      }
    },
    {
      "cell_type": "code",
      "source": [
        "plt.plot(loss_list)\n",
        "plt.plot(valid_loss_list)\n",
        "plt.title('loss')\n",
        "plt.xlabel('epoch')\n",
        "plt.ylabel('loss')\n",
        "plt.legend(['train', 'validation'], loc='center right')\n",
        "plt.show()\n"
      ],
      "metadata": {
        "colab": {
          "base_uri": "https://localhost:8080/",
          "height": 472
        },
        "id": "fsrryGp9kXcn",
        "outputId": "47fd513a-7919-44f3-8879-2c4623d45de9"
      },
      "execution_count": 93,
      "outputs": [
        {
          "output_type": "display_data",
          "data": {
            "text/plain": [
              "<Figure size 640x480 with 1 Axes>"
            ],
            "image/png": "[encoded data removed]"
          },
          "metadata": {}
        }
      ]
    },
    {
      "cell_type": "markdown",
      "source": [
        "## 自行測試"
      ],
      "metadata": {
        "id": "ZJDLrwkKkf4T"
      }
    },
    {
      "cell_type": "code",
      "source": [
        "x_test, y_test = gen_data(20)\n",
        "\n",
        "# transform to torch tensor\n",
        "tensor_x_test = torch.Tensor(x_test) \n",
        "tensor_y_test = torch.Tensor(y_test)\n",
        "\n",
        "\n",
        "# create your datset & DataLoader\n",
        "test_dataset = TensorDataset(tensor_x_test, tensor_y_test) \n",
        "test_dataloader = DataLoader(test_dataset, batch_size=batchsize, shuffle=False) "
      ],
      "metadata": {
        "id": "SVfUPe4Skzwb"
      },
      "execution_count": 94,
      "outputs": []
    },
    {
      "cell_type": "code",
      "source": [
        "model.eval()\n",
        "test_loss = 0\n",
        "correct = 0\n",
        "with torch.no_grad():\n",
        "    for data, target in test_dataloader:\n",
        "        data, target = data.to(device), target.to(device)\n",
        "        output = model(data)\n",
        "        \n",
        "        # sum up batch loss\n",
        "        test_loss += euclidean_distance(output, target).item()\n",
        "        \n",
        "\n",
        "print('其中三個解:\\n')\n",
        "print(f'\\t座標: {data[:3]},\\n\\t正確解: {target[:3]}\\n\\t預測解: {output[:3]}\\n')\n",
        "\n",
        "# 平均損失\n",
        "test_loss /= len(test_dataloader.dataset)\n",
        "# 顯示測試結果\n",
        "data_count = len(test_dataloader.dataset)\n",
        "print(f'平均損失: {test_loss:.4f}')"
      ],
      "metadata": {
        "colab": {
          "base_uri": "https://localhost:8080/"
        },
        "id": "OiJLrZ4Jm5h3",
        "outputId": "6456162e-42c5-4d89-e3d1-bcd947a903eb"
      },
      "execution_count": 96,
      "outputs": [
        {
          "output_type": "stream",
          "name": "stdout",
          "text": [
            "其中三個解:\n",
            "\n",
            "\t座標: tensor([[  56.4231, -218.9545,  175.3925],\n",
            "        [  24.7849,  321.1784,   72.8488],\n",
            "        [ 186.0519,  253.4659,  123.6513]]),\n",
            "\t正確解: tensor([[-1.3186, -1.3889,  1.0947],\n",
            "        [ 1.4938, -0.5634,  0.5583],\n",
            "        [ 0.9376, -0.4670,  0.0250]])\n",
            "\t預測解: tensor([[-0.9391, -1.2266,  1.0320],\n",
            "        [ 1.2320, -0.7853,  1.0150],\n",
            "        [ 0.8476, -0.7039,  0.4623]])\n",
            "\n",
            "平均損失: 0.1088\n"
          ]
        }
      ]
    }
  ]
}