{
  "nbformat": 4,
  "nbformat_minor": 0,
  "metadata": {
    "colab": {
      "provenance": []
    },
    "kernelspec": {
      "name": "python3",
      "display_name": "Python 3"
    },
    "language_info": {
      "name": "python"
    }
  },
  "cells": [
    {
      "cell_type": "markdown",
      "source": [
        "## 程式初始化\n",
        "Import函數庫"
      ],
      "metadata": {
        "id": "cUrNb2uEHdrd"
      }
    },
    {
      "cell_type": "code",
      "execution_count": null,
      "metadata": {
        "id": "jxsU7xk-HSYt"
      },
      "outputs": [],
      "source": [
        "import numpy as np\n",
        "import matplotlib.pyplot as plt\n",
        "import torch\n",
        "import torch.nn as nn\n",
        "import torch.optim as optim\n",
        "from torch.utils.data import TensorDataset, DataLoader\n",
        "from torch.nn import functional as F\n",
        "import logging"
      ]
    },
    {
      "cell_type": "code",
      "source": [
        "device = torch.device(\"cuda\" if torch.cuda.is_available() else \"cpu\")\n",
        "\"cuda\" if torch.cuda.is_available() else \"cpu\""
      ],
      "metadata": {
        "colab": {
          "base_uri": "https://localhost:8080/",
          "height": 35
        },
        "id": "ArvHvfEQwPbt",
        "outputId": "6eca05ee-70ea-40dc-ab00-5682bd7356bc"
      },
      "execution_count": null,
      "outputs": [
        {
          "output_type": "execute_result",
          "data": {
            "text/plain": [
              "'cpu'"
            ],
            "application/vnd.google.colaboratory.intrinsic+json": {
              "type": "string"
            }
          },
          "metadata": {},
          "execution_count": 814
        }
      ]
    },
    {
      "cell_type": "markdown",
      "source": [
        "## 實作訓練資料產生函數\n",
        "宣告公式函數"
      ],
      "metadata": {
        "id": "LkMhrHKrIu_q"
      }
    },
    {
      "cell_type": "code",
      "source": [
        "def six_hump_camelback(points):\n",
        "    x = points[:, 0:1] # 0:1而非直接0->確保內部採用Column處理\n",
        "    y = points[:, 1:2]\n",
        "    \n",
        "\n",
        " \n",
        "    z = (4 - 2.1 * x**2 + x**4 /3)* x**2 + x * y+ (-4 + 4 * y**2) * y**2  \n",
        "\n",
        "    return z "
      ],
      "metadata": {
        "id": "T2-kRgAVIydx"
      },
      "execution_count": null,
      "outputs": []
    },
    {
      "cell_type": "markdown",
      "source": [
        "宣告訓練資料產生函數"
      ],
      "metadata": {
        "id": "RDSO85QOKak9"
      }
    },
    {
      "cell_type": "code",
      "source": [
        "def gen_data(Train_num):\n",
        "\n",
        "    x = np.random.uniform(low=-5, high=5, size=(Train_num,))\n",
        "    y = np.random.uniform(low=-5, high=5, size=(Train_num,))\n",
        "    points = np.stack((x,y))\n",
        "    points = points.reshape(-1,2)\n",
        "    z = six_hump_camelback(points)\n",
        "    \n",
        "    return points, z\n"
      ],
      "metadata": {
        "id": "6fSWlunIKbbt"
      },
      "execution_count": null,
      "outputs": []
    },
    {
      "cell_type": "markdown",
      "source": [
        "設定模型"
      ],
      "metadata": {
        "id": "kmv9C6QUKo3H"
      }
    },
    {
      "cell_type": "code",
      "source": [
        "class Net(nn.Module):\n",
        "\n",
        "    def __init__(self):\n",
        "        super(Net, self).__init__()\n",
        "        self.input = nn.Sequential(\n",
        "                  nn.Linear(2, 20),\n",
        "                  nn.BatchNorm1d(20),\n",
        "                  nn.ReLU())\n",
        "        self.hidden = nn.ModuleList([\n",
        "                  nn.Sequential(\n",
        "                    nn.Linear(20, 20),\n",
        "                    nn.BatchNorm1d(20),\n",
        "                    nn.ReLU()) for i in range(30)])\n",
        "        self.output = nn.Linear(20,1)\n",
        "\n",
        "    def forward(self, x):\n",
        "        x = self.input(x)\n",
        "        for module in self.hidden:\n",
        "          x = module(x)\n",
        "        x = self.output(x)\n",
        "        return x"
      ],
      "metadata": {
        "id": "bPq86ZFlUca1"
      },
      "execution_count": null,
      "outputs": []
    },
    {
      "cell_type": "code",
      "source": [
        "net = Net()\n",
        "print(net)"
      ],
      "metadata": {
        "colab": {
          "base_uri": "https://localhost:8080/"
        },
        "id": "BDA08LW3uThK",
        "outputId": "34b69db9-6be8-46fe-84bb-b8e5bab0b758"
      },
      "execution_count": null,
      "outputs": [
        {
          "output_type": "stream",
          "name": "stdout",
          "text": [
            "Net(\n",
            "  (input): Sequential(\n",
            "    (0): Linear(in_features=2, out_features=20, bias=True)\n",
            "    (1): BatchNorm1d(20, eps=1e-05, momentum=0.1, affine=True, track_running_stats=True)\n",
            "    (2): ReLU()\n",
            "  )\n",
            "  (hidden): ModuleList(\n",
            "    (0-29): 30 x Sequential(\n",
            "      (0): Linear(in_features=20, out_features=20, bias=True)\n",
            "      (1): BatchNorm1d(20, eps=1e-05, momentum=0.1, affine=True, track_running_stats=True)\n",
            "      (2): ReLU()\n",
            "    )\n",
            "  )\n",
            "  (output): Linear(in_features=20, out_features=1, bias=True)\n",
            ")\n"
          ]
        }
      ]
    },
    {
      "cell_type": "code",
      "source": [
        "def euclidean_distance(y_true, y_pred):\n",
        "  return torch.sqrt(torch.sum(torch.square(y_true - y_pred)))"
      ],
      "metadata": {
        "id": "ycFuxdLybhOK"
      },
      "execution_count": null,
      "outputs": []
    },
    {
      "cell_type": "markdown",
      "source": [
        "## 訓練流程\n",
        "學習參數\n",
        "\n"
      ],
      "metadata": {
        "id": "q5xja3IkSzVA"
      }
    },
    {
      "cell_type": "code",
      "source": [
        "lr=0.001 # 學習率\n",
        "loss_fnc = torch.nn.MSELoss()  # 可選擇 'mae', 'mse', 'msle', 'categorical_crossentropy' 或自訂損失函數等...\n",
        "batchsize = 128 # 批次\n",
        "epochs = 200 # \n",
        "validationsplit = 0.2 # 驗證比例\n",
        "datanum = 20000"
      ],
      "metadata": {
        "id": "Bzcewv8DS0Gk"
      },
      "execution_count": null,
      "outputs": []
    },
    {
      "cell_type": "markdown",
      "source": [
        "產生訓練集資料"
      ],
      "metadata": {
        "id": "_rWZ-JoqKjx0"
      }
    },
    {
      "cell_type": "code",
      "source": [
        "x_train, y_train = gen_data(datanum)"
      ],
      "metadata": {
        "id": "-91X5P0S4KT7"
      },
      "execution_count": null,
      "outputs": []
    },
    {
      "cell_type": "code",
      "source": [
        "train_size = int(0.8 * datanum)\n",
        "valid_size = datanum - train_size\n",
        "\n",
        "x_valid = x_train[:valid_size]\n",
        "y_valid = y_train[:valid_size]\n",
        "x_train = x_train[valid_size:]\n",
        "y_train = y_train[valid_size:]"
      ],
      "metadata": {
        "id": "pdQd-D2mT_Oe"
      },
      "execution_count": null,
      "outputs": []
    },
    {
      "cell_type": "code",
      "source": [
        "# transform to torch tensor\n",
        "tensor_x_train = torch.Tensor(x_train) \n",
        "tensor_y_train = torch.Tensor(y_train)\n",
        "tensor_x_valid = torch.Tensor(x_valid) \n",
        "tensor_y_valid = torch.Tensor(y_valid)\n",
        "\n",
        "\n",
        "# create your datset & DataLoader\n",
        "train_dataset = TensorDataset(tensor_x_train, tensor_y_train) \n",
        "train_dataloader = DataLoader(train_dataset, batch_size=batchsize, shuffle=False) \n",
        "valid_dataset = TensorDataset(tensor_x_valid, tensor_y_valid) \n",
        "valid_dataloader = DataLoader(valid_dataset, batch_size=batchsize, shuffle=False)\n"
      ],
      "metadata": {
        "id": "6gOyqBy3hBNN"
      },
      "execution_count": null,
      "outputs": []
    },
    {
      "cell_type": "code",
      "source": [
        "# 確認dataloader\n",
        "for batch_idx, (data, target) in enumerate(train_dataloader):\n",
        "  if (batch_idx <1):\n",
        "    print(\"data:\",data)\n",
        "    print(\"target:\", target)"
      ],
      "metadata": {
        "colab": {
          "base_uri": "https://localhost:8080/"
        },
        "id": "jOuVDzMsUH7L",
        "outputId": "33e68ee4-bbd2-4ffc-ad23-2cd1030b3eb0"
      },
      "execution_count": null,
      "outputs": [
        {
          "output_type": "stream",
          "name": "stdout",
          "text": [
            "data: tensor([[-2.0761, -2.1246],\n",
            "        [-1.6221, -4.3398],\n",
            "        [-4.2602,  2.4489],\n",
            "        [-1.0831,  1.1194],\n",
            "        [ 3.7168,  4.4232],\n",
            "        [-0.9332,  4.2880],\n",
            "        [ 4.1607,  2.6875],\n",
            "        [ 4.7385,  4.1557],\n",
            "        [ 2.9163, -3.1219],\n",
            "        [ 4.0878,  3.9475],\n",
            "        [ 1.0685,  1.8476],\n",
            "        [ 4.7328,  4.5162],\n",
            "        [-4.1901, -2.6837],\n",
            "        [ 1.6688, -1.3018],\n",
            "        [-3.2867,  4.8372],\n",
            "        [ 2.8896, -3.1341],\n",
            "        [ 1.8208,  1.2617],\n",
            "        [-4.0613, -4.2316],\n",
            "        [ 4.2355,  2.9327],\n",
            "        [-1.0344,  1.6189],\n",
            "        [ 1.5611, -2.3789],\n",
            "        [-0.3292,  4.2414],\n",
            "        [ 1.2213,  4.6528],\n",
            "        [-1.3433,  0.2064],\n",
            "        [ 1.3380,  0.4789],\n",
            "        [-3.8085, -3.1358],\n",
            "        [ 4.1419, -1.4583],\n",
            "        [ 3.9595, -0.5903],\n",
            "        [ 3.7852, -0.4383],\n",
            "        [-0.0478, -1.9331],\n",
            "        [-4.0995,  3.4285],\n",
            "        [-2.6596,  2.3327],\n",
            "        [ 4.0069,  4.5681],\n",
            "        [ 1.2169,  3.5439],\n",
            "        [ 1.0590,  3.7084],\n",
            "        [-4.0725,  0.9048],\n",
            "        [ 0.1235,  3.6257],\n",
            "        [-2.8877,  2.9071],\n",
            "        [-2.9154,  2.7207],\n",
            "        [ 3.2712,  0.6400],\n",
            "        [-2.2358, -2.9839],\n",
            "        [-0.0528,  0.6720],\n",
            "        [-3.2893, -2.7282],\n",
            "        [-2.0536, -4.6625],\n",
            "        [ 4.7292,  0.6201],\n",
            "        [ 1.0410,  3.0202],\n",
            "        [ 1.2308,  2.6341],\n",
            "        [-4.4373, -1.5990],\n",
            "        [-1.1238,  4.8048],\n",
            "        [ 3.3693, -4.9324],\n",
            "        [ 4.1896,  1.5569],\n",
            "        [ 1.5960, -2.4354],\n",
            "        [-1.9814, -3.5366],\n",
            "        [ 2.6500,  2.3217],\n",
            "        [-3.9247,  0.6860],\n",
            "        [-0.3546,  1.4449],\n",
            "        [-1.6815,  3.1592],\n",
            "        [-2.2960,  1.9180],\n",
            "        [ 1.3715,  3.2099],\n",
            "        [-3.1127,  4.8280],\n",
            "        [ 2.2757, -0.9779],\n",
            "        [-2.6256, -4.6872],\n",
            "        [ 2.9998, -3.7405],\n",
            "        [ 0.6132, -4.8034],\n",
            "        [ 0.4508,  0.5125],\n",
            "        [ 3.2407,  4.3974],\n",
            "        [ 4.5579,  1.1075],\n",
            "        [-4.3138,  4.9736],\n",
            "        [-3.8107,  2.7193],\n",
            "        [-3.6140,  1.6081],\n",
            "        [ 0.9637,  2.9702],\n",
            "        [-2.3430,  2.5174],\n",
            "        [-0.5252, -2.0570],\n",
            "        [-0.3191,  2.9211],\n",
            "        [-1.3595, -0.3672],\n",
            "        [-3.7321,  0.9791],\n",
            "        [ 4.3336, -3.3215],\n",
            "        [-3.3490,  3.2386],\n",
            "        [-2.7041,  4.6568],\n",
            "        [-4.5979,  3.9852],\n",
            "        [-1.1443, -3.4634],\n",
            "        [-4.8115,  4.6148],\n",
            "        [-1.1756,  3.9659],\n",
            "        [ 1.9497,  0.0431],\n",
            "        [-3.6202,  4.9941],\n",
            "        [ 3.1028,  3.0447],\n",
            "        [ 1.2188, -4.8031],\n",
            "        [-0.3139,  0.4945],\n",
            "        [ 1.2607, -2.9362],\n",
            "        [-0.7963, -0.1140],\n",
            "        [ 1.0434, -3.2689],\n",
            "        [ 0.9466, -3.9219],\n",
            "        [ 2.8319,  2.2798],\n",
            "        [-2.7824,  0.7304],\n",
            "        [ 0.5159,  0.3137],\n",
            "        [-1.6292, -0.1969],\n",
            "        [ 1.2464, -2.6223],\n",
            "        [ 4.6347, -0.8594],\n",
            "        [-1.4930,  1.2089],\n",
            "        [-3.8072, -2.4370],\n",
            "        [ 0.2403,  4.8553],\n",
            "        [ 3.2622,  0.7620],\n",
            "        [-3.1579,  3.8399],\n",
            "        [ 3.7894,  3.4327],\n",
            "        [-1.0177, -4.6706],\n",
            "        [ 4.4159,  4.8229],\n",
            "        [ 1.5261,  3.1052],\n",
            "        [ 3.2097, -4.1749],\n",
            "        [ 3.5935,  1.9727],\n",
            "        [ 1.5656, -1.6964],\n",
            "        [-3.7110, -4.0917],\n",
            "        [-3.8753, -0.0968],\n",
            "        [-3.8311, -4.8486],\n",
            "        [-2.7951,  1.7199],\n",
            "        [-3.0339,  1.2034],\n",
            "        [-1.0329,  4.4645],\n",
            "        [ 2.1978, -3.3308],\n",
            "        [-3.6561,  4.4137],\n",
            "        [-4.7058, -3.3569],\n",
            "        [ 3.6865, -4.5677],\n",
            "        [ 0.5552,  4.8070],\n",
            "        [ 1.6929, -1.1016],\n",
            "        [ 0.7016,  1.3425],\n",
            "        [-0.2888,  0.0668],\n",
            "        [-1.3024,  3.0589],\n",
            "        [ 3.9142, -1.1657],\n",
            "        [-0.2830,  0.0204],\n",
            "        [ 0.0623,  2.6406]])\n",
            "target: tensor([[ 7.2769e+01],\n",
            "        [ 1.3526e+03],\n",
            "        [ 1.4830e+03],\n",
            "        [ 2.3960e+00],\n",
            "        [ 2.0025e+03],\n",
            "        [ 1.2769e+03],\n",
            "        [ 1.3601e+03],\n",
            "        [ 3.9478e+03],\n",
            "        [ 4.1907e+02],\n",
            "        [ 1.9608e+03],\n",
            "        [ 3.7258e+01],\n",
            "        [ 4.3859e+03],\n",
            "        [ 1.4168e+03],\n",
            "        [ 4.5894e+00],\n",
            "        [ 2.2989e+03],\n",
            "        [ 4.1864e+02],\n",
            "        [ 8.3926e+00],\n",
            "        [ 2.2187e+03],\n",
            "        [ 1.5942e+03],\n",
            "        [ 1.7601e+01],\n",
            "        [ 1.0386e+02],\n",
            "        [ 1.2216e+03],\n",
            "        [ 1.7962e+03],\n",
            "        [ 1.8982e+00],\n",
            "        [ 2.2769e+00],\n",
            "        [ 9.9274e+02],\n",
            "        [ 1.1370e+03],\n",
            "        [ 8.2772e+02],\n",
            "        [ 6.0440e+02],\n",
            "        [ 4.1007e+01],\n",
            "        [ 1.5479e+03],\n",
            "        [ 1.3165e+02],\n",
            "        [ 2.5790e+03],\n",
            "        [ 5.8743e+02],\n",
            "        [ 7.0772e+02],\n",
            "        [ 1.0051e+03],\n",
            "        [ 6.3915e+02],\n",
            "        [ 3.2412e+02],\n",
            "        [ 2.6860e+02],\n",
            "        [ 2.1188e+02],\n",
            "        [ 2.9730e+02],\n",
            "        [-1.0149e+00],\n",
            "        [ 4.2045e+02],\n",
            "        [ 1.8175e+03],\n",
            "        [ 2.7703e+03],\n",
            "        [ 3.0176e+02],\n",
            "        [ 1.7045e+02],\n",
            "        [ 1.8320e+03],\n",
            "        [ 2.0365e+03],\n",
            "        [ 2.5160e+03],\n",
            "        [ 1.2462e+03],\n",
            "        [ 1.1518e+02],\n",
            "        [ 5.8622e+02],\n",
            "        [ 1.4078e+02],\n",
            "        [ 7.7792e+02],\n",
            "        [ 9.0400e+00],\n",
            "        [ 3.5525e+02],\n",
            "        [ 4.6570e+01],\n",
            "        [ 3.9016e+02],\n",
            "        [ 2.2099e+03],\n",
            "        [ 8.3005e+00],\n",
            "        [ 1.8921e+03],\n",
            "        [ 8.2468e+02],\n",
            "        [ 2.0354e+03],\n",
            "        [ 1.8552e-01],\n",
            "        [ 1.6291e+03],\n",
            "        [ 2.1714e+03],\n",
            "        [ 3.8224e+03],\n",
            "        [ 8.1473e+02],\n",
            "        [ 4.4726e+02],\n",
            "        [ 2.8107e+02],\n",
            "        [ 1.4323e+02],\n",
            "        [ 5.6719e+01],\n",
            "        [ 2.5655e+02],\n",
            "        [ 2.3565e+00],\n",
            "        [ 5.4521e+02],\n",
            "        [ 1.9708e+03],\n",
            "        [ 6.3820e+02],\n",
            "        [ 1.8290e+03],\n",
            "        [ 3.2225e+03],\n",
            "        [ 5.3387e+02],\n",
            "        [ 4.8099e+03],\n",
            "        [ 9.2434e+02],\n",
            "        [ 3.2464e+00],\n",
            "        [ 2.8125e+03],\n",
            "        [ 4.5740e+02],\n",
            "        [ 2.0331e+03],\n",
            "        [-5.1998e-01],\n",
            "        [ 2.6149e+02],\n",
            "        [ 1.8163e+00],\n",
            "        [ 4.1289e+02],\n",
            "        [ 8.8326e+02],\n",
            "        [ 1.6267e+02],\n",
            "        [ 5.6744e+01],\n",
            "        [ 7.2887e-01],\n",
            "        [ 2.2272e+00],\n",
            "        [ 1.6076e+02],\n",
            "        [ 2.4159e+03],\n",
            "        [ 3.0659e+00],\n",
            "        [ 7.5853e+02],\n",
            "        [ 2.1300e+03],\n",
            "        [ 2.0800e+02],\n",
            "        [ 9.6015e+02],\n",
            "        [ 1.1327e+03],\n",
            "        [ 1.8233e+03],\n",
            "        [ 3.8436e+03],\n",
            "        [ 3.4018e+02],\n",
            "        [ 1.3149e+03],\n",
            "        [ 4.7133e+02],\n",
            "        [ 2.1055e+01],\n",
            "        [ 1.5968e+03],\n",
            "        [ 7.1581e+02],\n",
            "        [ 2.7954e+03],\n",
            "        [ 8.0385e+01],\n",
            "        [ 1.1780e+02],\n",
            "        [ 1.5071e+03],\n",
            "        [ 4.4850e+02],\n",
            "        [ 1.8983e+03],\n",
            "        [ 3.1572e+03],\n",
            "        [ 2.1440e+03],\n",
            "        [ 2.0470e+03],\n",
            "        [ 1.2332e+00],\n",
            "        [ 8.2273e+00],\n",
            "        [ 2.8219e-01],\n",
            "        [ 3.1115e+02],\n",
            "        [ 7.6445e+02],\n",
            "        [ 2.9956e-01],\n",
            "        [ 1.6677e+02]])\n"
          ]
        }
      ]
    },
    {
      "cell_type": "code",
      "source": [
        "# 設定優化器(optimizer)\n",
        "optimizer = torch.optim.Adam(net.parameters(), lr =lr)\n"
      ],
      "metadata": {
        "id": "672H0HWEhKj-"
      },
      "execution_count": null,
      "outputs": []
    },
    {
      "cell_type": "markdown",
      "source": [
        "開始訓練"
      ],
      "metadata": {
        "id": "QPfysNqSTGyn"
      }
    },
    {
      "cell_type": "code",
      "source": [
        "\n",
        "loss_list = []  \n",
        "valid_loss_list = []  \n",
        "for epoch in range(0, epochs):\n",
        "    train_loss = 0.0\n",
        "    correct = 0\n",
        "    net.train()     # Optional when not using Model Specific layer\n",
        "    for batch_idx, (data, target) in enumerate(train_dataloader):\n",
        "        data, target = data.to(device), target.to(device)\n",
        "        if torch.cuda.is_available():\n",
        "            data, target = data.cuda(), target.cuda()\n",
        "        \n",
        "\n",
        "        optimizer.zero_grad()\n",
        "        output = net(data)\n",
        "        loss = euclidean_distance(output,target)\n",
        "        loss.backward()\n",
        "        optimizer.step()\n",
        "        \n",
        "        train_loss += loss.item()\n",
        "        \n",
        "        \n",
        "        # correct += target.eq(labels.view_as(target)).sum().item()\n",
        "    valid_loss = 0.0\n",
        "    net.eval()     # Optional when not using Model Specific layer\n",
        "    for data, labels in valid_dataloader:\n",
        "        if torch.cuda.is_available():\n",
        "            data, labels = data.cuda(), labels.cuda()\n",
        "        \n",
        "        target = net(data)\n",
        "        loss = euclidean_distance(target,labels)\n",
        "        valid_loss += loss.item() \n",
        "\n",
        "    print(f'Epoch {epoch+1} \\t Training Loss: {train_loss / train_size} \\t  Validation Loss: {valid_loss / valid_size}')\n",
        "    loss_list.append(train_loss / train_size)\n",
        "    valid_loss_list.append(valid_loss / valid_size)"
      ],
      "metadata": {
        "id": "kLVZu9MjTHZ2",
        "colab": {
          "base_uri": "https://localhost:8080/"
        },
        "outputId": "83501840-2d0d-4527-a2dd-2f5a4e4a8b15"
      },
      "execution_count": null,
      "outputs": [
        {
          "output_type": "stream",
          "name": "stdout",
          "text": [
            "Epoch 1 \t Training Loss: 131.40570202636718 \t  Validation Loss: 134.649486328125\n",
            "Epoch 2 \t Training Loss: 131.0988324584961 \t  Validation Loss: 134.15135986328124\n",
            "Epoch 3 \t Training Loss: 130.6320506591797 \t  Validation Loss: 133.72598217773438\n",
            "Epoch 4 \t Training Loss: 130.0677855834961 \t  Validation Loss: 133.1303288574219\n",
            "Epoch 5 \t Training Loss: 129.25685888671876 \t  Validation Loss: 131.6502861328125\n",
            "Epoch 6 \t Training Loss: 128.26748516845703 \t  Validation Loss: 131.08717321777343\n",
            "Epoch 7 \t Training Loss: 127.10290301513672 \t  Validation Loss: 129.26749865722655\n",
            "Epoch 8 \t Training Loss: 125.69949426269531 \t  Validation Loss: 128.43869177246094\n",
            "Epoch 9 \t Training Loss: 124.04840008544922 \t  Validation Loss: 126.32139990234376\n",
            "Epoch 10 \t Training Loss: 122.26492706298828 \t  Validation Loss: 125.2806904296875\n",
            "Epoch 11 \t Training Loss: 120.37294781494141 \t  Validation Loss: 123.83430212402344\n",
            "Epoch 12 \t Training Loss: 118.33726208496094 \t  Validation Loss: 120.69951342773437\n",
            "Epoch 13 \t Training Loss: 116.17569116210937 \t  Validation Loss: 119.47156750488281\n",
            "Epoch 14 \t Training Loss: 113.88849816894532 \t  Validation Loss: 116.11169458007812\n",
            "Epoch 15 \t Training Loss: 111.47123999023438 \t  Validation Loss: 113.19566577148437\n",
            "Epoch 16 \t Training Loss: 108.8580380859375 \t  Validation Loss: 110.94624438476562\n",
            "Epoch 17 \t Training Loss: 106.23367016601563 \t  Validation Loss: 108.44405981445313\n",
            "Epoch 18 \t Training Loss: 103.47183941650391 \t  Validation Loss: 105.8541943359375\n",
            "Epoch 19 \t Training Loss: 100.50812683105468 \t  Validation Loss: 104.19652954101562\n",
            "Epoch 20 \t Training Loss: 97.61281671142578 \t  Validation Loss: 97.37043115234376\n",
            "Epoch 21 \t Training Loss: 94.58089532470703 \t  Validation Loss: 97.45947094726563\n",
            "Epoch 22 \t Training Loss: 91.21121047973632 \t  Validation Loss: 95.16900732421875\n",
            "Epoch 23 \t Training Loss: 88.04298022460938 \t  Validation Loss: 90.4745125732422\n",
            "Epoch 24 \t Training Loss: 84.53230407714844 \t  Validation Loss: 89.32380322265625\n",
            "Epoch 25 \t Training Loss: 81.19211373901368 \t  Validation Loss: 85.56966955566406\n",
            "Epoch 26 \t Training Loss: 77.43838854980469 \t  Validation Loss: 82.9776962890625\n",
            "Epoch 27 \t Training Loss: 73.75617028808594 \t  Validation Loss: 79.32558081054688\n",
            "Epoch 28 \t Training Loss: 70.04194995117187 \t  Validation Loss: 76.63241796875\n",
            "Epoch 29 \t Training Loss: 66.2138928527832 \t  Validation Loss: 72.10809509277344\n",
            "Epoch 30 \t Training Loss: 62.37861373901367 \t  Validation Loss: 68.80323669433594\n",
            "Epoch 31 \t Training Loss: 58.754883850097656 \t  Validation Loss: 65.30165319824219\n",
            "Epoch 32 \t Training Loss: 54.49438636779785 \t  Validation Loss: 63.61097650146484\n",
            "Epoch 33 \t Training Loss: 50.5416773223877 \t  Validation Loss: 57.30943560791015\n",
            "Epoch 34 \t Training Loss: 46.650024856567384 \t  Validation Loss: 52.17660125732422\n",
            "Epoch 35 \t Training Loss: 42.880195861816404 \t  Validation Loss: 48.70976452636719\n",
            "Epoch 36 \t Training Loss: 39.72991706085205 \t  Validation Loss: 42.81865350341797\n",
            "Epoch 37 \t Training Loss: 37.02673948669434 \t  Validation Loss: 34.56868249511719\n",
            "Epoch 38 \t Training Loss: 32.41889989471436 \t  Validation Loss: 40.51949420166016\n",
            "Epoch 39 \t Training Loss: 29.180740936279296 \t  Validation Loss: 40.39516827392578\n",
            "Epoch 40 \t Training Loss: 26.772473762512206 \t  Validation Loss: 34.21258355712891\n",
            "Epoch 41 \t Training Loss: 24.461829872131347 \t  Validation Loss: 37.73569561767578\n",
            "Epoch 42 \t Training Loss: 23.492610809326173 \t  Validation Loss: 25.47730484008789\n",
            "Epoch 43 \t Training Loss: 21.673634506225586 \t  Validation Loss: 27.05083493041992\n",
            "Epoch 44 \t Training Loss: 20.783681705474855 \t  Validation Loss: 23.59654281616211\n",
            "Epoch 45 \t Training Loss: 20.36970606994629 \t  Validation Loss: 22.707652587890625\n",
            "Epoch 46 \t Training Loss: 20.16968737030029 \t  Validation Loss: 18.8827053527832\n",
            "Epoch 47 \t Training Loss: 19.3441351852417 \t  Validation Loss: 19.727205505371092\n",
            "Epoch 48 \t Training Loss: 19.260114944458007 \t  Validation Loss: 21.07435272216797\n",
            "Epoch 49 \t Training Loss: 19.07660506439209 \t  Validation Loss: 20.83912127685547\n",
            "Epoch 50 \t Training Loss: 18.77390423965454 \t  Validation Loss: 18.619591339111327\n",
            "Epoch 51 \t Training Loss: 18.881168743133546 \t  Validation Loss: 16.76078158569336\n",
            "Epoch 52 \t Training Loss: 18.6226842918396 \t  Validation Loss: 20.161862976074218\n",
            "Epoch 53 \t Training Loss: 18.577092864990234 \t  Validation Loss: 19.44541259765625\n",
            "Epoch 54 \t Training Loss: 20.156217575073242 \t  Validation Loss: 24.254466094970702\n",
            "Epoch 55 \t Training Loss: 19.220641819000242 \t  Validation Loss: 17.718058868408203\n",
            "Epoch 56 \t Training Loss: 18.50404050064087 \t  Validation Loss: 21.692741333007813\n",
            "Epoch 57 \t Training Loss: 18.752577991485595 \t  Validation Loss: 20.468150482177734\n",
            "Epoch 58 \t Training Loss: 18.119077255249024 \t  Validation Loss: 20.434827941894532\n",
            "Epoch 59 \t Training Loss: 18.13748119735718 \t  Validation Loss: 20.422254974365234\n",
            "Epoch 60 \t Training Loss: 18.03577947998047 \t  Validation Loss: 20.830229309082032\n",
            "Epoch 61 \t Training Loss: 17.982587146759034 \t  Validation Loss: 17.468312316894533\n",
            "Epoch 62 \t Training Loss: 18.24757489013672 \t  Validation Loss: 18.76385336303711\n",
            "Epoch 63 \t Training Loss: 17.92797509765625 \t  Validation Loss: 20.22773910522461\n",
            "Epoch 64 \t Training Loss: 17.861198902130127 \t  Validation Loss: 19.65599008178711\n",
            "Epoch 65 \t Training Loss: 17.743813320159912 \t  Validation Loss: 18.78597589111328\n",
            "Epoch 66 \t Training Loss: 18.0305626411438 \t  Validation Loss: 19.984736389160155\n",
            "Epoch 67 \t Training Loss: 17.639739040374756 \t  Validation Loss: 21.060525909423827\n",
            "Epoch 68 \t Training Loss: 17.926457515716553 \t  Validation Loss: 21.157460052490233\n",
            "Epoch 69 \t Training Loss: 17.752131275177003 \t  Validation Loss: 20.450269317626955\n",
            "Epoch 70 \t Training Loss: 17.893138061523437 \t  Validation Loss: 20.603035369873048\n",
            "Epoch 71 \t Training Loss: 17.626650947570802 \t  Validation Loss: 20.03548471069336\n",
            "Epoch 72 \t Training Loss: 17.556495475769044 \t  Validation Loss: 20.786631805419923\n",
            "Epoch 73 \t Training Loss: 17.520957443237304 \t  Validation Loss: 19.835170318603517\n",
            "Epoch 74 \t Training Loss: 17.424805339813233 \t  Validation Loss: 20.912306091308594\n",
            "Epoch 75 \t Training Loss: 17.496195167541504 \t  Validation Loss: 20.111201751708986\n",
            "Epoch 76 \t Training Loss: 17.220490314483644 \t  Validation Loss: 21.264704406738282\n",
            "Epoch 77 \t Training Loss: 17.17457508087158 \t  Validation Loss: 18.518626220703126\n",
            "Epoch 78 \t Training Loss: 17.207113941192627 \t  Validation Loss: 20.687914825439453\n",
            "Epoch 79 \t Training Loss: 17.070044998168946 \t  Validation Loss: 19.053122955322266\n",
            "Epoch 80 \t Training Loss: 17.083426094055177 \t  Validation Loss: 19.455999603271483\n",
            "Epoch 81 \t Training Loss: 19.074966285705568 \t  Validation Loss: 15.363997283935547\n",
            "Epoch 82 \t Training Loss: 17.58026530456543 \t  Validation Loss: 20.191554931640624\n",
            "Epoch 83 \t Training Loss: 17.194533706665037 \t  Validation Loss: 19.23775573730469\n",
            "Epoch 84 \t Training Loss: 17.134987171173094 \t  Validation Loss: 18.359149810791017\n",
            "Epoch 85 \t Training Loss: 17.179791416168214 \t  Validation Loss: 17.774042358398436\n",
            "Epoch 86 \t Training Loss: 17.052773330688478 \t  Validation Loss: 18.12688754272461\n",
            "Epoch 87 \t Training Loss: 17.05398956680298 \t  Validation Loss: 17.307265441894533\n",
            "Epoch 88 \t Training Loss: 17.295293552398682 \t  Validation Loss: 18.064028198242188\n",
            "Epoch 89 \t Training Loss: 16.920329177856445 \t  Validation Loss: 19.090593017578126\n",
            "Epoch 90 \t Training Loss: 16.95264814758301 \t  Validation Loss: 18.31819174194336\n",
            "Epoch 91 \t Training Loss: 16.88596988296509 \t  Validation Loss: 19.503275482177735\n",
            "Epoch 92 \t Training Loss: 16.800964416503906 \t  Validation Loss: 20.211847229003908\n",
            "Epoch 93 \t Training Loss: 16.932551078796386 \t  Validation Loss: 18.595191497802734\n",
            "Epoch 94 \t Training Loss: 16.836182514190675 \t  Validation Loss: 21.231643798828124\n",
            "Epoch 95 \t Training Loss: 16.807094394683837 \t  Validation Loss: 23.081293548583986\n",
            "Epoch 96 \t Training Loss: 16.519784423828124 \t  Validation Loss: 20.491707122802733\n",
            "Epoch 97 \t Training Loss: 16.49938440322876 \t  Validation Loss: 21.448371246337892\n",
            "Epoch 98 \t Training Loss: 16.72707487487793 \t  Validation Loss: 19.889016662597655\n",
            "Epoch 99 \t Training Loss: 16.67148318862915 \t  Validation Loss: 23.39678515625\n",
            "Epoch 100 \t Training Loss: 16.514638179779052 \t  Validation Loss: 20.11855880737305\n",
            "Epoch 101 \t Training Loss: 16.443217391967774 \t  Validation Loss: 20.758608154296876\n",
            "Epoch 102 \t Training Loss: 16.383271308898927 \t  Validation Loss: 21.688970947265624\n",
            "Epoch 103 \t Training Loss: 16.337973907470705 \t  Validation Loss: 21.062411651611328\n",
            "Epoch 104 \t Training Loss: 16.513068656921387 \t  Validation Loss: 21.68096301269531\n",
            "Epoch 105 \t Training Loss: 16.258683822631834 \t  Validation Loss: 21.999553131103514\n",
            "Epoch 106 \t Training Loss: 16.33503692626953 \t  Validation Loss: 26.40631298828125\n",
            "Epoch 107 \t Training Loss: 16.38501521682739 \t  Validation Loss: 23.318651947021486\n",
            "Epoch 108 \t Training Loss: 16.187308013916017 \t  Validation Loss: 23.552043518066405\n",
            "Epoch 109 \t Training Loss: 16.28515785217285 \t  Validation Loss: 20.482516662597657\n",
            "Epoch 110 \t Training Loss: 16.225466777801515 \t  Validation Loss: 21.815859985351562\n",
            "Epoch 111 \t Training Loss: 16.110172855377197 \t  Validation Loss: 21.724464263916015\n",
            "Epoch 112 \t Training Loss: 16.094311321258544 \t  Validation Loss: 20.699988861083984\n",
            "Epoch 113 \t Training Loss: 16.065734035491943 \t  Validation Loss: 21.532641693115234\n",
            "Epoch 114 \t Training Loss: 16.05044900894165 \t  Validation Loss: 20.650232421875\n",
            "Epoch 115 \t Training Loss: 16.03557899093628 \t  Validation Loss: 20.8361494140625\n",
            "Epoch 116 \t Training Loss: 15.949948463439942 \t  Validation Loss: 23.04086477661133\n",
            "Epoch 117 \t Training Loss: 15.988928714752197 \t  Validation Loss: 20.469820373535157\n",
            "Epoch 118 \t Training Loss: 15.867464405059815 \t  Validation Loss: 21.4158258972168\n",
            "Epoch 119 \t Training Loss: 15.831631790161133 \t  Validation Loss: 21.47207846069336\n",
            "Epoch 120 \t Training Loss: 15.852703769683838 \t  Validation Loss: 21.863248443603517\n",
            "Epoch 121 \t Training Loss: 15.818178844451904 \t  Validation Loss: 21.788047088623046\n",
            "Epoch 122 \t Training Loss: 15.868376064300538 \t  Validation Loss: 22.149242462158202\n",
            "Epoch 123 \t Training Loss: 15.904133152008056 \t  Validation Loss: 21.853612884521485\n",
            "Epoch 124 \t Training Loss: 15.899804790496827 \t  Validation Loss: 22.86903350830078\n",
            "Epoch 125 \t Training Loss: 15.914724731445313 \t  Validation Loss: 20.3613991394043\n",
            "Epoch 126 \t Training Loss: 15.928661743164062 \t  Validation Loss: 20.460035919189455\n",
            "Epoch 127 \t Training Loss: 15.744445217132569 \t  Validation Loss: 21.5160283203125\n",
            "Epoch 128 \t Training Loss: 15.654192794799805 \t  Validation Loss: 22.793920349121095\n",
            "Epoch 129 \t Training Loss: 15.66317195892334 \t  Validation Loss: 20.00162875366211\n",
            "Epoch 130 \t Training Loss: 15.791021209716797 \t  Validation Loss: 24.891161346435545\n",
            "Epoch 131 \t Training Loss: 15.868430320739746 \t  Validation Loss: 27.91942449951172\n",
            "Epoch 132 \t Training Loss: 15.58627490234375 \t  Validation Loss: 23.05125015258789\n",
            "Epoch 133 \t Training Loss: 15.555808681488037 \t  Validation Loss: 21.7889035949707\n",
            "Epoch 134 \t Training Loss: 15.69379762649536 \t  Validation Loss: 20.83615838623047\n",
            "Epoch 135 \t Training Loss: 15.520141857147216 \t  Validation Loss: 23.177515686035157\n",
            "Epoch 136 \t Training Loss: 15.470357391357421 \t  Validation Loss: 21.187827819824218\n",
            "Epoch 137 \t Training Loss: 15.313137298583984 \t  Validation Loss: 24.64549768066406\n",
            "Epoch 138 \t Training Loss: 15.575665000915528 \t  Validation Loss: 20.747237548828124\n",
            "Epoch 139 \t Training Loss: 15.470800174713135 \t  Validation Loss: 21.79475604248047\n",
            "Epoch 140 \t Training Loss: 15.59769310760498 \t  Validation Loss: 21.249574066162108\n",
            "Epoch 141 \t Training Loss: 15.392057178497314 \t  Validation Loss: 24.866817443847655\n",
            "Epoch 142 \t Training Loss: 15.303667385101319 \t  Validation Loss: 25.082902770996093\n",
            "Epoch 143 \t Training Loss: 15.501948738098145 \t  Validation Loss: 20.577054962158204\n",
            "Epoch 144 \t Training Loss: 15.535508235931397 \t  Validation Loss: 24.30097277832031\n",
            "Epoch 145 \t Training Loss: 15.562932655334473 \t  Validation Loss: 20.703171875\n",
            "Epoch 146 \t Training Loss: 15.227264167785645 \t  Validation Loss: 20.29648016357422\n",
            "Epoch 147 \t Training Loss: 15.25526146697998 \t  Validation Loss: 21.94476608276367\n",
            "Epoch 148 \t Training Loss: 15.348819198608398 \t  Validation Loss: 21.424488372802735\n",
            "Epoch 149 \t Training Loss: 15.666244140625 \t  Validation Loss: 21.642403930664063\n",
            "Epoch 150 \t Training Loss: 15.667536903381349 \t  Validation Loss: 21.71386801147461\n",
            "Epoch 151 \t Training Loss: 15.268713302612305 \t  Validation Loss: 21.327734619140625\n",
            "Epoch 152 \t Training Loss: 15.369783905029298 \t  Validation Loss: 22.440485290527345\n",
            "Epoch 153 \t Training Loss: 15.327074729919433 \t  Validation Loss: 24.58022622680664\n",
            "Epoch 154 \t Training Loss: 15.113742038726807 \t  Validation Loss: 19.91784765625\n",
            "Epoch 155 \t Training Loss: 15.216043357849122 \t  Validation Loss: 20.685278564453125\n",
            "Epoch 156 \t Training Loss: 14.98672420501709 \t  Validation Loss: 19.456390747070312\n",
            "Epoch 157 \t Training Loss: 15.178754802703857 \t  Validation Loss: 22.405327606201173\n",
            "Epoch 158 \t Training Loss: 15.043339939117432 \t  Validation Loss: 22.33911294555664\n",
            "Epoch 159 \t Training Loss: 15.209913124084473 \t  Validation Loss: 19.954117126464844\n",
            "Epoch 160 \t Training Loss: 15.295123737335205 \t  Validation Loss: 24.339256622314455\n",
            "Epoch 161 \t Training Loss: 15.022223308563232 \t  Validation Loss: 22.62905630493164\n",
            "Epoch 162 \t Training Loss: 15.17600178527832 \t  Validation Loss: 23.88176104736328\n",
            "Epoch 163 \t Training Loss: 15.113509460449219 \t  Validation Loss: 25.552124267578126\n",
            "Epoch 164 \t Training Loss: 15.052104373931884 \t  Validation Loss: 21.802956451416016\n",
            "Epoch 165 \t Training Loss: 15.121712940216064 \t  Validation Loss: 18.559912231445313\n",
            "Epoch 166 \t Training Loss: 14.813733547210694 \t  Validation Loss: 30.66296597290039\n",
            "Epoch 167 \t Training Loss: 14.856714038848876 \t  Validation Loss: 24.07017840576172\n",
            "Epoch 168 \t Training Loss: 14.869333274841308 \t  Validation Loss: 24.709715209960937\n",
            "Epoch 169 \t Training Loss: 14.957827880859375 \t  Validation Loss: 28.5510947265625\n",
            "Epoch 170 \t Training Loss: 15.208376750946044 \t  Validation Loss: 29.198917694091797\n",
            "Epoch 171 \t Training Loss: 14.7524624710083 \t  Validation Loss: 21.765928161621094\n",
            "Epoch 172 \t Training Loss: 14.57553988647461 \t  Validation Loss: 22.79158773803711\n",
            "Epoch 173 \t Training Loss: 15.0875124168396 \t  Validation Loss: 19.451903137207033\n",
            "Epoch 174 \t Training Loss: 14.989745002746583 \t  Validation Loss: 19.857686553955077\n",
            "Epoch 175 \t Training Loss: 14.803433712005615 \t  Validation Loss: 22.61158251953125\n",
            "Epoch 176 \t Training Loss: 14.403357402801515 \t  Validation Loss: 21.81844580078125\n",
            "Epoch 177 \t Training Loss: 14.861921039581299 \t  Validation Loss: 22.720033294677734\n",
            "Epoch 178 \t Training Loss: 14.627717109680177 \t  Validation Loss: 22.417405151367188\n",
            "Epoch 179 \t Training Loss: 14.363625190734863 \t  Validation Loss: 21.994162841796875\n",
            "Epoch 180 \t Training Loss: 14.714140731811524 \t  Validation Loss: 19.854663482666016\n",
            "Epoch 181 \t Training Loss: 14.365971778869628 \t  Validation Loss: 25.022240295410157\n",
            "Epoch 182 \t Training Loss: 14.803476360321046 \t  Validation Loss: 26.545010650634765\n",
            "Epoch 183 \t Training Loss: 14.678578659057617 \t  Validation Loss: 22.117234619140625\n",
            "Epoch 184 \t Training Loss: 14.493401798248291 \t  Validation Loss: 24.023229583740235\n",
            "Epoch 185 \t Training Loss: 14.429972469329835 \t  Validation Loss: 23.717649963378907\n",
            "Epoch 186 \t Training Loss: 14.456731342315674 \t  Validation Loss: 21.968947052001955\n",
            "Epoch 187 \t Training Loss: 14.253451606750488 \t  Validation Loss: 26.143205596923828\n",
            "Epoch 188 \t Training Loss: 14.411038692474365 \t  Validation Loss: 18.75251937866211\n",
            "Epoch 189 \t Training Loss: 14.314955963134766 \t  Validation Loss: 20.168095336914064\n",
            "Epoch 190 \t Training Loss: 14.235535545349121 \t  Validation Loss: 23.1236379699707\n",
            "Epoch 191 \t Training Loss: 14.02133540725708 \t  Validation Loss: 23.19789483642578\n",
            "Epoch 192 \t Training Loss: 14.131909351348877 \t  Validation Loss: 23.011741638183594\n",
            "Epoch 193 \t Training Loss: 14.092002559661866 \t  Validation Loss: 24.764622497558594\n",
            "Epoch 194 \t Training Loss: 14.361360145568847 \t  Validation Loss: 20.685088928222655\n",
            "Epoch 195 \t Training Loss: 14.278285617828368 \t  Validation Loss: 22.317950134277343\n",
            "Epoch 196 \t Training Loss: 13.885594863891601 \t  Validation Loss: 20.636003143310546\n",
            "Epoch 197 \t Training Loss: 14.074156169891358 \t  Validation Loss: 22.18315414428711\n",
            "Epoch 198 \t Training Loss: 13.965791732788086 \t  Validation Loss: 23.08966549682617\n",
            "Epoch 199 \t Training Loss: 13.992968524932861 \t  Validation Loss: 22.45947555541992\n",
            "Epoch 200 \t Training Loss: 14.25425972366333 \t  Validation Loss: 24.052140197753907\n"
          ]
        }
      ]
    },
    {
      "cell_type": "markdown",
      "source": [
        "畫loss收斂圖"
      ],
      "metadata": {
        "id": "tFqJlcgjTLZV"
      }
    },
    {
      "cell_type": "code",
      "source": [
        "plt.plot(loss_list)\n",
        "plt.plot(valid_loss_list)\n",
        "plt.title('loss')\n",
        "plt.xlabel('epoch')\n",
        "plt.ylabel('loss')\n",
        "plt.legend(['train', 'validation'], loc='center right')\n",
        "plt.show()\n"
      ],
      "metadata": {
        "id": "insagZkfTNEA",
        "colab": {
          "base_uri": "https://localhost:8080/",
          "height": 472
        },
        "outputId": "81e780b9-5679-4412-8afe-c9f0abb6472a"
      },
      "execution_count": null,
      "outputs": [
        {
          "output_type": "display_data",
          "data": {
            "text/plain": [
              "<Figure size 640x480 with 1 Axes>"
            ],
            "image/png": "[encoded data removed]"
          },
          "metadata": {}
        }
      ]
    },
    {
      "cell_type": "markdown",
      "source": [
        "## 自行測試"
      ],
      "metadata": {
        "id": "J5aSEZUATS1m"
      }
    },
    {
      "cell_type": "code",
      "source": [
        "x_test, y_test = gen_data(20)\n",
        "\n",
        "# transform to torch tensor\n",
        "tensor_x_test = torch.Tensor(x_test) \n",
        "tensor_y_test = torch.Tensor(y_test)\n",
        "\n",
        "\n",
        "# create your datset & DataLoader\n",
        "test_dataset = TensorDataset(tensor_x_test, tensor_y_test) \n",
        "test_dataloader = DataLoader(test_dataset, batch_size=batchsize, shuffle=False) "
      ],
      "metadata": {
        "id": "7gtTyb7GTbxM"
      },
      "execution_count": null,
      "outputs": []
    },
    {
      "cell_type": "code",
      "source": [
        "net.eval()\n",
        "test_loss = 0\n",
        "correct = 0\n",
        "with torch.no_grad():\n",
        "    for data, target in test_dataloader:\n",
        "        data, target = data.to(device), target.to(device)\n",
        "        output = net(data)\n",
        "        \n",
        "        # sum up batch loss\n",
        "        test_loss += euclidean_distance(output, target).item()\n",
        "        \n",
        "\n",
        "print('其中三個解:\\n')\n",
        "print(f'\\t座標: {data[:3]},\\n\\t正確解: {target[:3]}\\n\\t預測解: {output[:3]}\\n')\n",
        "\n",
        "# 平均損失\n",
        "test_loss /= len(test_dataloader.dataset)\n",
        "# 顯示測試結果\n",
        "data_count = len(test_dataloader.dataset)\n",
        "print(f'平均損失: {test_loss:.4f}')"
      ],
      "metadata": {
        "colab": {
          "base_uri": "https://localhost:8080/"
        },
        "id": "3lSXRNYNeK84",
        "outputId": "ddb0f9df-7bd0-4ebf-dd5a-11a9a127c738"
      },
      "execution_count": null,
      "outputs": [
        {
          "output_type": "stream",
          "name": "stdout",
          "text": [
            "其中三個解:\n",
            "\n",
            "\t座標: tensor([[-4.2173,  2.9175],\n",
            "        [-3.9942, -3.7482],\n",
            "        [-0.0452, -3.1324]]),\n",
            "\t正確解: tensor([[1525.5886],\n",
            "        [1631.1348],\n",
            "        [ 345.9950]])\n",
            "\t預測解: tensor([[1329.4943],\n",
            "        [1664.8613],\n",
            "        [ 429.7493]])\n",
            "\n",
            "平均損失: 59.2917\n"
          ]
        }
      ]
    }
  ]
}