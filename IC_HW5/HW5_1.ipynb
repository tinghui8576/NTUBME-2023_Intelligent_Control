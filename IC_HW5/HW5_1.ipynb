{
  "cells": [
    {
      "cell_type": "markdown",
      "metadata": {
        "id": "JmY2upFw2cjz"
      },
      "source": [
        "# 1. Import Library"
      ]
    },
    {
      "cell_type": "code",
      "source": [
        "from google.colab import drive\n",
        "drive.mount('/content/drive')"
      ],
      "metadata": {
        "colab": {
          "base_uri": "https://localhost:8080/"
        },
        "id": "H0HF4jif8lsT",
        "outputId": "f330c330-c8e8-464e-c25e-37dce25aeec5"
      },
      "execution_count": null,
      "outputs": [
        {
          "output_type": "stream",
          "name": "stdout",
          "text": [
            "Drive already mounted at /content/drive; to attempt to forcibly remount, call drive.mount(\"/content/drive\", force_remount=True).\n"
          ]
        }
      ]
    },
    {
      "cell_type": "code",
      "execution_count": null,
      "metadata": {
        "id": "dIs7WLxQ2cj3"
      },
      "outputs": [],
      "source": [
        "from keras.datasets import mnist\n",
        "from keras.utils import np_utils\n",
        "import numpy as np\n",
        "import time\n",
        "np.random.seed(10)"
      ]
    },
    {
      "cell_type": "markdown",
      "metadata": {
        "id": "_uUUF_hQ2cj4"
      },
      "source": [
        "# 資料預處理"
      ]
    },
    {
      "cell_type": "markdown",
      "source": [
        "讀取mnist資料"
      ],
      "metadata": {
        "id": "F1e0lOz_by-a"
      }
    },
    {
      "cell_type": "code",
      "execution_count": null,
      "metadata": {
        "id": "yJV_lffC2cj5"
      },
      "outputs": [],
      "source": [
        "(x_Train, y_Train), (x_Test, y_Test) = mnist.load_data()"
      ]
    },
    {
      "cell_type": "markdown",
      "source": [
        "將features 轉換為4維矩陣"
      ],
      "metadata": {
        "id": "AiAbbyl_b3kI"
      }
    },
    {
      "cell_type": "code",
      "execution_count": null,
      "metadata": {
        "id": "bVTDLNYP2cj5"
      },
      "outputs": [],
      "source": [
        "x_Train4D=x_Train.reshape(x_Train.shape[0],28,28,1).astype('float32')\n",
        "x_Test4D=x_Test.reshape(x_Test.shape[0],28,28,1).astype('float32')"
      ]
    },
    {
      "cell_type": "markdown",
      "source": [
        "將features 標準化"
      ],
      "metadata": {
        "id": "CDi5t2p5b49I"
      }
    },
    {
      "cell_type": "code",
      "execution_count": null,
      "metadata": {
        "collapsed": true,
        "id": "noPECbad2cj6"
      },
      "outputs": [],
      "source": [
        "x_Train4D_normalize = x_Train4D / 255\n",
        "x_Test4D_normalize = x_Test4D / 255"
      ]
    },
    {
      "cell_type": "markdown",
      "source": [
        "labal 以onehot encoding轉換"
      ],
      "metadata": {
        "id": "5IPnofkib7PY"
      }
    },
    {
      "cell_type": "code",
      "execution_count": null,
      "metadata": {
        "collapsed": true,
        "id": "1fnWyNcU2cj6"
      },
      "outputs": [],
      "source": [
        "y_TrainOneHot = np_utils.to_categorical(y_Train)\n",
        "y_TestOneHot = np_utils.to_categorical(y_Test)"
      ]
    },
    {
      "cell_type": "markdown",
      "metadata": {
        "id": "0Q-ONdt72cj7"
      },
      "source": [
        "# 建立模型"
      ]
    },
    {
      "cell_type": "markdown",
      "source": [
        "匯入模組"
      ],
      "metadata": {
        "id": "0LmTz2FVcIcB"
      }
    },
    {
      "cell_type": "code",
      "execution_count": null,
      "metadata": {
        "collapsed": true,
        "id": "w2HnYspj2cj8"
      },
      "outputs": [],
      "source": [
        "from keras.models import Sequential\n",
        "from keras.layers import Dense,Dropout,Flatten,Conv2D,MaxPooling2D"
      ]
    },
    {
      "cell_type": "markdown",
      "source": [
        "建立keras的sequential"
      ],
      "metadata": {
        "id": "vVa6iMrLcJ9Q"
      }
    },
    {
      "cell_type": "code",
      "execution_count": null,
      "metadata": {
        "collapsed": true,
        "id": "8tIpddVj2cj8"
      },
      "outputs": [],
      "source": [
        "model = Sequential()"
      ]
    },
    {
      "cell_type": "markdown",
      "source": [
        "建立卷積層1"
      ],
      "metadata": {
        "id": "Uyv_S1GScMI_"
      }
    },
    {
      "cell_type": "code",
      "execution_count": null,
      "metadata": {
        "id": "uIl3X3z62cj9"
      },
      "outputs": [],
      "source": [
        "model.add(Conv2D(filters=16,\n",
        "                 kernel_size=(5,5),\n",
        "                 padding='same',\n",
        "                 input_shape=(28,28,1), \n",
        "                 activation='relu'))"
      ]
    },
    {
      "cell_type": "markdown",
      "source": [
        "建立池化層1"
      ],
      "metadata": {
        "id": "LOIV6TIxcQFP"
      }
    },
    {
      "cell_type": "code",
      "execution_count": null,
      "metadata": {
        "collapsed": true,
        "id": "kR_v_2ul2cj9"
      },
      "outputs": [],
      "source": [
        "model.add(MaxPooling2D(pool_size=(2, 2)))"
      ]
    },
    {
      "cell_type": "markdown",
      "source": [
        "建立卷積層2"
      ],
      "metadata": {
        "id": "tpzPtyy_cZ7H"
      }
    },
    {
      "cell_type": "code",
      "execution_count": null,
      "metadata": {
        "id": "FAvHk8wq2cj9"
      },
      "outputs": [],
      "source": [
        "model.add(Conv2D(filters=36,\n",
        "                 kernel_size=(5,5),\n",
        "                 padding='same',\n",
        "                 activation='relu'))"
      ]
    },
    {
      "cell_type": "markdown",
      "source": [
        "建立池化層2"
      ],
      "metadata": {
        "id": "_-psuafkcb-v"
      }
    },
    {
      "cell_type": "code",
      "execution_count": null,
      "metadata": {
        "collapsed": true,
        "id": "H8IOTQ1z2cj-"
      },
      "outputs": [],
      "source": [
        "model.add(MaxPooling2D(pool_size=(2, 2)))"
      ]
    },
    {
      "cell_type": "markdown",
      "source": [
        "加入Dropout 避免overfitting"
      ],
      "metadata": {
        "id": "cZv6lGVVceWP"
      }
    },
    {
      "cell_type": "code",
      "execution_count": null,
      "metadata": {
        "collapsed": true,
        "id": "m7JTN3S92cj-"
      },
      "outputs": [],
      "source": [
        "model.add(Dropout(0.25))"
      ]
    },
    {
      "cell_type": "markdown",
      "source": [
        "建立神經網路(平坦層、隱藏層、輸出層)\n"
      ],
      "metadata": {
        "id": "x-2hx3STch4f"
      }
    },
    {
      "cell_type": "markdown",
      "source": [
        "建立平坦層"
      ],
      "metadata": {
        "id": "oaPu_9SIdJqX"
      }
    },
    {
      "cell_type": "code",
      "execution_count": null,
      "metadata": {
        "collapsed": true,
        "id": "jL7TYbHi2cj-"
      },
      "outputs": [],
      "source": [
        "model.add(Flatten())"
      ]
    },
    {
      "cell_type": "markdown",
      "source": [
        "建立隱藏層"
      ],
      "metadata": {
        "id": "Yr_eIf3IdQ9g"
      }
    },
    {
      "cell_type": "code",
      "execution_count": null,
      "metadata": {
        "collapsed": true,
        "id": "KigjwiyE2cj-"
      },
      "outputs": [],
      "source": [
        "model.add(Dense(128, activation='relu'))"
      ]
    },
    {
      "cell_type": "code",
      "execution_count": null,
      "metadata": {
        "collapsed": true,
        "id": "lWMPzYSh2cj_"
      },
      "outputs": [],
      "source": [
        "model.add(Dropout(0.5))"
      ]
    },
    {
      "cell_type": "markdown",
      "source": [
        "建立輸出層"
      ],
      "metadata": {
        "id": "aBz9bie6dZOJ"
      }
    },
    {
      "cell_type": "code",
      "execution_count": null,
      "metadata": {
        "collapsed": true,
        "id": "Amc8txE42cj_"
      },
      "outputs": [],
      "source": [
        "model.add(Dense(10,activation='softmax'))"
      ]
    },
    {
      "cell_type": "markdown",
      "source": [
        "查看模型"
      ],
      "metadata": {
        "id": "aiXUHXlIdjZn"
      }
    },
    {
      "cell_type": "code",
      "execution_count": null,
      "metadata": {
        "colab": {
          "base_uri": "https://localhost:8080/"
        },
        "id": "E3Wytqj02cj_",
        "outputId": "ca3e7947-37f2-41e0-c5fa-b87bd6503176"
      },
      "outputs": [
        {
          "output_type": "stream",
          "name": "stdout",
          "text": [
            "Model: \"sequential_2\"\n",
            "_________________________________________________________________\n",
            " Layer (type)                Output Shape              Param #   \n",
            "=================================================================\n",
            " conv2d_4 (Conv2D)           (None, 28, 28, 16)        416       \n",
            "                                                                 \n",
            " max_pooling2d_4 (MaxPooling  (None, 14, 14, 16)       0         \n",
            " 2D)                                                             \n",
            "                                                                 \n",
            " conv2d_5 (Conv2D)           (None, 14, 14, 36)        14436     \n",
            "                                                                 \n",
            " max_pooling2d_5 (MaxPooling  (None, 7, 7, 36)         0         \n",
            " 2D)                                                             \n",
            "                                                                 \n",
            " dropout_4 (Dropout)         (None, 7, 7, 36)          0         \n",
            "                                                                 \n",
            " flatten_2 (Flatten)         (None, 1764)              0         \n",
            "                                                                 \n",
            " dense_4 (Dense)             (None, 128)               225920    \n",
            "                                                                 \n",
            " dropout_5 (Dropout)         (None, 128)               0         \n",
            "                                                                 \n",
            " dense_5 (Dense)             (None, 10)                1290      \n",
            "                                                                 \n",
            "=================================================================\n",
            "Total params: 242,062\n",
            "Trainable params: 242,062\n",
            "Non-trainable params: 0\n",
            "_________________________________________________________________\n",
            "None\n"
          ]
        }
      ],
      "source": [
        "print(model.summary())"
      ]
    },
    {
      "cell_type": "markdown",
      "metadata": {
        "id": "6LwUGG6F2cj_"
      },
      "source": [
        "# 訓練模型"
      ]
    },
    {
      "cell_type": "markdown",
      "source": [
        "定義訓練"
      ],
      "metadata": {
        "id": "Fjsa3LLWdmBv"
      }
    },
    {
      "cell_type": "code",
      "execution_count": null,
      "metadata": {
        "id": "y0cbHAsy2ckA"
      },
      "outputs": [],
      "source": [
        "model.compile(loss='categorical_crossentropy',\n",
        "              optimizer='SGD',metrics=['accuracy']) "
      ]
    },
    {
      "cell_type": "markdown",
      "source": [
        "開始訓練"
      ],
      "metadata": {
        "id": "tRlEiddqdoZX"
      }
    },
    {
      "cell_type": "code",
      "execution_count": null,
      "metadata": {
        "colab": {
          "base_uri": "https://localhost:8080/"
        },
        "id": "NvkViH3q2ckA",
        "outputId": "0ecdc75a-143c-4394-d61a-fcd6aea8b889"
      },
      "outputs": [
        {
          "output_type": "stream",
          "name": "stdout",
          "text": [
            "Epoch 1/100\n",
            "160/160 - 2s - loss: 2.2090 - accuracy: 0.2070 - val_loss: 1.8865 - val_accuracy: 0.7137 - 2s/epoch - 14ms/step\n",
            "Epoch 2/100\n",
            "160/160 - 1s - loss: 1.4611 - accuracy: 0.5395 - val_loss: 0.6792 - val_accuracy: 0.8520 - 1s/epoch - 7ms/step\n",
            "Epoch 3/100\n",
            "160/160 - 1s - loss: 0.8479 - accuracy: 0.7296 - val_loss: 0.4131 - val_accuracy: 0.8976 - 1s/epoch - 9ms/step\n",
            "Epoch 4/100\n",
            "160/160 - 1s - loss: 0.6316 - accuracy: 0.8053 - val_loss: 0.3117 - val_accuracy: 0.9183 - 1s/epoch - 8ms/step\n",
            "Epoch 5/100\n",
            "160/160 - 1s - loss: 0.5149 - accuracy: 0.8426 - val_loss: 0.2576 - val_accuracy: 0.9309 - 1s/epoch - 8ms/step\n",
            "Epoch 6/100\n",
            "160/160 - 1s - loss: 0.4430 - accuracy: 0.8655 - val_loss: 0.2253 - val_accuracy: 0.9383 - 1s/epoch - 7ms/step\n",
            "Epoch 7/100\n",
            "160/160 - 1s - loss: 0.3979 - accuracy: 0.8804 - val_loss: 0.2012 - val_accuracy: 0.9442 - 1s/epoch - 7ms/step\n",
            "Epoch 8/100\n",
            "160/160 - 1s - loss: 0.3552 - accuracy: 0.8947 - val_loss: 0.1831 - val_accuracy: 0.9486 - 1s/epoch - 7ms/step\n",
            "Epoch 9/100\n",
            "160/160 - 1s - loss: 0.3334 - accuracy: 0.9008 - val_loss: 0.1692 - val_accuracy: 0.9532 - 1s/epoch - 7ms/step\n",
            "Epoch 10/100\n",
            "160/160 - 1s - loss: 0.3064 - accuracy: 0.9082 - val_loss: 0.1571 - val_accuracy: 0.9559 - 1s/epoch - 7ms/step\n",
            "Epoch 11/100\n",
            "160/160 - 1s - loss: 0.2866 - accuracy: 0.9138 - val_loss: 0.1480 - val_accuracy: 0.9586 - 1s/epoch - 7ms/step\n",
            "Epoch 12/100\n",
            "160/160 - 1s - loss: 0.2744 - accuracy: 0.9190 - val_loss: 0.1401 - val_accuracy: 0.9606 - 1s/epoch - 7ms/step\n",
            "Epoch 13/100\n",
            "160/160 - 1s - loss: 0.2580 - accuracy: 0.9233 - val_loss: 0.1328 - val_accuracy: 0.9631 - 1s/epoch - 6ms/step\n",
            "Epoch 14/100\n",
            "160/160 - 1s - loss: 0.2441 - accuracy: 0.9270 - val_loss: 0.1266 - val_accuracy: 0.9639 - 1s/epoch - 7ms/step\n",
            "Epoch 15/100\n",
            "160/160 - 1s - loss: 0.2340 - accuracy: 0.9303 - val_loss: 0.1218 - val_accuracy: 0.9647 - 1s/epoch - 8ms/step\n",
            "Epoch 16/100\n",
            "160/160 - 1s - loss: 0.2220 - accuracy: 0.9343 - val_loss: 0.1162 - val_accuracy: 0.9661 - 1s/epoch - 8ms/step\n",
            "Epoch 17/100\n",
            "160/160 - 1s - loss: 0.2162 - accuracy: 0.9363 - val_loss: 0.1144 - val_accuracy: 0.9665 - 1s/epoch - 9ms/step\n",
            "Epoch 18/100\n",
            "160/160 - 1s - loss: 0.2064 - accuracy: 0.9390 - val_loss: 0.1090 - val_accuracy: 0.9680 - 1s/epoch - 7ms/step\n",
            "Epoch 19/100\n",
            "160/160 - 1s - loss: 0.2013 - accuracy: 0.9400 - val_loss: 0.1057 - val_accuracy: 0.9693 - 1s/epoch - 7ms/step\n",
            "Epoch 20/100\n",
            "160/160 - 1s - loss: 0.1976 - accuracy: 0.9422 - val_loss: 0.1027 - val_accuracy: 0.9698 - 1s/epoch - 7ms/step\n",
            "Epoch 21/100\n",
            "160/160 - 1s - loss: 0.1911 - accuracy: 0.9435 - val_loss: 0.0991 - val_accuracy: 0.9712 - 1s/epoch - 7ms/step\n",
            "Epoch 22/100\n",
            "160/160 - 1s - loss: 0.1851 - accuracy: 0.9447 - val_loss: 0.0971 - val_accuracy: 0.9712 - 1s/epoch - 7ms/step\n",
            "Epoch 23/100\n",
            "160/160 - 1s - loss: 0.1789 - accuracy: 0.9469 - val_loss: 0.0956 - val_accuracy: 0.9709 - 1s/epoch - 7ms/step\n",
            "Epoch 24/100\n",
            "160/160 - 1s - loss: 0.1750 - accuracy: 0.9470 - val_loss: 0.0927 - val_accuracy: 0.9722 - 1s/epoch - 7ms/step\n",
            "Epoch 25/100\n",
            "160/160 - 1s - loss: 0.1685 - accuracy: 0.9499 - val_loss: 0.0903 - val_accuracy: 0.9725 - 1s/epoch - 7ms/step\n",
            "Epoch 26/100\n",
            "160/160 - 1s - loss: 0.1714 - accuracy: 0.9494 - val_loss: 0.0892 - val_accuracy: 0.9722 - 1s/epoch - 7ms/step\n",
            "Epoch 27/100\n",
            "160/160 - 1s - loss: 0.1642 - accuracy: 0.9508 - val_loss: 0.0868 - val_accuracy: 0.9734 - 1s/epoch - 7ms/step\n",
            "Epoch 28/100\n",
            "160/160 - 1s - loss: 0.1594 - accuracy: 0.9526 - val_loss: 0.0856 - val_accuracy: 0.9732 - 1s/epoch - 8ms/step\n",
            "Epoch 29/100\n",
            "160/160 - 1s - loss: 0.1582 - accuracy: 0.9535 - val_loss: 0.0844 - val_accuracy: 0.9740 - 1s/epoch - 8ms/step\n",
            "Epoch 30/100\n",
            "160/160 - 1s - loss: 0.1549 - accuracy: 0.9533 - val_loss: 0.0819 - val_accuracy: 0.9751 - 1s/epoch - 7ms/step\n",
            "Epoch 31/100\n",
            "160/160 - 1s - loss: 0.1510 - accuracy: 0.9554 - val_loss: 0.0821 - val_accuracy: 0.9750 - 1s/epoch - 7ms/step\n",
            "Epoch 32/100\n",
            "160/160 - 1s - loss: 0.1467 - accuracy: 0.9561 - val_loss: 0.0793 - val_accuracy: 0.9761 - 1s/epoch - 7ms/step\n",
            "Epoch 33/100\n",
            "160/160 - 1s - loss: 0.1466 - accuracy: 0.9556 - val_loss: 0.0783 - val_accuracy: 0.9763 - 1s/epoch - 7ms/step\n",
            "Epoch 34/100\n",
            "160/160 - 1s - loss: 0.1404 - accuracy: 0.9584 - val_loss: 0.0782 - val_accuracy: 0.9768 - 1s/epoch - 7ms/step\n",
            "Epoch 35/100\n",
            "160/160 - 1s - loss: 0.1394 - accuracy: 0.9592 - val_loss: 0.0761 - val_accuracy: 0.9762 - 1s/epoch - 6ms/step\n",
            "Epoch 36/100\n",
            "160/160 - 1s - loss: 0.1369 - accuracy: 0.9585 - val_loss: 0.0749 - val_accuracy: 0.9774 - 1s/epoch - 7ms/step\n",
            "Epoch 37/100\n",
            "160/160 - 1s - loss: 0.1359 - accuracy: 0.9593 - val_loss: 0.0741 - val_accuracy: 0.9773 - 1s/epoch - 6ms/step\n",
            "Epoch 38/100\n",
            "160/160 - 1s - loss: 0.1355 - accuracy: 0.9591 - val_loss: 0.0730 - val_accuracy: 0.9778 - 1s/epoch - 7ms/step\n",
            "Epoch 39/100\n",
            "160/160 - 1s - loss: 0.1319 - accuracy: 0.9605 - val_loss: 0.0717 - val_accuracy: 0.9782 - 1s/epoch - 7ms/step\n",
            "Epoch 40/100\n",
            "160/160 - 1s - loss: 0.1302 - accuracy: 0.9614 - val_loss: 0.0708 - val_accuracy: 0.9785 - 1s/epoch - 8ms/step\n",
            "Epoch 41/100\n",
            "160/160 - 1s - loss: 0.1303 - accuracy: 0.9604 - val_loss: 0.0706 - val_accuracy: 0.9785 - 1s/epoch - 7ms/step\n",
            "Epoch 42/100\n",
            "160/160 - 1s - loss: 0.1267 - accuracy: 0.9620 - val_loss: 0.0711 - val_accuracy: 0.9789 - 1s/epoch - 7ms/step\n",
            "Epoch 43/100\n",
            "160/160 - 1s - loss: 0.1234 - accuracy: 0.9622 - val_loss: 0.0693 - val_accuracy: 0.9781 - 1s/epoch - 7ms/step\n",
            "Epoch 44/100\n",
            "160/160 - 1s - loss: 0.1211 - accuracy: 0.9632 - val_loss: 0.0677 - val_accuracy: 0.9786 - 1s/epoch - 7ms/step\n",
            "Epoch 45/100\n",
            "160/160 - 1s - loss: 0.1206 - accuracy: 0.9632 - val_loss: 0.0677 - val_accuracy: 0.9788 - 1s/epoch - 6ms/step\n",
            "Epoch 46/100\n",
            "160/160 - 1s - loss: 0.1227 - accuracy: 0.9631 - val_loss: 0.0665 - val_accuracy: 0.9804 - 1s/epoch - 7ms/step\n",
            "Epoch 47/100\n",
            "160/160 - 1s - loss: 0.1197 - accuracy: 0.9649 - val_loss: 0.0659 - val_accuracy: 0.9804 - 1s/epoch - 7ms/step\n",
            "Epoch 48/100\n",
            "160/160 - 1s - loss: 0.1187 - accuracy: 0.9635 - val_loss: 0.0650 - val_accuracy: 0.9796 - 1s/epoch - 7ms/step\n",
            "Epoch 49/100\n",
            "160/160 - 1s - loss: 0.1164 - accuracy: 0.9654 - val_loss: 0.0647 - val_accuracy: 0.9804 - 1s/epoch - 7ms/step\n",
            "Epoch 50/100\n",
            "160/160 - 1s - loss: 0.1163 - accuracy: 0.9650 - val_loss: 0.0640 - val_accuracy: 0.9808 - 1s/epoch - 7ms/step\n",
            "Epoch 51/100\n",
            "160/160 - 1s - loss: 0.1136 - accuracy: 0.9663 - val_loss: 0.0641 - val_accuracy: 0.9803 - 1s/epoch - 7ms/step\n",
            "Epoch 52/100\n",
            "160/160 - 1s - loss: 0.1140 - accuracy: 0.9654 - val_loss: 0.0631 - val_accuracy: 0.9800 - 1s/epoch - 8ms/step\n",
            "Epoch 53/100\n",
            "160/160 - 1s - loss: 0.1132 - accuracy: 0.9660 - val_loss: 0.0629 - val_accuracy: 0.9803 - 1s/epoch - 8ms/step\n",
            "Epoch 54/100\n",
            "160/160 - 1s - loss: 0.1086 - accuracy: 0.9674 - val_loss: 0.0619 - val_accuracy: 0.9814 - 1s/epoch - 8ms/step\n",
            "Epoch 55/100\n",
            "160/160 - 1s - loss: 0.1101 - accuracy: 0.9672 - val_loss: 0.0612 - val_accuracy: 0.9811 - 1s/epoch - 7ms/step\n",
            "Epoch 56/100\n",
            "160/160 - 1s - loss: 0.1086 - accuracy: 0.9665 - val_loss: 0.0614 - val_accuracy: 0.9811 - 1s/epoch - 7ms/step\n",
            "Epoch 57/100\n",
            "160/160 - 1s - loss: 0.1071 - accuracy: 0.9676 - val_loss: 0.0605 - val_accuracy: 0.9813 - 1s/epoch - 7ms/step\n",
            "Epoch 58/100\n",
            "160/160 - 1s - loss: 0.1064 - accuracy: 0.9680 - val_loss: 0.0603 - val_accuracy: 0.9815 - 1s/epoch - 7ms/step\n",
            "Epoch 59/100\n",
            "160/160 - 1s - loss: 0.1048 - accuracy: 0.9681 - val_loss: 0.0601 - val_accuracy: 0.9814 - 1s/epoch - 7ms/step\n",
            "Epoch 60/100\n",
            "160/160 - 1s - loss: 0.1026 - accuracy: 0.9686 - val_loss: 0.0589 - val_accuracy: 0.9822 - 1s/epoch - 7ms/step\n",
            "Epoch 61/100\n",
            "160/160 - 1s - loss: 0.1038 - accuracy: 0.9688 - val_loss: 0.0592 - val_accuracy: 0.9818 - 1s/epoch - 7ms/step\n",
            "Epoch 62/100\n",
            "160/160 - 1s - loss: 0.1009 - accuracy: 0.9696 - val_loss: 0.0586 - val_accuracy: 0.9819 - 1s/epoch - 7ms/step\n",
            "Epoch 63/100\n",
            "160/160 - 1s - loss: 0.1016 - accuracy: 0.9698 - val_loss: 0.0585 - val_accuracy: 0.9821 - 1s/epoch - 7ms/step\n",
            "Epoch 64/100\n",
            "160/160 - 1s - loss: 0.0988 - accuracy: 0.9703 - val_loss: 0.0589 - val_accuracy: 0.9821 - 1s/epoch - 8ms/step\n",
            "Epoch 65/100\n",
            "160/160 - 1s - loss: 0.1023 - accuracy: 0.9697 - val_loss: 0.0581 - val_accuracy: 0.9820 - 1s/epoch - 7ms/step\n",
            "Epoch 66/100\n",
            "160/160 - 1s - loss: 0.0954 - accuracy: 0.9718 - val_loss: 0.0572 - val_accuracy: 0.9827 - 1s/epoch - 8ms/step\n",
            "Epoch 67/100\n",
            "160/160 - 1s - loss: 0.0966 - accuracy: 0.9706 - val_loss: 0.0579 - val_accuracy: 0.9823 - 1s/epoch - 7ms/step\n",
            "Epoch 68/100\n",
            "160/160 - 1s - loss: 0.0950 - accuracy: 0.9710 - val_loss: 0.0574 - val_accuracy: 0.9825 - 1s/epoch - 7ms/step\n",
            "Epoch 69/100\n",
            "160/160 - 1s - loss: 0.0958 - accuracy: 0.9711 - val_loss: 0.0559 - val_accuracy: 0.9820 - 1s/epoch - 7ms/step\n",
            "Epoch 70/100\n",
            "160/160 - 1s - loss: 0.0932 - accuracy: 0.9715 - val_loss: 0.0553 - val_accuracy: 0.9830 - 1s/epoch - 7ms/step\n",
            "Epoch 71/100\n",
            "160/160 - 1s - loss: 0.0931 - accuracy: 0.9717 - val_loss: 0.0552 - val_accuracy: 0.9830 - 1s/epoch - 7ms/step\n",
            "Epoch 72/100\n",
            "160/160 - 1s - loss: 0.0941 - accuracy: 0.9712 - val_loss: 0.0548 - val_accuracy: 0.9830 - 1s/epoch - 7ms/step\n",
            "Epoch 73/100\n",
            "160/160 - 1s - loss: 0.0919 - accuracy: 0.9721 - val_loss: 0.0549 - val_accuracy: 0.9836 - 1s/epoch - 7ms/step\n",
            "Epoch 74/100\n",
            "160/160 - 1s - loss: 0.0926 - accuracy: 0.9723 - val_loss: 0.0546 - val_accuracy: 0.9832 - 1s/epoch - 7ms/step\n",
            "Epoch 75/100\n",
            "160/160 - 1s - loss: 0.0921 - accuracy: 0.9728 - val_loss: 0.0542 - val_accuracy: 0.9838 - 1s/epoch - 8ms/step\n",
            "Epoch 76/100\n",
            "160/160 - 1s - loss: 0.0902 - accuracy: 0.9723 - val_loss: 0.0537 - val_accuracy: 0.9833 - 1s/epoch - 9ms/step\n",
            "Epoch 77/100\n",
            "160/160 - 1s - loss: 0.0902 - accuracy: 0.9731 - val_loss: 0.0533 - val_accuracy: 0.9837 - 1s/epoch - 8ms/step\n",
            "Epoch 78/100\n",
            "160/160 - 1s - loss: 0.0898 - accuracy: 0.9719 - val_loss: 0.0534 - val_accuracy: 0.9837 - 1s/epoch - 7ms/step\n",
            "Epoch 79/100\n",
            "160/160 - 1s - loss: 0.0888 - accuracy: 0.9732 - val_loss: 0.0533 - val_accuracy: 0.9843 - 1s/epoch - 7ms/step\n",
            "Epoch 80/100\n",
            "160/160 - 1s - loss: 0.0879 - accuracy: 0.9732 - val_loss: 0.0523 - val_accuracy: 0.9835 - 1s/epoch - 7ms/step\n",
            "Epoch 81/100\n",
            "160/160 - 1s - loss: 0.0869 - accuracy: 0.9734 - val_loss: 0.0527 - val_accuracy: 0.9834 - 1s/epoch - 7ms/step\n",
            "Epoch 82/100\n",
            "160/160 - 1s - loss: 0.0858 - accuracy: 0.9739 - val_loss: 0.0524 - val_accuracy: 0.9837 - 1s/epoch - 7ms/step\n",
            "Epoch 83/100\n",
            "160/160 - 1s - loss: 0.0869 - accuracy: 0.9730 - val_loss: 0.0520 - val_accuracy: 0.9843 - 1s/epoch - 7ms/step\n",
            "Epoch 84/100\n",
            "160/160 - 1s - loss: 0.0837 - accuracy: 0.9750 - val_loss: 0.0523 - val_accuracy: 0.9847 - 1s/epoch - 7ms/step\n",
            "Epoch 85/100\n",
            "160/160 - 1s - loss: 0.0861 - accuracy: 0.9740 - val_loss: 0.0519 - val_accuracy: 0.9845 - 1s/epoch - 7ms/step\n",
            "Epoch 86/100\n",
            "160/160 - 1s - loss: 0.0852 - accuracy: 0.9739 - val_loss: 0.0515 - val_accuracy: 0.9847 - 1s/epoch - 7ms/step\n",
            "Epoch 87/100\n",
            "160/160 - 1s - loss: 0.0825 - accuracy: 0.9751 - val_loss: 0.0517 - val_accuracy: 0.9847 - 1s/epoch - 8ms/step\n",
            "Epoch 88/100\n",
            "160/160 - 1s - loss: 0.0836 - accuracy: 0.9749 - val_loss: 0.0518 - val_accuracy: 0.9850 - 1s/epoch - 9ms/step\n",
            "Epoch 89/100\n",
            "160/160 - 1s - loss: 0.0820 - accuracy: 0.9747 - val_loss: 0.0506 - val_accuracy: 0.9847 - 1s/epoch - 9ms/step\n",
            "Epoch 90/100\n",
            "160/160 - 1s - loss: 0.0826 - accuracy: 0.9743 - val_loss: 0.0505 - val_accuracy: 0.9847 - 1s/epoch - 7ms/step\n",
            "Epoch 91/100\n",
            "160/160 - 1s - loss: 0.0795 - accuracy: 0.9761 - val_loss: 0.0498 - val_accuracy: 0.9846 - 1s/epoch - 7ms/step\n",
            "Epoch 92/100\n",
            "160/160 - 1s - loss: 0.0811 - accuracy: 0.9755 - val_loss: 0.0499 - val_accuracy: 0.9853 - 1s/epoch - 7ms/step\n",
            "Epoch 93/100\n",
            "160/160 - 1s - loss: 0.0791 - accuracy: 0.9755 - val_loss: 0.0501 - val_accuracy: 0.9852 - 1s/epoch - 7ms/step\n",
            "Epoch 94/100\n",
            "160/160 - 1s - loss: 0.0795 - accuracy: 0.9757 - val_loss: 0.0496 - val_accuracy: 0.9855 - 1s/epoch - 7ms/step\n",
            "Epoch 95/100\n",
            "160/160 - 1s - loss: 0.0807 - accuracy: 0.9751 - val_loss: 0.0501 - val_accuracy: 0.9851 - 1s/epoch - 7ms/step\n",
            "Epoch 96/100\n",
            "160/160 - 1s - loss: 0.0811 - accuracy: 0.9754 - val_loss: 0.0492 - val_accuracy: 0.9858 - 1s/epoch - 7ms/step\n",
            "Epoch 97/100\n",
            "160/160 - 1s - loss: 0.0795 - accuracy: 0.9755 - val_loss: 0.0490 - val_accuracy: 0.9855 - 1s/epoch - 7ms/step\n",
            "Epoch 98/100\n",
            "160/160 - 1s - loss: 0.0788 - accuracy: 0.9757 - val_loss: 0.0485 - val_accuracy: 0.9860 - 1s/epoch - 7ms/step\n",
            "Epoch 99/100\n",
            "160/160 - 1s - loss: 0.0770 - accuracy: 0.9766 - val_loss: 0.0495 - val_accuracy: 0.9861 - 1s/epoch - 8ms/step\n",
            "Epoch 100/100\n",
            "160/160 - 1s - loss: 0.0772 - accuracy: 0.9764 - val_loss: 0.0479 - val_accuracy: 0.9859 - 1s/epoch - 8ms/step\n",
            "142.8320825099945\n"
          ]
        }
      ],
      "source": [
        "t0 = time.time()\n",
        "train_history=model.fit(x=x_Train4D_normalize, \n",
        "            y=y_TrainOneHot,validation_split=0.2, \n",
        "            epochs=100, batch_size=300,verbose=2)\n",
        "print(time.time()-t0)"
      ]
    },
    {
      "cell_type": "code",
      "execution_count": null,
      "metadata": {
        "collapsed": true,
        "id": "_MADsoRx2ckA"
      },
      "outputs": [],
      "source": [
        "import matplotlib.pyplot as plt\n",
        "def show_train_history(train_acc,test_acc):\n",
        "    plt.plot(train_history.history[train_acc])\n",
        "    plt.plot(train_history.history[test_acc])\n",
        "    plt.title('Train History')\n",
        "    plt.ylabel('Accuracy')\n",
        "    plt.xlabel('Epoch')\n",
        "    plt.legend(['train', 'test'], loc='upper left')\n",
        "    plt.show()"
      ]
    },
    {
      "cell_type": "markdown",
      "source": [
        "畫出訓練結果"
      ],
      "metadata": {
        "id": "ju2ABgP_dq0P"
      }
    },
    {
      "cell_type": "code",
      "execution_count": null,
      "metadata": {
        "colab": {
          "base_uri": "https://localhost:8080/"
        },
        "id": "mARb1E3e2ckA",
        "outputId": "e084d8ad-726d-45fa-8a54-3a788bb4d940"
      },
      "outputs": [
        {
          "output_type": "display_data",
          "data": {
            "text/plain": [
              "<Figure size 640x480 with 1 Axes>"
            ],
            "image/png": "[encoded data removed]"
          },
          "metadata": {}
        }
      ],
      "source": [
        "show_train_history('accuracy','val_accuracy')"
      ]
    },
    {
      "cell_type": "markdown",
      "source": [
        "畫出loss誤差執行結果"
      ],
      "metadata": {
        "id": "AR1lbqgfdsr4"
      }
    },
    {
      "cell_type": "code",
      "execution_count": null,
      "metadata": {
        "colab": {
          "base_uri": "https://localhost:8080/"
        },
        "id": "LvgdhFQU2ckB",
        "outputId": "b8f1e4e9-1384-4968-d31c-d732d7efa8c4"
      },
      "outputs": [
        {
          "output_type": "display_data",
          "data": {
            "text/plain": [
              "<Figure size 640x480 with 1 Axes>"
            ],
            "image/png": "[encoded data removed]"
          },
          "metadata": {}
        }
      ],
      "source": [
        "show_train_history('loss','val_loss')"
      ]
    },
    {
      "cell_type": "markdown",
      "metadata": {
        "id": "Di6cD1S22ckB"
      },
      "source": [
        "# 評估模型準確率"
      ]
    },
    {
      "cell_type": "code",
      "execution_count": null,
      "metadata": {
        "colab": {
          "base_uri": "https://localhost:8080/"
        },
        "id": "9aKDx2lI2ckB",
        "outputId": "0862a954-ab7b-40d0-9049-5c082b66a1a8"
      },
      "outputs": [
        {
          "output_type": "stream",
          "name": "stdout",
          "text": [
            "313/313 [==============================] - 1s 3ms/step - loss: 0.0359 - accuracy: 0.9887\n"
          ]
        },
        {
          "output_type": "execute_result",
          "data": {
            "text/plain": [
              "0.9886999726295471"
            ]
          },
          "metadata": {},
          "execution_count": 86
        }
      ],
      "source": [
        "scores = model.evaluate(x_Test4D_normalize , y_TestOneHot)\n",
        "scores[1]"
      ]
    },
    {
      "cell_type": "markdown",
      "metadata": {
        "id": "LbleJlp52ckB"
      },
      "source": [
        "# 預測結果"
      ]
    },
    {
      "cell_type": "code",
      "execution_count": null,
      "metadata": {
        "id": "fawKcl6w2ckB",
        "colab": {
          "base_uri": "https://localhost:8080/"
        },
        "outputId": "b9b09552-83ff-4e27-8214-03b625ed0fdc"
      },
      "outputs": [
        {
          "output_type": "stream",
          "name": "stdout",
          "text": [
            "313/313 [==============================] - 1s 2ms/step\n"
          ]
        }
      ],
      "source": [
        "prediction= np.argmax(model.predict(x_Test),axis=1)"
      ]
    },
    {
      "cell_type": "code",
      "execution_count": null,
      "metadata": {
        "colab": {
          "base_uri": "https://localhost:8080/"
        },
        "id": "WkAN6iLz2ckC",
        "outputId": "a5b9457e-2c7c-448a-db68-4dd952f2298d"
      },
      "outputs": [
        {
          "output_type": "execute_result",
          "data": {
            "text/plain": [
              "array([7, 2, 1, 0, 4, 1, 4, 9, 5, 9])"
            ]
          },
          "metadata": {},
          "execution_count": 88
        }
      ],
      "source": [
        "prediction[:10]"
      ]
    },
    {
      "cell_type": "markdown",
      "metadata": {
        "id": "WC6d2hZ42ckC"
      },
      "source": [
        "# 查看預測結果"
      ]
    },
    {
      "cell_type": "code",
      "execution_count": null,
      "metadata": {
        "collapsed": true,
        "id": "eQkIeCot2ckC"
      },
      "outputs": [],
      "source": [
        "import matplotlib.pyplot as plt\n",
        "def plot_images_labels_prediction(images,labels,prediction,idx,num=10):\n",
        "    fig = plt.gcf()\n",
        "    fig.set_size_inches(12, 14)\n",
        "    if num>25: num=25 \n",
        "    for i in range(0, num):\n",
        "        ax=plt.subplot(5,5, 1+i)\n",
        "        ax.imshow(images[idx], cmap='binary')\n",
        "\n",
        "        ax.set_title(\"label=\" +str(labels[idx])+\n",
        "                     \",predict=\"+str(prediction[idx])\n",
        "                     ,fontsize=10) \n",
        "        \n",
        "        ax.set_xticks([]);ax.set_yticks([])        \n",
        "        idx+=1 \n",
        "    plt.show()"
      ]
    },
    {
      "cell_type": "code",
      "execution_count": null,
      "metadata": {
        "colab": {
          "base_uri": "https://localhost:8080/"
        },
        "id": "2GdpYolE2ckC",
        "outputId": "7fc6cd46-4da0-4c21-b9e3-e5205f343ffb"
      },
      "outputs": [
        {
          "output_type": "display_data",
          "data": {
            "text/plain": [
              "<Figure size 1200x1400 with 10 Axes>"
            ],
            "image/png": "[encoded data removed]"
          },
          "metadata": {}
        }
      ],
      "source": [
        "plot_images_labels_prediction(x_Test,y_Test,prediction,idx=0)"
      ]
    },
    {
      "cell_type": "markdown",
      "metadata": {
        "id": "m_a2s2RV2ckC"
      },
      "source": [
        "# confusion matrix"
      ]
    },
    {
      "cell_type": "code",
      "execution_count": null,
      "metadata": {
        "colab": {
          "base_uri": "https://localhost:8080/"
        },
        "id": "Xql0xTWK2ckD",
        "outputId": "fe6d0c37-4395-45fc-9b9b-c1bd001ac5bb"
      },
      "outputs": [
        {
          "output_type": "execute_result",
          "data": {
            "text/plain": [
              "predict    0     1     2    3    4    5    6     7    8    9\n",
              "label                                                       \n",
              "0        975     1     0    0    0    0    2     1    1    0\n",
              "1          0  1130     2    0    0    0    1     1    1    0\n",
              "2          2     1  1025    0    0    0    0     3    1    0\n",
              "3          1     0     3  993    0    4    0     6    3    0\n",
              "4          0     0     1    0  978    0    2     1    0    0\n",
              "5          2     1     0    2    0  882    3     1    1    0\n",
              "6          5     2     0    0    2    3  945     0    1    0\n",
              "7          1     4     6    1    0    0    0  1014    1    1\n",
              "8          7     0     3    2    2    0    1     2  954    3\n",
              "9          4     6     0    2   10    0    0     8    0  979"
            ],
            "text/html": [
              "\n",
              "  <div id=\"df-fe74c1b2-b98b-440e-b55d-e1e74cd822a2\">\n",
              "    <div class=\"colab-df-container\">\n",
              "      <div>\n",
              "<style scoped>\n",
              "    .dataframe tbody tr th:only-of-type {\n",
              "        vertical-align: middle;\n",
              "    }\n",
              "\n",
              "    .dataframe tbody tr th {\n",
              "        vertical-align: top;\n",
              "    }\n",
              "\n",
              "    .dataframe thead th {\n",
              "        text-align: right;\n",
              "    }\n",
              "</style>\n",
              "<table border=\"1\" class=\"dataframe\">\n",
              "  <thead>\n",
              "    <tr style=\"text-align: right;\">\n",
              "      <th>predict</th>\n",
              "      <th>0</th>\n",
              "      <th>1</th>\n",
              "      <th>2</th>\n",
              "      <th>3</th>\n",
              "      <th>4</th>\n",
              "      <th>5</th>\n",
              "      <th>6</th>\n",
              "      <th>7</th>\n",
              "      <th>8</th>\n",
              "      <th>9</th>\n",
              "    </tr>\n",
              "    <tr>\n",
              "      <th>label</th>\n",
              "      <th></th>\n",
              "      <th></th>\n",
              "      <th></th>\n",
              "      <th></th>\n",
              "      <th></th>\n",
              "      <th></th>\n",
              "      <th></th>\n",
              "      <th></th>\n",
              "      <th></th>\n",
              "      <th></th>\n",
              "    </tr>\n",
              "  </thead>\n",
              "  <tbody>\n",
              "    <tr>\n",
              "      <th>0</th>\n",
              "      <td>975</td>\n",
              "      <td>1</td>\n",
              "      <td>0</td>\n",
              "      <td>0</td>\n",
              "      <td>0</td>\n",
              "      <td>0</td>\n",
              "      <td>2</td>\n",
              "      <td>1</td>\n",
              "      <td>1</td>\n",
              "      <td>0</td>\n",
              "    </tr>\n",
              "    <tr>\n",
              "      <th>1</th>\n",
              "      <td>0</td>\n",
              "      <td>1130</td>\n",
              "      <td>2</td>\n",
              "      <td>0</td>\n",
              "      <td>0</td>\n",
              "      <td>0</td>\n",
              "      <td>1</td>\n",
              "      <td>1</td>\n",
              "      <td>1</td>\n",
              "      <td>0</td>\n",
              "    </tr>\n",
              "    <tr>\n",
              "      <th>2</th>\n",
              "      <td>2</td>\n",
              "      <td>1</td>\n",
              "      <td>1025</td>\n",
              "      <td>0</td>\n",
              "      <td>0</td>\n",
              "      <td>0</td>\n",
              "      <td>0</td>\n",
              "      <td>3</td>\n",
              "      <td>1</td>\n",
              "      <td>0</td>\n",
              "    </tr>\n",
              "    <tr>\n",
              "      <th>3</th>\n",
              "      <td>1</td>\n",
              "      <td>0</td>\n",
              "      <td>3</td>\n",
              "      <td>993</td>\n",
              "      <td>0</td>\n",
              "      <td>4</td>\n",
              "      <td>0</td>\n",
              "      <td>6</td>\n",
              "      <td>3</td>\n",
              "      <td>0</td>\n",
              "    </tr>\n",
              "    <tr>\n",
              "      <th>4</th>\n",
              "      <td>0</td>\n",
              "      <td>0</td>\n",
              "      <td>1</td>\n",
              "      <td>0</td>\n",
              "      <td>978</td>\n",
              "      <td>0</td>\n",
              "      <td>2</td>\n",
              "      <td>1</td>\n",
              "      <td>0</td>\n",
              "      <td>0</td>\n",
              "    </tr>\n",
              "    <tr>\n",
              "      <th>5</th>\n",
              "      <td>2</td>\n",
              "      <td>1</td>\n",
              "      <td>0</td>\n",
              "      <td>2</td>\n",
              "      <td>0</td>\n",
              "      <td>882</td>\n",
              "      <td>3</td>\n",
              "      <td>1</td>\n",
              "      <td>1</td>\n",
              "      <td>0</td>\n",
              "    </tr>\n",
              "    <tr>\n",
              "      <th>6</th>\n",
              "      <td>5</td>\n",
              "      <td>2</td>\n",
              "      <td>0</td>\n",
              "      <td>0</td>\n",
              "      <td>2</td>\n",
              "      <td>3</td>\n",
              "      <td>945</td>\n",
              "      <td>0</td>\n",
              "      <td>1</td>\n",
              "      <td>0</td>\n",
              "    </tr>\n",
              "    <tr>\n",
              "      <th>7</th>\n",
              "      <td>1</td>\n",
              "      <td>4</td>\n",
              "      <td>6</td>\n",
              "      <td>1</td>\n",
              "      <td>0</td>\n",
              "      <td>0</td>\n",
              "      <td>0</td>\n",
              "      <td>1014</td>\n",
              "      <td>1</td>\n",
              "      <td>1</td>\n",
              "    </tr>\n",
              "    <tr>\n",
              "      <th>8</th>\n",
              "      <td>7</td>\n",
              "      <td>0</td>\n",
              "      <td>3</td>\n",
              "      <td>2</td>\n",
              "      <td>2</td>\n",
              "      <td>0</td>\n",
              "      <td>1</td>\n",
              "      <td>2</td>\n",
              "      <td>954</td>\n",
              "      <td>3</td>\n",
              "    </tr>\n",
              "    <tr>\n",
              "      <th>9</th>\n",
              "      <td>4</td>\n",
              "      <td>6</td>\n",
              "      <td>0</td>\n",
              "      <td>2</td>\n",
              "      <td>10</td>\n",
              "      <td>0</td>\n",
              "      <td>0</td>\n",
              "      <td>8</td>\n",
              "      <td>0</td>\n",
              "      <td>979</td>\n",
              "    </tr>\n",
              "  </tbody>\n",
              "</table>\n",
              "</div>\n",
              "      <button class=\"colab-df-convert\" onclick=\"convertToInteractive('df-fe74c1b2-b98b-440e-b55d-e1e74cd822a2')\"\n",
              "              title=\"Convert this dataframe to an interactive table.\"\n",
              "              style=\"display:none;\">\n",
              "        \n",
              "  <svg xmlns=\"http://www.w3.org/2000/svg\" height=\"24px\"viewBox=\"0 0 24 24\"\n",
              "       width=\"24px\">\n",
              "    <path d=\"M0 0h24v24H0V0z\" fill=\"none\"/>\n",
              "    <path d=\"M18.56 5.44l.94 2.06.94-2.06 2.06-.94-2.06-.94-.94-2.06-.94 2.06-2.06.94zm-11 1L8.5 8.5l.94-2.06 2.06-.94-2.06-.94L8.5 2.5l-.94 2.06-2.06.94zm10 10l.94 2.06.94-2.06 2.06-.94-2.06-.94-.94-2.06-.94 2.06-2.06.94z\"/><path d=\"M17.41 7.96l-1.37-1.37c-.4-.4-.92-.59-1.43-.59-.52 0-1.04.2-1.43.59L10.3 9.45l-7.72 7.72c-.78.78-.78 2.05 0 2.83L4 21.41c.39.39.9.59 1.41.59.51 0 1.02-.2 1.41-.59l7.78-7.78 2.81-2.81c.8-.78.8-2.07 0-2.86zM5.41 20L4 18.59l7.72-7.72 1.47 1.35L5.41 20z\"/>\n",
              "  </svg>\n",
              "      </button>\n",
              "      \n",
              "  <style>\n",
              "    .colab-df-container {\n",
              "      display:flex;\n",
              "      flex-wrap:wrap;\n",
              "      gap: 12px;\n",
              "    }\n",
              "\n",
              "    .colab-df-convert {\n",
              "      background-color: #E8F0FE;\n",
              "      border: none;\n",
              "      border-radius: 50%;\n",
              "      cursor: pointer;\n",
              "      display: none;\n",
              "      fill: #1967D2;\n",
              "      height: 32px;\n",
              "      padding: 0 0 0 0;\n",
              "      width: 32px;\n",
              "    }\n",
              "\n",
              "    .colab-df-convert:hover {\n",
              "      background-color: #E2EBFA;\n",
              "      box-shadow: 0px 1px 2px rgba(60, 64, 67, 0.3), 0px 1px 3px 1px rgba(60, 64, 67, 0.15);\n",
              "      fill: #174EA6;\n",
              "    }\n",
              "\n",
              "    [theme=dark] .colab-df-convert {\n",
              "      background-color: #3B4455;\n",
              "      fill: #D2E3FC;\n",
              "    }\n",
              "\n",
              "    [theme=dark] .colab-df-convert:hover {\n",
              "      background-color: #434B5C;\n",
              "      box-shadow: 0px 1px 3px 1px rgba(0, 0, 0, 0.15);\n",
              "      filter: drop-shadow(0px 1px 2px rgba(0, 0, 0, 0.3));\n",
              "      fill: #FFFFFF;\n",
              "    }\n",
              "  </style>\n",
              "\n",
              "      <script>\n",
              "        const buttonEl =\n",
              "          document.querySelector('#df-fe74c1b2-b98b-440e-b55d-e1e74cd822a2 button.colab-df-convert');\n",
              "        buttonEl.style.display =\n",
              "          google.colab.kernel.accessAllowed ? 'block' : 'none';\n",
              "\n",
              "        async function convertToInteractive(key) {\n",
              "          const element = document.querySelector('#df-fe74c1b2-b98b-440e-b55d-e1e74cd822a2');\n",
              "          const dataTable =\n",
              "            await google.colab.kernel.invokeFunction('convertToInteractive',\n",
              "                                                     [key], {});\n",
              "          if (!dataTable) return;\n",
              "\n",
              "          const docLinkHtml = 'Like what you see? Visit the ' +\n",
              "            '<a target=\"_blank\" href=https://colab.research.google.com/notebooks/data_table.ipynb>data table notebook</a>'\n",
              "            + ' to learn more about interactive tables.';\n",
              "          element.innerHTML = '';\n",
              "          dataTable['output_type'] = 'display_data';\n",
              "          await google.colab.output.renderOutput(dataTable, element);\n",
              "          const docLink = document.createElement('div');\n",
              "          docLink.innerHTML = docLinkHtml;\n",
              "          element.appendChild(docLink);\n",
              "        }\n",
              "      </script>\n",
              "    </div>\n",
              "  </div>\n",
              "  "
            ]
          },
          "metadata": {},
          "execution_count": 91
        }
      ],
      "source": [
        "import pandas as pd\n",
        "pd.crosstab(y_Test,prediction,\n",
        "            rownames=['label'],colnames=['predict'])"
      ]
    },
    {
      "cell_type": "code",
      "execution_count": null,
      "metadata": {
        "id": "fYmrZ-752ckD"
      },
      "outputs": [],
      "source": [
        "df = pd.DataFrame({'label':y_Test, 'predict':prediction})"
      ]
    },
    {
      "cell_type": "code",
      "execution_count": null,
      "metadata": {
        "colab": {
          "base_uri": "https://localhost:8080/"
        },
        "id": "aCWaCOpa2ckD",
        "outputId": "ee694674-2c3a-4734-d21b-6d472ce32876"
      },
      "outputs": [
        {
          "output_type": "execute_result",
          "data": {
            "text/plain": [
              "      label  predict\n",
              "1393      5        3\n",
              "2035      5        3"
            ],
            "text/html": [
              "\n",
              "  <div id=\"df-f1e89a58-b68e-4928-9a3b-647f25b9f4e4\">\n",
              "    <div class=\"colab-df-container\">\n",
              "      <div>\n",
              "<style scoped>\n",
              "    .dataframe tbody tr th:only-of-type {\n",
              "        vertical-align: middle;\n",
              "    }\n",
              "\n",
              "    .dataframe tbody tr th {\n",
              "        vertical-align: top;\n",
              "    }\n",
              "\n",
              "    .dataframe thead th {\n",
              "        text-align: right;\n",
              "    }\n",
              "</style>\n",
              "<table border=\"1\" class=\"dataframe\">\n",
              "  <thead>\n",
              "    <tr style=\"text-align: right;\">\n",
              "      <th></th>\n",
              "      <th>label</th>\n",
              "      <th>predict</th>\n",
              "    </tr>\n",
              "  </thead>\n",
              "  <tbody>\n",
              "    <tr>\n",
              "      <th>1393</th>\n",
              "      <td>5</td>\n",
              "      <td>3</td>\n",
              "    </tr>\n",
              "    <tr>\n",
              "      <th>2035</th>\n",
              "      <td>5</td>\n",
              "      <td>3</td>\n",
              "    </tr>\n",
              "  </tbody>\n",
              "</table>\n",
              "</div>\n",
              "      <button class=\"colab-df-convert\" onclick=\"convertToInteractive('df-f1e89a58-b68e-4928-9a3b-647f25b9f4e4')\"\n",
              "              title=\"Convert this dataframe to an interactive table.\"\n",
              "              style=\"display:none;\">\n",
              "        \n",
              "  <svg xmlns=\"http://www.w3.org/2000/svg\" height=\"24px\"viewBox=\"0 0 24 24\"\n",
              "       width=\"24px\">\n",
              "    <path d=\"M0 0h24v24H0V0z\" fill=\"none\"/>\n",
              "    <path d=\"M18.56 5.44l.94 2.06.94-2.06 2.06-.94-2.06-.94-.94-2.06-.94 2.06-2.06.94zm-11 1L8.5 8.5l.94-2.06 2.06-.94-2.06-.94L8.5 2.5l-.94 2.06-2.06.94zm10 10l.94 2.06.94-2.06 2.06-.94-2.06-.94-.94-2.06-.94 2.06-2.06.94z\"/><path d=\"M17.41 7.96l-1.37-1.37c-.4-.4-.92-.59-1.43-.59-.52 0-1.04.2-1.43.59L10.3 9.45l-7.72 7.72c-.78.78-.78 2.05 0 2.83L4 21.41c.39.39.9.59 1.41.59.51 0 1.02-.2 1.41-.59l7.78-7.78 2.81-2.81c.8-.78.8-2.07 0-2.86zM5.41 20L4 18.59l7.72-7.72 1.47 1.35L5.41 20z\"/>\n",
              "  </svg>\n",
              "      </button>\n",
              "      \n",
              "  <style>\n",
              "    .colab-df-container {\n",
              "      display:flex;\n",
              "      flex-wrap:wrap;\n",
              "      gap: 12px;\n",
              "    }\n",
              "\n",
              "    .colab-df-convert {\n",
              "      background-color: #E8F0FE;\n",
              "      border: none;\n",
              "      border-radius: 50%;\n",
              "      cursor: pointer;\n",
              "      display: none;\n",
              "      fill: #1967D2;\n",
              "      height: 32px;\n",
              "      padding: 0 0 0 0;\n",
              "      width: 32px;\n",
              "    }\n",
              "\n",
              "    .colab-df-convert:hover {\n",
              "      background-color: #E2EBFA;\n",
              "      box-shadow: 0px 1px 2px rgba(60, 64, 67, 0.3), 0px 1px 3px 1px rgba(60, 64, 67, 0.15);\n",
              "      fill: #174EA6;\n",
              "    }\n",
              "\n",
              "    [theme=dark] .colab-df-convert {\n",
              "      background-color: #3B4455;\n",
              "      fill: #D2E3FC;\n",
              "    }\n",
              "\n",
              "    [theme=dark] .colab-df-convert:hover {\n",
              "      background-color: #434B5C;\n",
              "      box-shadow: 0px 1px 3px 1px rgba(0, 0, 0, 0.15);\n",
              "      filter: drop-shadow(0px 1px 2px rgba(0, 0, 0, 0.3));\n",
              "      fill: #FFFFFF;\n",
              "    }\n",
              "  </style>\n",
              "\n",
              "      <script>\n",
              "        const buttonEl =\n",
              "          document.querySelector('#df-f1e89a58-b68e-4928-9a3b-647f25b9f4e4 button.colab-df-convert');\n",
              "        buttonEl.style.display =\n",
              "          google.colab.kernel.accessAllowed ? 'block' : 'none';\n",
              "\n",
              "        async function convertToInteractive(key) {\n",
              "          const element = document.querySelector('#df-f1e89a58-b68e-4928-9a3b-647f25b9f4e4');\n",
              "          const dataTable =\n",
              "            await google.colab.kernel.invokeFunction('convertToInteractive',\n",
              "                                                     [key], {});\n",
              "          if (!dataTable) return;\n",
              "\n",
              "          const docLinkHtml = 'Like what you see? Visit the ' +\n",
              "            '<a target=\"_blank\" href=https://colab.research.google.com/notebooks/data_table.ipynb>data table notebook</a>'\n",
              "            + ' to learn more about interactive tables.';\n",
              "          element.innerHTML = '';\n",
              "          dataTable['output_type'] = 'display_data';\n",
              "          await google.colab.output.renderOutput(dataTable, element);\n",
              "          const docLink = document.createElement('div');\n",
              "          docLink.innerHTML = docLinkHtml;\n",
              "          element.appendChild(docLink);\n",
              "        }\n",
              "      </script>\n",
              "    </div>\n",
              "  </div>\n",
              "  "
            ]
          },
          "metadata": {},
          "execution_count": 93
        }
      ],
      "source": [
        "df[(df.label==5)&(df.predict==3)]"
      ]
    }
  ],
  "metadata": {
    "anaconda-cloud": {},
    "kernelspec": {
      "display_name": "Python 3",
      "language": "python",
      "name": "python3"
    },
    "language_info": {
      "codemirror_mode": {
        "name": "ipython",
        "version": 3
      },
      "file_extension": ".py",
      "mimetype": "text/x-python",
      "name": "python",
      "nbconvert_exporter": "python",
      "pygments_lexer": "ipython3",
      "version": "3.5.3"
    },
    "colab": {
      "provenance": []
    },
    "accelerator": "GPU"
  },
  "nbformat": 4,
  "nbformat_minor": 0
}