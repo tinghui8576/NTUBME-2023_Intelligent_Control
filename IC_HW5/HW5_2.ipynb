{
  "cells": [
    {
      "cell_type": "markdown",
      "metadata": {
        "id": "5QOa6XS0VbEC"
      },
      "source": [
        "# 1. Import Library"
      ]
    },
    {
      "cell_type": "code",
      "execution_count": null,
      "metadata": {
        "id": "4Ro-69M1VbEF"
      },
      "outputs": [],
      "source": [
        "from keras.datasets import cifar10\n",
        "import numpy as np\n",
        "import random\n",
        "np.random.seed(10)"
      ]
    },
    {
      "cell_type": "markdown",
      "metadata": {
        "id": "dld3bCU7VbEG"
      },
      "source": [
        "# 資料準備"
      ]
    },
    {
      "cell_type": "code",
      "execution_count": null,
      "metadata": {
        "id": "DOCiNYJlVbEH"
      },
      "outputs": [],
      "source": [
        "(x_img_train,y_label_train),(x_img_test,y_label_test)=cifar10.load_data()"
      ]
    },
    {
      "cell_type": "markdown",
      "source": [
        "自動下載data set"
      ],
      "metadata": {
        "id": "L6cFGQrweBLG"
      }
    },
    {
      "cell_type": "code",
      "execution_count": null,
      "metadata": {
        "colab": {
          "base_uri": "https://localhost:8080/"
        },
        "id": "YKHihacaVbEH",
        "outputId": "3357b5d2-1d5b-498c-aca4-bcab681cb051"
      },
      "outputs": [
        {
          "output_type": "stream",
          "name": "stdout",
          "text": [
            "train data: images: (50000, 32, 32, 3)  labels: (50000, 1)\n",
            "test  data: images: (10000, 32, 32, 3)  labels: (10000, 1)\n"
          ]
        }
      ],
      "source": [
        "print(\"train data:\",'images:',x_img_train.shape,\n",
        "      \" labels:\",y_label_train.shape) \n",
        "print(\"test  data:\",'images:',x_img_test.shape ,\n",
        "      \" labels:\",y_label_test.shape) "
      ]
    },
    {
      "cell_type": "markdown",
      "source": [
        "順序標記訓練集和測試集的(資料數量,形狀和通道數量)\n",
        "例:(50000筆,像素32*32,RGB圖片通道為3)"
      ],
      "metadata": {
        "id": "73HGjZhXeLvF"
      }
    },
    {
      "cell_type": "code",
      "execution_count": null,
      "metadata": {
        "id": "TG62WQJrVbEI"
      },
      "outputs": [],
      "source": [
        "x_img_train_normalize = x_img_train.astype('float32') / 255.0\n",
        "x_img_test_normalize = x_img_test.astype('float32') / 255.0"
      ]
    },
    {
      "cell_type": "markdown",
      "source": [
        "因為圖片像素數據以0到255表達，因此將數據(圖片)除以255,進行標準化,提高準確率"
      ],
      "metadata": {
        "id": "9FEp1tzLeWq7"
      }
    },
    {
      "cell_type": "code",
      "execution_count": null,
      "metadata": {
        "id": "YEnPfn1yVbEI"
      },
      "outputs": [],
      "source": [
        "from keras.utils import np_utils\n",
        "y_label_train_OneHot = np_utils.to_categorical(y_label_train)\n",
        "y_label_test_OneHot = np_utils.to_categorical(y_label_test)"
      ]
    },
    {
      "cell_type": "markdown",
      "source": [
        "將圖片預先做好的標籤欄位轉換為Onehot encoding,方便後續繪制圖表時直接代入標籤文字"
      ],
      "metadata": {
        "id": "mdlSCouSf-h1"
      }
    },
    {
      "cell_type": "code",
      "execution_count": null,
      "metadata": {
        "colab": {
          "base_uri": "https://localhost:8080/"
        },
        "id": "OWWaedrVVbEJ",
        "outputId": "00c49749-f1d8-41b7-bd6d-72edabc4920e"
      },
      "outputs": [
        {
          "output_type": "execute_result",
          "data": {
            "text/plain": [
              "(10000, 10)"
            ]
          },
          "metadata": {},
          "execution_count": 276
        }
      ],
      "source": [
        "y_label_test_OneHot.shape"
      ]
    },
    {
      "cell_type": "markdown",
      "source": [
        "執行結果,數量為被處理的圖片數量"
      ],
      "metadata": {
        "id": "L2iTfAS9gfxt"
      }
    },
    {
      "cell_type": "markdown",
      "metadata": {
        "id": "OcSc3MdsVbEJ"
      },
      "source": [
        "# 建立模型"
      ]
    },
    {
      "cell_type": "code",
      "execution_count": null,
      "metadata": {
        "id": "HpROJCRyVbEK"
      },
      "outputs": [],
      "source": [
        "from keras.models import Sequential\n",
        "from keras.layers import Dense, Dropout, Activation, Flatten\n",
        "from keras.layers import Conv2D, MaxPooling2D, ZeroPadding2D"
      ]
    },
    {
      "cell_type": "code",
      "execution_count": null,
      "metadata": {
        "id": "qRyQ9pdLVbEK"
      },
      "outputs": [],
      "source": [
        "model = Sequential()"
      ]
    },
    {
      "cell_type": "markdown",
      "source": [
        "建立一個Sequential線性堆疊模型,往下便可以直接順序加入模型"
      ],
      "metadata": {
        "id": "xOmYvtZFg5Pc"
      }
    },
    {
      "cell_type": "code",
      "execution_count": null,
      "metadata": {
        "id": "pRPyTbKRVbEK"
      },
      "outputs": [],
      "source": [
        "#卷積層1"
      ]
    },
    {
      "cell_type": "code",
      "execution_count": null,
      "metadata": {
        "id": "uRd84oBQVbEL"
      },
      "outputs": [],
      "source": [
        "model.add(Conv2D(filters=32,kernel_size=(3,3),\n",
        "                 input_shape=(32, 32,3), \n",
        "                 activation='relu', \n",
        "                 padding='same'))"
      ]
    },
    {
      "cell_type": "markdown",
      "source": [
        "filters:隨機產生32個濾鏡filters weight\n",
        "\n",
        "kernel size(3,3):每一個濾鏡3*3大小\n",
        "\n",
        "input shape:輸入圖像格式,Cifar資料集像素為32*32,RGB的三原色通道為3\n",
        "\n",
        "activation:使用relu激活函數\n",
        "\n",
        "padding:設定讓卷積運算後的影像大小不變"
      ],
      "metadata": {
        "id": "2doHgt-ahNw1"
      }
    },
    {
      "cell_type": "code",
      "execution_count": null,
      "metadata": {
        "id": "z_n1jaUVVbEL"
      },
      "outputs": [],
      "source": [
        "model.add(Dropout(rate=0.25))"
      ]
    },
    {
      "cell_type": "markdown",
      "source": [
        "每次訓練迭代會隨機放棄神經網路中的25%神經元,避免overfitting"
      ],
      "metadata": {
        "id": "EfHXcrg_icWb"
      }
    },
    {
      "cell_type": "code",
      "execution_count": null,
      "metadata": {
        "id": "YIqFx6sFVbEL"
      },
      "outputs": [],
      "source": [
        "model.add(MaxPooling2D(pool_size=(2, 2)))"
      ]
    },
    {
      "cell_type": "markdown",
      "source": [
        "建立池化層,(2,2)的意思為將(32,32)除以(2,2),把影像縮小為(16,16),但是數量仍保持32個"
      ],
      "metadata": {
        "id": "vVKzSlG9iz5t"
      }
    },
    {
      "cell_type": "code",
      "execution_count": null,
      "metadata": {
        "id": "MeKTCIRQVbEL"
      },
      "outputs": [],
      "source": [
        "#卷積層2與池化層2"
      ]
    },
    {
      "cell_type": "code",
      "execution_count": null,
      "metadata": {
        "id": "Drtyrqt3VbEM"
      },
      "outputs": [],
      "source": [
        "model.add(Conv2D(filters=64, kernel_size=(3, 3), \n",
        "                 activation='relu', padding='same'))"
      ]
    },
    {
      "cell_type": "code",
      "execution_count": null,
      "metadata": {
        "id": "cxol0iOQVbEM"
      },
      "outputs": [],
      "source": [
        "model.add(Dropout(0.25))"
      ]
    },
    {
      "cell_type": "code",
      "execution_count": null,
      "metadata": {
        "id": "t2NMW_y-VbEM"
      },
      "outputs": [],
      "source": [
        "model.add(MaxPooling2D(pool_size=(2, 2)))"
      ]
    },
    {
      "cell_type": "code",
      "source": [
        "#卷積層3與池化層3\n",
        "model.add(Conv2D(filters=32, kernel_size=(3, 3), \n",
        "                 activation='relu', padding='same'))\n",
        "model.add(Dropout(0.25))\n",
        "model.add(MaxPooling2D(pool_size=(2, 2)))"
      ],
      "metadata": {
        "id": "tU-3yPAoxSIm"
      },
      "execution_count": null,
      "outputs": []
    },
    {
      "cell_type": "code",
      "execution_count": null,
      "metadata": {
        "id": "OuoN-w_yVbEM"
      },
      "outputs": [],
      "source": [
        "#Step3\t建立神經網路(平坦層、隱藏層、輸出層)"
      ]
    },
    {
      "cell_type": "code",
      "execution_count": null,
      "metadata": {
        "id": "VgM3Dx5HVbEN"
      },
      "outputs": [],
      "source": [
        "model.add(Flatten())\n",
        "model.add(Dropout(rate=0.25))"
      ]
    },
    {
      "cell_type": "markdown",
      "source": [
        "建立平坦層,8x8x64=4096,剛好等於上一個池化層的神經元數量,\n",
        "\n",
        "並在每次訓練迭代放棄25%的神經元"
      ],
      "metadata": {
        "id": "pxgCLqEyjQIf"
      }
    },
    {
      "cell_type": "code",
      "execution_count": null,
      "metadata": {
        "id": "Q3Lro5noVbEN"
      },
      "outputs": [],
      "source": [
        "model.add(Dense(1024, activation='relu'))\n",
        "model.add(Dropout(rate=0.25))"
      ]
    },
    {
      "cell_type": "markdown",
      "source": [
        "建立隱藏層,共1024個神經元"
      ],
      "metadata": {
        "id": "s1JI57zZkAFr"
      }
    },
    {
      "cell_type": "code",
      "execution_count": null,
      "metadata": {
        "id": "mH6bF2BgVbEN"
      },
      "outputs": [],
      "source": [
        "model.add(Dense(10, activation='softmax'))"
      ]
    },
    {
      "cell_type": "markdown",
      "source": [
        "建立輸出層,共10個神經元,對應10個影像分類,使用softmax激活函數進行轉換,\n",
        "\n",
        "讓結果轉換成預測每一個影像的機率"
      ],
      "metadata": {
        "id": "GHhy3bvekS80"
      }
    },
    {
      "cell_type": "code",
      "execution_count": null,
      "metadata": {
        "colab": {
          "base_uri": "https://localhost:8080/"
        },
        "id": "wR6LrwacVbEN",
        "outputId": "01bbf476-0741-43ed-c369-ddbc3e6d4512"
      },
      "outputs": [
        {
          "output_type": "stream",
          "name": "stdout",
          "text": [
            "Model: \"sequential_6\"\n",
            "_________________________________________________________________\n",
            " Layer (type)                Output Shape              Param #   \n",
            "=================================================================\n",
            " conv2d_16 (Conv2D)          (None, 32, 32, 32)        896       \n",
            "                                                                 \n",
            " dropout_28 (Dropout)        (None, 32, 32, 32)        0         \n",
            "                                                                 \n",
            " max_pooling2d_16 (MaxPoolin  (None, 16, 16, 32)       0         \n",
            " g2D)                                                            \n",
            "                                                                 \n",
            " conv2d_17 (Conv2D)          (None, 16, 16, 64)        18496     \n",
            "                                                                 \n",
            " dropout_29 (Dropout)        (None, 16, 16, 64)        0         \n",
            "                                                                 \n",
            " max_pooling2d_17 (MaxPoolin  (None, 8, 8, 64)         0         \n",
            " g2D)                                                            \n",
            "                                                                 \n",
            " conv2d_18 (Conv2D)          (None, 8, 8, 32)          18464     \n",
            "                                                                 \n",
            " dropout_30 (Dropout)        (None, 8, 8, 32)          0         \n",
            "                                                                 \n",
            " max_pooling2d_18 (MaxPoolin  (None, 4, 4, 32)         0         \n",
            " g2D)                                                            \n",
            "                                                                 \n",
            " flatten_6 (Flatten)         (None, 512)               0         \n",
            "                                                                 \n",
            " dropout_31 (Dropout)        (None, 512)               0         \n",
            "                                                                 \n",
            " dense_12 (Dense)            (None, 1024)              525312    \n",
            "                                                                 \n",
            " dropout_32 (Dropout)        (None, 1024)              0         \n",
            "                                                                 \n",
            " dense_13 (Dense)            (None, 10)                10250     \n",
            "                                                                 \n",
            "=================================================================\n",
            "Total params: 573,418\n",
            "Trainable params: 573,418\n",
            "Non-trainable params: 0\n",
            "_________________________________________________________________\n",
            "None\n"
          ]
        }
      ],
      "source": [
        "print(model.summary())"
      ]
    },
    {
      "cell_type": "markdown",
      "metadata": {
        "id": "RNQXhk4BVbEN"
      },
      "source": [
        "# 載入之前訓練的模型"
      ]
    },
    {
      "cell_type": "code",
      "execution_count": null,
      "metadata": {
        "colab": {
          "base_uri": "https://localhost:8080/"
        },
        "id": "DReDuuZrVbEO",
        "outputId": "332a7d8d-011f-41cd-dc19-2e2b7ea96ffb"
      },
      "outputs": [
        {
          "output_type": "stream",
          "name": "stdout",
          "text": [
            "載入模型失敗!開始訓練一個新模型\n"
          ]
        }
      ],
      "source": [
        "try:\n",
        "    model.load_weights(\"SaveModel/cifarCnnModelnew1.h5\")\n",
        "    print(\"載入模型成功!繼續訓練模型\")\n",
        "except :    \n",
        "    print(\"載入模型失敗!開始訓練一個新模型\")"
      ]
    },
    {
      "cell_type": "markdown",
      "metadata": {
        "id": "UjDr04P-VbEO"
      },
      "source": [
        "# 訓練模型"
      ]
    },
    {
      "cell_type": "code",
      "execution_count": null,
      "metadata": {
        "id": "I3DYiBxTVbEO"
      },
      "outputs": [],
      "source": [
        "model.compile(loss='categorical_crossentropy',\n",
        "              optimizer='adam', metrics=['accuracy'])"
      ]
    },
    {
      "cell_type": "markdown",
      "source": [
        "設定損失函數,在深度學習中通常會使用cross entropy交叉熵,訓練效果較好"
      ],
      "metadata": {
        "id": "XN2VMzLkkouK"
      }
    },
    {
      "cell_type": "code",
      "execution_count": null,
      "metadata": {
        "colab": {
          "base_uri": "https://localhost:8080/"
        },
        "id": "ORIJVM2-VbEO",
        "outputId": "37a45509-86a8-461c-edf6-9e0a89758714"
      },
      "outputs": [
        {
          "output_type": "stream",
          "name": "stdout",
          "text": [
            "Epoch 1/100\n",
            "313/313 [==============================] - 5s 11ms/step - loss: 1.6378 - accuracy: 0.4006 - val_loss: 1.5008 - val_accuracy: 0.5112\n",
            "Epoch 2/100\n",
            "313/313 [==============================] - 3s 9ms/step - loss: 1.3016 - accuracy: 0.5329 - val_loss: 1.3041 - val_accuracy: 0.5961\n",
            "Epoch 3/100\n",
            "313/313 [==============================] - 3s 10ms/step - loss: 1.1580 - accuracy: 0.5846 - val_loss: 1.2556 - val_accuracy: 0.5960\n",
            "Epoch 4/100\n",
            "313/313 [==============================] - 3s 9ms/step - loss: 1.0748 - accuracy: 0.6187 - val_loss: 1.1084 - val_accuracy: 0.6675\n",
            "Epoch 5/100\n",
            "313/313 [==============================] - 3s 9ms/step - loss: 1.0032 - accuracy: 0.6451 - val_loss: 1.0513 - val_accuracy: 0.6664\n",
            "Epoch 6/100\n",
            "313/313 [==============================] - 3s 9ms/step - loss: 0.9377 - accuracy: 0.6688 - val_loss: 1.0063 - val_accuracy: 0.6849\n",
            "Epoch 7/100\n",
            "313/313 [==============================] - 3s 10ms/step - loss: 0.8930 - accuracy: 0.6828 - val_loss: 0.9974 - val_accuracy: 0.6905\n",
            "Epoch 8/100\n",
            "313/313 [==============================] - 3s 9ms/step - loss: 0.8467 - accuracy: 0.6987 - val_loss: 0.9238 - val_accuracy: 0.7124\n",
            "Epoch 9/100\n",
            "313/313 [==============================] - 3s 9ms/step - loss: 0.8116 - accuracy: 0.7121 - val_loss: 0.9414 - val_accuracy: 0.6836\n",
            "Epoch 10/100\n",
            "313/313 [==============================] - 3s 9ms/step - loss: 0.7817 - accuracy: 0.7265 - val_loss: 0.8698 - val_accuracy: 0.7311\n",
            "Epoch 11/100\n",
            "313/313 [==============================] - 3s 11ms/step - loss: 0.7477 - accuracy: 0.7337 - val_loss: 0.8540 - val_accuracy: 0.7401\n",
            "Epoch 12/100\n",
            "313/313 [==============================] - 3s 9ms/step - loss: 0.7223 - accuracy: 0.7434 - val_loss: 0.8497 - val_accuracy: 0.7328\n",
            "Epoch 13/100\n",
            "313/313 [==============================] - 3s 9ms/step - loss: 0.6950 - accuracy: 0.7530 - val_loss: 0.8082 - val_accuracy: 0.7426\n",
            "Epoch 14/100\n",
            "313/313 [==============================] - 3s 9ms/step - loss: 0.6703 - accuracy: 0.7633 - val_loss: 0.8227 - val_accuracy: 0.7397\n",
            "Epoch 15/100\n",
            "313/313 [==============================] - 3s 11ms/step - loss: 0.6478 - accuracy: 0.7703 - val_loss: 0.7878 - val_accuracy: 0.7506\n",
            "Epoch 16/100\n",
            "313/313 [==============================] - 3s 9ms/step - loss: 0.6245 - accuracy: 0.7764 - val_loss: 0.7799 - val_accuracy: 0.7536\n",
            "Epoch 17/100\n",
            "313/313 [==============================] - 3s 9ms/step - loss: 0.6109 - accuracy: 0.7823 - val_loss: 0.7949 - val_accuracy: 0.7445\n",
            "Epoch 18/100\n",
            "313/313 [==============================] - 3s 9ms/step - loss: 0.5918 - accuracy: 0.7918 - val_loss: 0.7667 - val_accuracy: 0.7597\n",
            "Epoch 19/100\n",
            "313/313 [==============================] - 3s 11ms/step - loss: 0.5746 - accuracy: 0.7964 - val_loss: 0.7675 - val_accuracy: 0.7622\n",
            "Epoch 20/100\n",
            "313/313 [==============================] - 3s 9ms/step - loss: 0.5703 - accuracy: 0.7966 - val_loss: 0.7533 - val_accuracy: 0.7586\n",
            "Epoch 21/100\n",
            "313/313 [==============================] - 3s 9ms/step - loss: 0.5532 - accuracy: 0.8038 - val_loss: 0.7509 - val_accuracy: 0.7677\n",
            "Epoch 22/100\n",
            "313/313 [==============================] - 3s 9ms/step - loss: 0.5346 - accuracy: 0.8084 - val_loss: 0.7677 - val_accuracy: 0.7503\n",
            "Epoch 23/100\n",
            "313/313 [==============================] - 3s 10ms/step - loss: 0.5225 - accuracy: 0.8152 - val_loss: 0.7404 - val_accuracy: 0.7561\n",
            "Epoch 24/100\n",
            "313/313 [==============================] - 3s 9ms/step - loss: 0.5111 - accuracy: 0.8183 - val_loss: 0.7421 - val_accuracy: 0.7541\n",
            "Epoch 25/100\n",
            "313/313 [==============================] - 3s 9ms/step - loss: 0.4931 - accuracy: 0.8257 - val_loss: 0.7284 - val_accuracy: 0.7659\n",
            "Epoch 26/100\n",
            "313/313 [==============================] - 3s 9ms/step - loss: 0.4956 - accuracy: 0.8256 - val_loss: 0.7594 - val_accuracy: 0.7516\n",
            "Epoch 27/100\n",
            "313/313 [==============================] - 3s 10ms/step - loss: 0.4781 - accuracy: 0.8300 - val_loss: 0.7077 - val_accuracy: 0.7727\n",
            "Epoch 28/100\n",
            "313/313 [==============================] - 3s 10ms/step - loss: 0.4733 - accuracy: 0.8338 - val_loss: 0.7268 - val_accuracy: 0.7583\n",
            "Epoch 29/100\n",
            "313/313 [==============================] - 3s 9ms/step - loss: 0.4626 - accuracy: 0.8354 - val_loss: 0.7216 - val_accuracy: 0.7580\n",
            "Epoch 30/100\n",
            "313/313 [==============================] - 3s 9ms/step - loss: 0.4591 - accuracy: 0.8374 - val_loss: 0.7094 - val_accuracy: 0.7658\n",
            "Epoch 31/100\n",
            "313/313 [==============================] - 3s 10ms/step - loss: 0.4426 - accuracy: 0.8418 - val_loss: 0.7114 - val_accuracy: 0.7739\n",
            "Epoch 32/100\n",
            "313/313 [==============================] - 3s 10ms/step - loss: 0.4404 - accuracy: 0.8434 - val_loss: 0.7363 - val_accuracy: 0.7614\n",
            "Epoch 33/100\n",
            "313/313 [==============================] - 3s 9ms/step - loss: 0.4462 - accuracy: 0.8416 - val_loss: 0.7053 - val_accuracy: 0.7720\n",
            "Epoch 34/100\n",
            "313/313 [==============================] - 3s 9ms/step - loss: 0.4197 - accuracy: 0.8501 - val_loss: 0.6881 - val_accuracy: 0.7717\n",
            "Epoch 35/100\n",
            "313/313 [==============================] - 3s 10ms/step - loss: 0.4168 - accuracy: 0.8518 - val_loss: 0.8046 - val_accuracy: 0.7178\n",
            "Epoch 36/100\n",
            "313/313 [==============================] - 3s 10ms/step - loss: 0.4161 - accuracy: 0.8529 - val_loss: 0.7059 - val_accuracy: 0.7722\n",
            "Epoch 37/100\n",
            "313/313 [==============================] - 3s 9ms/step - loss: 0.4069 - accuracy: 0.8568 - val_loss: 0.6981 - val_accuracy: 0.7730\n",
            "Epoch 38/100\n",
            "313/313 [==============================] - 3s 9ms/step - loss: 0.4011 - accuracy: 0.8583 - val_loss: 0.7202 - val_accuracy: 0.7630\n",
            "Epoch 39/100\n",
            "313/313 [==============================] - 3s 9ms/step - loss: 0.3997 - accuracy: 0.8569 - val_loss: 0.6927 - val_accuracy: 0.7714\n",
            "Epoch 40/100\n",
            "313/313 [==============================] - 3s 10ms/step - loss: 0.3938 - accuracy: 0.8620 - val_loss: 0.7212 - val_accuracy: 0.7593\n",
            "Epoch 41/100\n",
            "313/313 [==============================] - 3s 9ms/step - loss: 0.3894 - accuracy: 0.8607 - val_loss: 0.7011 - val_accuracy: 0.7624\n",
            "Epoch 42/100\n",
            "313/313 [==============================] - 3s 9ms/step - loss: 0.3909 - accuracy: 0.8614 - val_loss: 0.7032 - val_accuracy: 0.7652\n",
            "Epoch 43/100\n",
            "313/313 [==============================] - 3s 9ms/step - loss: 0.3754 - accuracy: 0.8653 - val_loss: 0.7280 - val_accuracy: 0.7538\n",
            "Epoch 44/100\n",
            "313/313 [==============================] - 3s 10ms/step - loss: 0.3789 - accuracy: 0.8664 - val_loss: 0.7169 - val_accuracy: 0.7581\n",
            "Epoch 45/100\n",
            "313/313 [==============================] - 3s 9ms/step - loss: 0.3674 - accuracy: 0.8695 - val_loss: 0.7010 - val_accuracy: 0.7597\n",
            "Epoch 46/100\n",
            "313/313 [==============================] - 3s 9ms/step - loss: 0.3711 - accuracy: 0.8700 - val_loss: 0.7006 - val_accuracy: 0.7610\n",
            "Epoch 47/100\n",
            "313/313 [==============================] - 3s 9ms/step - loss: 0.3589 - accuracy: 0.8723 - val_loss: 0.7214 - val_accuracy: 0.7596\n",
            "Epoch 48/100\n",
            "313/313 [==============================] - 3s 10ms/step - loss: 0.3630 - accuracy: 0.8715 - val_loss: 0.6791 - val_accuracy: 0.7736\n",
            "Epoch 49/100\n",
            "313/313 [==============================] - 3s 9ms/step - loss: 0.3641 - accuracy: 0.8719 - val_loss: 0.6865 - val_accuracy: 0.7665\n",
            "Epoch 50/100\n",
            "313/313 [==============================] - 3s 9ms/step - loss: 0.3520 - accuracy: 0.8763 - val_loss: 0.7420 - val_accuracy: 0.7474\n",
            "Epoch 51/100\n",
            "313/313 [==============================] - 3s 9ms/step - loss: 0.3521 - accuracy: 0.8760 - val_loss: 0.7063 - val_accuracy: 0.7610\n",
            "Epoch 52/100\n",
            "313/313 [==============================] - 3s 10ms/step - loss: 0.3480 - accuracy: 0.8758 - val_loss: 0.6846 - val_accuracy: 0.7691\n",
            "Epoch 53/100\n",
            "313/313 [==============================] - 3s 10ms/step - loss: 0.3487 - accuracy: 0.8774 - val_loss: 0.6909 - val_accuracy: 0.7717\n",
            "Epoch 54/100\n",
            "313/313 [==============================] - 3s 9ms/step - loss: 0.3408 - accuracy: 0.8782 - val_loss: 0.6700 - val_accuracy: 0.7752\n",
            "Epoch 55/100\n",
            "313/313 [==============================] - 3s 9ms/step - loss: 0.3371 - accuracy: 0.8818 - val_loss: 0.6997 - val_accuracy: 0.7670\n",
            "Epoch 56/100\n",
            "313/313 [==============================] - 3s 10ms/step - loss: 0.3450 - accuracy: 0.8789 - val_loss: 0.6734 - val_accuracy: 0.7763\n",
            "Epoch 57/100\n",
            "313/313 [==============================] - 3s 10ms/step - loss: 0.3285 - accuracy: 0.8846 - val_loss: 0.6841 - val_accuracy: 0.7725\n",
            "Epoch 58/100\n",
            "313/313 [==============================] - 3s 9ms/step - loss: 0.3364 - accuracy: 0.8798 - val_loss: 0.6777 - val_accuracy: 0.7698\n",
            "Epoch 59/100\n",
            "313/313 [==============================] - 3s 9ms/step - loss: 0.3325 - accuracy: 0.8822 - val_loss: 0.6724 - val_accuracy: 0.7704\n",
            "Epoch 60/100\n",
            "313/313 [==============================] - 3s 10ms/step - loss: 0.3275 - accuracy: 0.8838 - val_loss: 0.6673 - val_accuracy: 0.7800\n",
            "Epoch 61/100\n",
            "313/313 [==============================] - 3s 10ms/step - loss: 0.3252 - accuracy: 0.8858 - val_loss: 0.6838 - val_accuracy: 0.7708\n",
            "Epoch 62/100\n",
            "313/313 [==============================] - 3s 9ms/step - loss: 0.3300 - accuracy: 0.8843 - val_loss: 0.7043 - val_accuracy: 0.7606\n",
            "Epoch 63/100\n",
            "313/313 [==============================] - 3s 9ms/step - loss: 0.3246 - accuracy: 0.8867 - val_loss: 0.6850 - val_accuracy: 0.7655\n",
            "Epoch 64/100\n",
            "313/313 [==============================] - 3s 9ms/step - loss: 0.3180 - accuracy: 0.8871 - val_loss: 0.7177 - val_accuracy: 0.7556\n",
            "Epoch 65/100\n",
            "313/313 [==============================] - 3s 10ms/step - loss: 0.3167 - accuracy: 0.8888 - val_loss: 0.7441 - val_accuracy: 0.7491\n",
            "Epoch 66/100\n",
            "313/313 [==============================] - 3s 9ms/step - loss: 0.3220 - accuracy: 0.8881 - val_loss: 0.6977 - val_accuracy: 0.7654\n",
            "Epoch 67/100\n",
            "313/313 [==============================] - 3s 9ms/step - loss: 0.3226 - accuracy: 0.8875 - val_loss: 0.7051 - val_accuracy: 0.7628\n",
            "Epoch 68/100\n",
            "313/313 [==============================] - 3s 9ms/step - loss: 0.3196 - accuracy: 0.8889 - val_loss: 0.7055 - val_accuracy: 0.7581\n",
            "Epoch 69/100\n",
            "313/313 [==============================] - 3s 10ms/step - loss: 0.3095 - accuracy: 0.8898 - val_loss: 0.6984 - val_accuracy: 0.7666\n",
            "Epoch 70/100\n",
            "313/313 [==============================] - 3s 9ms/step - loss: 0.3073 - accuracy: 0.8924 - val_loss: 0.6842 - val_accuracy: 0.7703\n",
            "Epoch 71/100\n",
            "313/313 [==============================] - 3s 9ms/step - loss: 0.3065 - accuracy: 0.8939 - val_loss: 0.7007 - val_accuracy: 0.7619\n",
            "Epoch 72/100\n",
            "313/313 [==============================] - 3s 9ms/step - loss: 0.3045 - accuracy: 0.8925 - val_loss: 0.7093 - val_accuracy: 0.7635\n",
            "Epoch 73/100\n",
            "313/313 [==============================] - 3s 10ms/step - loss: 0.2967 - accuracy: 0.8962 - val_loss: 0.7010 - val_accuracy: 0.7662\n",
            "Epoch 74/100\n",
            "313/313 [==============================] - 3s 9ms/step - loss: 0.3011 - accuracy: 0.8955 - val_loss: 0.7202 - val_accuracy: 0.7580\n",
            "Epoch 75/100\n",
            "313/313 [==============================] - 3s 9ms/step - loss: 0.3013 - accuracy: 0.8949 - val_loss: 0.7173 - val_accuracy: 0.7561\n",
            "Epoch 76/100\n",
            "313/313 [==============================] - 3s 9ms/step - loss: 0.3027 - accuracy: 0.8940 - val_loss: 0.7036 - val_accuracy: 0.7649\n",
            "Epoch 77/100\n",
            "313/313 [==============================] - 3s 10ms/step - loss: 0.2962 - accuracy: 0.8973 - val_loss: 0.7102 - val_accuracy: 0.7597\n",
            "Epoch 78/100\n",
            "313/313 [==============================] - 3s 9ms/step - loss: 0.2931 - accuracy: 0.8963 - val_loss: 0.6959 - val_accuracy: 0.7631\n",
            "Epoch 79/100\n",
            "313/313 [==============================] - 3s 9ms/step - loss: 0.2965 - accuracy: 0.8945 - val_loss: 0.6824 - val_accuracy: 0.7687\n",
            "Epoch 80/100\n",
            "313/313 [==============================] - 3s 9ms/step - loss: 0.2944 - accuracy: 0.8978 - val_loss: 0.7041 - val_accuracy: 0.7643\n",
            "Epoch 81/100\n",
            "313/313 [==============================] - 3s 10ms/step - loss: 0.2955 - accuracy: 0.8975 - val_loss: 0.6682 - val_accuracy: 0.7765\n",
            "Epoch 82/100\n",
            "313/313 [==============================] - 3s 10ms/step - loss: 0.2891 - accuracy: 0.9016 - val_loss: 0.7026 - val_accuracy: 0.7628\n",
            "Epoch 83/100\n",
            "313/313 [==============================] - 3s 9ms/step - loss: 0.2900 - accuracy: 0.8987 - val_loss: 0.6761 - val_accuracy: 0.7737\n",
            "Epoch 84/100\n",
            "313/313 [==============================] - 3s 9ms/step - loss: 0.2851 - accuracy: 0.9025 - val_loss: 0.6875 - val_accuracy: 0.7671\n",
            "Epoch 85/100\n",
            "313/313 [==============================] - 3s 10ms/step - loss: 0.2865 - accuracy: 0.8999 - val_loss: 0.7108 - val_accuracy: 0.7602\n",
            "Epoch 86/100\n",
            "313/313 [==============================] - 3s 10ms/step - loss: 0.2880 - accuracy: 0.9011 - val_loss: 0.6775 - val_accuracy: 0.7705\n",
            "Epoch 87/100\n",
            "313/313 [==============================] - 3s 9ms/step - loss: 0.2913 - accuracy: 0.8984 - val_loss: 0.7087 - val_accuracy: 0.7600\n",
            "Epoch 88/100\n",
            "313/313 [==============================] - 3s 9ms/step - loss: 0.2845 - accuracy: 0.9016 - val_loss: 0.6703 - val_accuracy: 0.7762\n",
            "Epoch 89/100\n",
            "313/313 [==============================] - 3s 10ms/step - loss: 0.2892 - accuracy: 0.8999 - val_loss: 0.6749 - val_accuracy: 0.7716\n",
            "Epoch 90/100\n",
            "313/313 [==============================] - 3s 9ms/step - loss: 0.2834 - accuracy: 0.9005 - val_loss: 0.6888 - val_accuracy: 0.7664\n",
            "Epoch 91/100\n",
            "313/313 [==============================] - 3s 9ms/step - loss: 0.2784 - accuracy: 0.9032 - val_loss: 0.6762 - val_accuracy: 0.7724\n",
            "Epoch 92/100\n",
            "313/313 [==============================] - 3s 9ms/step - loss: 0.2881 - accuracy: 0.8999 - val_loss: 0.6701 - val_accuracy: 0.7786\n",
            "Epoch 93/100\n",
            "313/313 [==============================] - 3s 10ms/step - loss: 0.2811 - accuracy: 0.9029 - val_loss: 0.6732 - val_accuracy: 0.7744\n",
            "Epoch 94/100\n",
            "313/313 [==============================] - 3s 10ms/step - loss: 0.2792 - accuracy: 0.9038 - val_loss: 0.6849 - val_accuracy: 0.7701\n",
            "Epoch 95/100\n",
            "313/313 [==============================] - 3s 9ms/step - loss: 0.2831 - accuracy: 0.9010 - val_loss: 0.6800 - val_accuracy: 0.7674\n",
            "Epoch 96/100\n",
            "313/313 [==============================] - 3s 9ms/step - loss: 0.2818 - accuracy: 0.9025 - val_loss: 0.6771 - val_accuracy: 0.7737\n",
            "Epoch 97/100\n",
            "313/313 [==============================] - 3s 9ms/step - loss: 0.2746 - accuracy: 0.9048 - val_loss: 0.6820 - val_accuracy: 0.7699\n",
            "Epoch 98/100\n",
            "313/313 [==============================] - 3s 10ms/step - loss: 0.2724 - accuracy: 0.9063 - val_loss: 0.7168 - val_accuracy: 0.7583\n",
            "Epoch 99/100\n",
            "313/313 [==============================] - 3s 9ms/step - loss: 0.2792 - accuracy: 0.9043 - val_loss: 0.7644 - val_accuracy: 0.7399\n",
            "Epoch 100/100\n",
            "313/313 [==============================] - 3s 9ms/step - loss: 0.2674 - accuracy: 0.9069 - val_loss: 0.6831 - val_accuracy: 0.7694\n",
            "324.0039520263672\n"
          ]
        }
      ],
      "source": [
        "import time\n",
        "t0 = time.time()\n",
        "train_history=model.fit(x_img_train_normalize, y_label_train_OneHot,\n",
        "                        validation_split=0.2,\n",
        "                        epochs=100, batch_size=128, verbose=1) \n",
        "print(time.time()-t0)         "
      ]
    },
    {
      "cell_type": "markdown",
      "source": [
        "輸入圖像標籤文字\n",
        "\n",
        "validatiom split:訓練集和測試集的比例,這次為50000:10000,所以是0.2\n",
        "\n",
        "epochs:訓練週期10次\n",
        "\n",
        "batch size:每批次輸入128張圖片"
      ],
      "metadata": {
        "id": "g04fOH6Vk_W-"
      }
    },
    {
      "cell_type": "code",
      "execution_count": null,
      "metadata": {
        "id": "i3omcjUjVbEO"
      },
      "outputs": [],
      "source": [
        "import matplotlib.pyplot as plt\n",
        "def show_train_history(train_acc,test_acc, acc):\n",
        "    plt.plot(train_history.history[train_acc])\n",
        "    plt.plot(train_history.history[test_acc])\n",
        "    plt.title('Train History')\n",
        "    if acc == True:\n",
        "      plt.ylabel('Accuracy')\n",
        "    else:\n",
        "      plt.ylabel('Loss')\n",
        "    plt.xlabel('Epoch')\n",
        "    plt.legend(['train', 'test'], loc='upper left')\n",
        "    plt.show()"
      ]
    },
    {
      "cell_type": "markdown",
      "source": [
        "設定圖表欄位和格式"
      ],
      "metadata": {
        "id": "MvA07z-6lngv"
      }
    },
    {
      "cell_type": "code",
      "execution_count": null,
      "metadata": {
        "colab": {
          "base_uri": "https://localhost:8080/",
          "height": 472
        },
        "id": "LJ-MIu_PVbEO",
        "outputId": "89609671-2989-4853-84f9-1c12b9d51c87"
      },
      "outputs": [
        {
          "output_type": "display_data",
          "data": {
            "text/plain": [
              "<Figure size 640x480 with 1 Axes>"
            ],
            "image/png": "[encoded data removed]"
          },
          "metadata": {}
        }
      ],
      "source": [
        "show_train_history('accuracy','val_accuracy', True)"
      ]
    },
    {
      "cell_type": "code",
      "execution_count": null,
      "metadata": {
        "colab": {
          "base_uri": "https://localhost:8080/",
          "height": 472
        },
        "id": "jcoX84ZdVbEP",
        "outputId": "b284a990-a8f7-4b64-a489-470f58dec960"
      },
      "outputs": [
        {
          "output_type": "display_data",
          "data": {
            "text/plain": [
              "<Figure size 640x480 with 1 Axes>"
            ],
            "image/png": "[encoded data removed]"
          },
          "metadata": {}
        }
      ],
      "source": [
        "show_train_history('loss','val_loss', False)"
      ]
    },
    {
      "cell_type": "markdown",
      "source": [
        "accuracy:訓練時的準確率\n",
        "\n",
        "val accuracy:驗證時的準確率"
      ],
      "metadata": {
        "id": "wetwhd6TlvYh"
      }
    },
    {
      "cell_type": "markdown",
      "source": [
        "loss:訓練時的誤差\n",
        "\n",
        "val accuracy:驗證時的誤差"
      ],
      "metadata": {
        "id": "v85e18xxl4wE"
      }
    },
    {
      "cell_type": "markdown",
      "metadata": {
        "id": "EWBlmjtjVbEP"
      },
      "source": [
        "# 評估模型準確率"
      ]
    },
    {
      "cell_type": "code",
      "execution_count": null,
      "metadata": {
        "colab": {
          "base_uri": "https://localhost:8080/"
        },
        "id": "PQ-rsbe0VbEP",
        "outputId": "0e8fa81e-00da-4284-ca11-a114cd59ad8a"
      },
      "outputs": [
        {
          "output_type": "execute_result",
          "data": {
            "text/plain": [
              "0.7584999799728394"
            ]
          },
          "metadata": {},
          "execution_count": 299
        }
      ],
      "source": [
        "scores = model.evaluate(x_img_test_normalize, \n",
        "                        y_label_test_OneHot, verbose=0)\n",
        "scores[1]"
      ]
    },
    {
      "cell_type": "markdown",
      "metadata": {
        "id": "iaJ1TgHLVbEP"
      },
      "source": [
        "# 進行預測"
      ]
    },
    {
      "cell_type": "code",
      "execution_count": null,
      "metadata": {
        "id": "QbQGAeFbVbEP",
        "colab": {
          "base_uri": "https://localhost:8080/"
        },
        "outputId": "52a1b6d1-8e7e-4a09-e4dc-5b5a61c3d3a5"
      },
      "outputs": [
        {
          "output_type": "stream",
          "name": "stdout",
          "text": [
            "313/313 [==============================] - 1s 2ms/step\n"
          ]
        }
      ],
      "source": [
        "prediction=np.argmax(model.predict(x_img_test_normalize), axis=-1)"
      ]
    },
    {
      "cell_type": "code",
      "execution_count": null,
      "metadata": {
        "id": "Fysay-SGVbER",
        "colab": {
          "base_uri": "https://localhost:8080/"
        },
        "outputId": "046edbb3-1441-45ae-a6f7-54fecdf71865"
      },
      "outputs": [
        {
          "output_type": "execute_result",
          "data": {
            "text/plain": [
              "array([3, 8, 8, 0, 6, 6, 1, 6, 3, 1])"
            ]
          },
          "metadata": {},
          "execution_count": 301
        }
      ],
      "source": [
        "prediction[:10]"
      ]
    },
    {
      "cell_type": "markdown",
      "metadata": {
        "id": "So-DttJWVbER"
      },
      "source": [
        "# 查看預測結果"
      ]
    },
    {
      "cell_type": "code",
      "execution_count": null,
      "metadata": {
        "id": "Yta4cD21VbER"
      },
      "outputs": [],
      "source": [
        "label_dict={0:\"airplane\",1:\"automobile\",2:\"bird\",3:\"cat\",4:\"deer\",\n",
        "            5:\"dog\",6:\"frog\",7:\"horse\",8:\"ship\",9:\"truck\"}"
      ]
    },
    {
      "cell_type": "code",
      "execution_count": null,
      "metadata": {
        "id": "j4cFs2WIVbER"
      },
      "outputs": [],
      "source": [
        "import matplotlib.pyplot as plt\n",
        "def plot_images_labels_prediction(images,labels,prediction,\n",
        "                                  idx,num=10):\n",
        "    fig = plt.gcf()\n",
        "    fig.set_size_inches(12, 14)\n",
        "    if num>25: num=25 \n",
        "    for i in range(0, num):\n",
        "        ax=plt.subplot(5,5, 1+i)\n",
        "        ax.imshow(images[idx],cmap='binary')\n",
        "                \n",
        "        title=str(i)+','+label_dict[labels[i][0]]\n",
        "        if len(prediction)>0:\n",
        "            title+='=>'+label_dict[prediction[i]]\n",
        "            \n",
        "        ax.set_title(title,fontsize=10) \n",
        "        ax.set_xticks([]);ax.set_yticks([])        \n",
        "        idx+=1 \n",
        "    plt.show()"
      ]
    },
    {
      "cell_type": "code",
      "execution_count": null,
      "metadata": {
        "id": "67mJ5vjbVbES",
        "colab": {
          "base_uri": "https://localhost:8080/",
          "height": 439
        },
        "outputId": "afee8994-5843-4282-d4c2-0d51bd4dc1fe"
      },
      "outputs": [
        {
          "output_type": "display_data",
          "data": {
            "text/plain": [
              "<Figure size 1200x1400 with 10 Axes>"
            ],
            "image/png": "[encoded data removed]"
          },
          "metadata": {}
        }
      ],
      "source": [
        "plot_images_labels_prediction(x_img_test,y_label_test,\n",
        "                              prediction,0,10)"
      ]
    },
    {
      "cell_type": "markdown",
      "metadata": {
        "id": "IbvhoccDVbES"
      },
      "source": [
        "# 查看預測機率"
      ]
    },
    {
      "cell_type": "code",
      "execution_count": null,
      "metadata": {
        "id": "-MPuckT3VbES",
        "colab": {
          "base_uri": "https://localhost:8080/"
        },
        "outputId": "6639a1b8-739b-4ad3-9de3-40fac4b1006d"
      },
      "outputs": [
        {
          "output_type": "stream",
          "name": "stdout",
          "text": [
            "313/313 [==============================] - 1s 2ms/step\n"
          ]
        }
      ],
      "source": [
        "Predicted_Probability=model.predict(x_img_test_normalize)"
      ]
    },
    {
      "cell_type": "code",
      "execution_count": null,
      "metadata": {
        "id": "PQ3hIP15VbES"
      },
      "outputs": [],
      "source": [
        "def show_Predicted_Probability(y,prediction,\n",
        "                               x_img,Predicted_Probability,i):\n",
        "    print('label:',label_dict[y[i][0]],\n",
        "          'predict:',label_dict[prediction[i]])\n",
        "    plt.figure(figsize=(2,2))\n",
        "    plt.imshow(np.reshape(x_img_test[i],(32, 32,3)))\n",
        "    plt.show()\n",
        "    for j in range(10):\n",
        "        print(label_dict[j]+\n",
        "              ' Probability:%1.9f'%(Predicted_Probability[i][j]))"
      ]
    },
    {
      "cell_type": "code",
      "execution_count": null,
      "metadata": {
        "id": "clduo7LXVbES",
        "colab": {
          "base_uri": "https://localhost:8080/",
          "height": 408
        },
        "outputId": "f18cdb40-f120-4906-ea31-f530d2d3e60d"
      },
      "outputs": [
        {
          "output_type": "stream",
          "name": "stdout",
          "text": [
            "label: cat predict: cat\n"
          ]
        },
        {
          "output_type": "display_data",
          "data": {
            "text/plain": [
              "<Figure size 200x200 with 1 Axes>"
            ],
            "image/png": "[encoded data removed]"
          },
          "metadata": {}
        },
        {
          "output_type": "stream",
          "name": "stdout",
          "text": [
            "airplane Probability:0.000422639\n",
            "automobile Probability:0.000349733\n",
            "bird Probability:0.000085449\n",
            "cat Probability:0.606926918\n",
            "deer Probability:0.000001017\n",
            "dog Probability:0.390469432\n",
            "frog Probability:0.000244371\n",
            "horse Probability:0.001332199\n",
            "ship Probability:0.000058745\n",
            "truck Probability:0.000109537\n"
          ]
        }
      ],
      "source": [
        "show_Predicted_Probability(y_label_test,prediction,\n",
        "                           x_img_test,Predicted_Probability,0)"
      ]
    },
    {
      "cell_type": "code",
      "execution_count": null,
      "metadata": {
        "id": "GGPfJu2eVbES",
        "colab": {
          "base_uri": "https://localhost:8080/",
          "height": 408
        },
        "outputId": "bb380160-4364-4fd9-91c7-8d65db7c4198"
      },
      "outputs": [
        {
          "output_type": "stream",
          "name": "stdout",
          "text": [
            "label: airplane predict: airplane\n"
          ]
        },
        {
          "output_type": "display_data",
          "data": {
            "text/plain": [
              "<Figure size 200x200 with 1 Axes>"
            ],
            "image/png": "[encoded data removed]"
          },
          "metadata": {}
        },
        {
          "output_type": "stream",
          "name": "stdout",
          "text": [
            "airplane Probability:0.694799185\n",
            "automobile Probability:0.000872805\n",
            "bird Probability:0.055351216\n",
            "cat Probability:0.000888372\n",
            "deer Probability:0.010564259\n",
            "dog Probability:0.000919069\n",
            "frog Probability:0.000229216\n",
            "horse Probability:0.000658521\n",
            "ship Probability:0.232645690\n",
            "truck Probability:0.003071617\n"
          ]
        }
      ],
      "source": [
        "show_Predicted_Probability(y_label_test,prediction,\n",
        "                           x_img_test,Predicted_Probability,3)"
      ]
    },
    {
      "cell_type": "markdown",
      "metadata": {
        "id": "RR5ArYfKVbET"
      },
      "source": [
        "# confusion matrix"
      ]
    },
    {
      "cell_type": "code",
      "execution_count": null,
      "metadata": {
        "id": "uhC3C_d-VbET",
        "colab": {
          "base_uri": "https://localhost:8080/"
        },
        "outputId": "28ca67ae-a6c9-497b-d0be-214c93f6dc9f"
      },
      "outputs": [
        {
          "output_type": "execute_result",
          "data": {
            "text/plain": [
              "(10000,)"
            ]
          },
          "metadata": {},
          "execution_count": 309
        }
      ],
      "source": [
        "prediction.shape"
      ]
    },
    {
      "cell_type": "markdown",
      "source": [
        "建立混淆矩陣時結果資據必須為1維陣列,如果括號有多於一筆數據,則必須先進行數據處理"
      ],
      "metadata": {
        "id": "zaKceA3wmdVt"
      }
    },
    {
      "cell_type": "code",
      "execution_count": null,
      "metadata": {
        "id": "Jg5fiWjCVbET",
        "colab": {
          "base_uri": "https://localhost:8080/"
        },
        "outputId": "173f263d-650c-45db-bf69-b70782c2c6db"
      },
      "outputs": [
        {
          "output_type": "execute_result",
          "data": {
            "text/plain": [
              "(10000, 1)"
            ]
          },
          "metadata": {},
          "execution_count": 310
        }
      ],
      "source": [
        "y_label_test.shape"
      ]
    },
    {
      "cell_type": "markdown",
      "source": [
        "執行結果顯示已轉換為1維陣列"
      ],
      "metadata": {
        "id": "7y6J4bODmxJW"
      }
    },
    {
      "cell_type": "code",
      "execution_count": null,
      "metadata": {
        "id": "v6co6R1EVbET",
        "colab": {
          "base_uri": "https://localhost:8080/"
        },
        "outputId": "478e77f1-c938-4ac3-81df-8719d46475f6"
      },
      "outputs": [
        {
          "output_type": "execute_result",
          "data": {
            "text/plain": [
              "array([[3],\n",
              "       [8],\n",
              "       [8],\n",
              "       ...,\n",
              "       [5],\n",
              "       [1],\n",
              "       [7]], dtype=uint8)"
            ]
          },
          "metadata": {},
          "execution_count": 311
        }
      ],
      "source": [
        "y_label_test"
      ]
    },
    {
      "cell_type": "code",
      "execution_count": null,
      "metadata": {
        "id": "zUOhJL0ZVbET",
        "colab": {
          "base_uri": "https://localhost:8080/"
        },
        "outputId": "c236d13b-3877-4204-eca7-cb1cbcad0cf9"
      },
      "outputs": [
        {
          "output_type": "execute_result",
          "data": {
            "text/plain": [
              "array([3, 8, 8, ..., 5, 1, 7], dtype=uint8)"
            ]
          },
          "metadata": {},
          "execution_count": 312
        }
      ],
      "source": [
        "y_label_test.reshape(-1)"
      ]
    },
    {
      "cell_type": "code",
      "execution_count": null,
      "metadata": {
        "id": "hyWqjQ5GVbET",
        "colab": {
          "base_uri": "https://localhost:8080/",
          "height": 411
        },
        "outputId": "5cfa7ce6-50c7-447f-d8f8-901effac0318"
      },
      "outputs": [
        {
          "output_type": "stream",
          "name": "stdout",
          "text": [
            "{0: 'airplane', 1: 'automobile', 2: 'bird', 3: 'cat', 4: 'deer', 5: 'dog', 6: 'frog', 7: 'horse', 8: 'ship', 9: 'truck'}\n"
          ]
        },
        {
          "output_type": "execute_result",
          "data": {
            "text/plain": [
              "predict    0    1    2    3    4    5    6    7    8    9\n",
              "label                                                    \n",
              "0        739    7   36   24   34   12   11   10  114   13\n",
              "1         12  866    4    6    9    6    9    6   38   44\n",
              "2         45    3  625   50  123   57   67   11   18    1\n",
              "3         11    4   36  567   89  176   83   22    9    3\n",
              "4          5    1   35   40  823   35   29   27    5    0\n",
              "5          4    5   31  160   63  686   25   24    2    0\n",
              "6          3    0   23   49   45   27  846    0    6    1\n",
              "7          9    1   24   44   80   54   10  770    4    4\n",
              "8         21   19   10   17   13    6   11    5  891    7\n",
              "9         27   72   10   29    9   19   15   11   36  772"
            ],
            "text/html": [
              "\n",
              "  <div id=\"df-e13efe1e-0df3-49da-af29-ef79f8be6ed8\">\n",
              "    <div class=\"colab-df-container\">\n",
              "      <div>\n",
              "<style scoped>\n",
              "    .dataframe tbody tr th:only-of-type {\n",
              "        vertical-align: middle;\n",
              "    }\n",
              "\n",
              "    .dataframe tbody tr th {\n",
              "        vertical-align: top;\n",
              "    }\n",
              "\n",
              "    .dataframe thead th {\n",
              "        text-align: right;\n",
              "    }\n",
              "</style>\n",
              "<table border=\"1\" class=\"dataframe\">\n",
              "  <thead>\n",
              "    <tr style=\"text-align: right;\">\n",
              "      <th>predict</th>\n",
              "      <th>0</th>\n",
              "      <th>1</th>\n",
              "      <th>2</th>\n",
              "      <th>3</th>\n",
              "      <th>4</th>\n",
              "      <th>5</th>\n",
              "      <th>6</th>\n",
              "      <th>7</th>\n",
              "      <th>8</th>\n",
              "      <th>9</th>\n",
              "    </tr>\n",
              "    <tr>\n",
              "      <th>label</th>\n",
              "      <th></th>\n",
              "      <th></th>\n",
              "      <th></th>\n",
              "      <th></th>\n",
              "      <th></th>\n",
              "      <th></th>\n",
              "      <th></th>\n",
              "      <th></th>\n",
              "      <th></th>\n",
              "      <th></th>\n",
              "    </tr>\n",
              "  </thead>\n",
              "  <tbody>\n",
              "    <tr>\n",
              "      <th>0</th>\n",
              "      <td>739</td>\n",
              "      <td>7</td>\n",
              "      <td>36</td>\n",
              "      <td>24</td>\n",
              "      <td>34</td>\n",
              "      <td>12</td>\n",
              "      <td>11</td>\n",
              "      <td>10</td>\n",
              "      <td>114</td>\n",
              "      <td>13</td>\n",
              "    </tr>\n",
              "    <tr>\n",
              "      <th>1</th>\n",
              "      <td>12</td>\n",
              "      <td>866</td>\n",
              "      <td>4</td>\n",
              "      <td>6</td>\n",
              "      <td>9</td>\n",
              "      <td>6</td>\n",
              "      <td>9</td>\n",
              "      <td>6</td>\n",
              "      <td>38</td>\n",
              "      <td>44</td>\n",
              "    </tr>\n",
              "    <tr>\n",
              "      <th>2</th>\n",
              "      <td>45</td>\n",
              "      <td>3</td>\n",
              "      <td>625</td>\n",
              "      <td>50</td>\n",
              "      <td>123</td>\n",
              "      <td>57</td>\n",
              "      <td>67</td>\n",
              "      <td>11</td>\n",
              "      <td>18</td>\n",
              "      <td>1</td>\n",
              "    </tr>\n",
              "    <tr>\n",
              "      <th>3</th>\n",
              "      <td>11</td>\n",
              "      <td>4</td>\n",
              "      <td>36</td>\n",
              "      <td>567</td>\n",
              "      <td>89</td>\n",
              "      <td>176</td>\n",
              "      <td>83</td>\n",
              "      <td>22</td>\n",
              "      <td>9</td>\n",
              "      <td>3</td>\n",
              "    </tr>\n",
              "    <tr>\n",
              "      <th>4</th>\n",
              "      <td>5</td>\n",
              "      <td>1</td>\n",
              "      <td>35</td>\n",
              "      <td>40</td>\n",
              "      <td>823</td>\n",
              "      <td>35</td>\n",
              "      <td>29</td>\n",
              "      <td>27</td>\n",
              "      <td>5</td>\n",
              "      <td>0</td>\n",
              "    </tr>\n",
              "    <tr>\n",
              "      <th>5</th>\n",
              "      <td>4</td>\n",
              "      <td>5</td>\n",
              "      <td>31</td>\n",
              "      <td>160</td>\n",
              "      <td>63</td>\n",
              "      <td>686</td>\n",
              "      <td>25</td>\n",
              "      <td>24</td>\n",
              "      <td>2</td>\n",
              "      <td>0</td>\n",
              "    </tr>\n",
              "    <tr>\n",
              "      <th>6</th>\n",
              "      <td>3</td>\n",
              "      <td>0</td>\n",
              "      <td>23</td>\n",
              "      <td>49</td>\n",
              "      <td>45</td>\n",
              "      <td>27</td>\n",
              "      <td>846</td>\n",
              "      <td>0</td>\n",
              "      <td>6</td>\n",
              "      <td>1</td>\n",
              "    </tr>\n",
              "    <tr>\n",
              "      <th>7</th>\n",
              "      <td>9</td>\n",
              "      <td>1</td>\n",
              "      <td>24</td>\n",
              "      <td>44</td>\n",
              "      <td>80</td>\n",
              "      <td>54</td>\n",
              "      <td>10</td>\n",
              "      <td>770</td>\n",
              "      <td>4</td>\n",
              "      <td>4</td>\n",
              "    </tr>\n",
              "    <tr>\n",
              "      <th>8</th>\n",
              "      <td>21</td>\n",
              "      <td>19</td>\n",
              "      <td>10</td>\n",
              "      <td>17</td>\n",
              "      <td>13</td>\n",
              "      <td>6</td>\n",
              "      <td>11</td>\n",
              "      <td>5</td>\n",
              "      <td>891</td>\n",
              "      <td>7</td>\n",
              "    </tr>\n",
              "    <tr>\n",
              "      <th>9</th>\n",
              "      <td>27</td>\n",
              "      <td>72</td>\n",
              "      <td>10</td>\n",
              "      <td>29</td>\n",
              "      <td>9</td>\n",
              "      <td>19</td>\n",
              "      <td>15</td>\n",
              "      <td>11</td>\n",
              "      <td>36</td>\n",
              "      <td>772</td>\n",
              "    </tr>\n",
              "  </tbody>\n",
              "</table>\n",
              "</div>\n",
              "      <button class=\"colab-df-convert\" onclick=\"convertToInteractive('df-e13efe1e-0df3-49da-af29-ef79f8be6ed8')\"\n",
              "              title=\"Convert this dataframe to an interactive table.\"\n",
              "              style=\"display:none;\">\n",
              "        \n",
              "  <svg xmlns=\"http://www.w3.org/2000/svg\" height=\"24px\"viewBox=\"0 0 24 24\"\n",
              "       width=\"24px\">\n",
              "    <path d=\"M0 0h24v24H0V0z\" fill=\"none\"/>\n",
              "    <path d=\"M18.56 5.44l.94 2.06.94-2.06 2.06-.94-2.06-.94-.94-2.06-.94 2.06-2.06.94zm-11 1L8.5 8.5l.94-2.06 2.06-.94-2.06-.94L8.5 2.5l-.94 2.06-2.06.94zm10 10l.94 2.06.94-2.06 2.06-.94-2.06-.94-.94-2.06-.94 2.06-2.06.94z\"/><path d=\"M17.41 7.96l-1.37-1.37c-.4-.4-.92-.59-1.43-.59-.52 0-1.04.2-1.43.59L10.3 9.45l-7.72 7.72c-.78.78-.78 2.05 0 2.83L4 21.41c.39.39.9.59 1.41.59.51 0 1.02-.2 1.41-.59l7.78-7.78 2.81-2.81c.8-.78.8-2.07 0-2.86zM5.41 20L4 18.59l7.72-7.72 1.47 1.35L5.41 20z\"/>\n",
              "  </svg>\n",
              "      </button>\n",
              "      \n",
              "  <style>\n",
              "    .colab-df-container {\n",
              "      display:flex;\n",
              "      flex-wrap:wrap;\n",
              "      gap: 12px;\n",
              "    }\n",
              "\n",
              "    .colab-df-convert {\n",
              "      background-color: #E8F0FE;\n",
              "      border: none;\n",
              "      border-radius: 50%;\n",
              "      cursor: pointer;\n",
              "      display: none;\n",
              "      fill: #1967D2;\n",
              "      height: 32px;\n",
              "      padding: 0 0 0 0;\n",
              "      width: 32px;\n",
              "    }\n",
              "\n",
              "    .colab-df-convert:hover {\n",
              "      background-color: #E2EBFA;\n",
              "      box-shadow: 0px 1px 2px rgba(60, 64, 67, 0.3), 0px 1px 3px 1px rgba(60, 64, 67, 0.15);\n",
              "      fill: #174EA6;\n",
              "    }\n",
              "\n",
              "    [theme=dark] .colab-df-convert {\n",
              "      background-color: #3B4455;\n",
              "      fill: #D2E3FC;\n",
              "    }\n",
              "\n",
              "    [theme=dark] .colab-df-convert:hover {\n",
              "      background-color: #434B5C;\n",
              "      box-shadow: 0px 1px 3px 1px rgba(0, 0, 0, 0.15);\n",
              "      filter: drop-shadow(0px 1px 2px rgba(0, 0, 0, 0.3));\n",
              "      fill: #FFFFFF;\n",
              "    }\n",
              "  </style>\n",
              "\n",
              "      <script>\n",
              "        const buttonEl =\n",
              "          document.querySelector('#df-e13efe1e-0df3-49da-af29-ef79f8be6ed8 button.colab-df-convert');\n",
              "        buttonEl.style.display =\n",
              "          google.colab.kernel.accessAllowed ? 'block' : 'none';\n",
              "\n",
              "        async function convertToInteractive(key) {\n",
              "          const element = document.querySelector('#df-e13efe1e-0df3-49da-af29-ef79f8be6ed8');\n",
              "          const dataTable =\n",
              "            await google.colab.kernel.invokeFunction('convertToInteractive',\n",
              "                                                     [key], {});\n",
              "          if (!dataTable) return;\n",
              "\n",
              "          const docLinkHtml = 'Like what you see? Visit the ' +\n",
              "            '<a target=\"_blank\" href=https://colab.research.google.com/notebooks/data_table.ipynb>data table notebook</a>'\n",
              "            + ' to learn more about interactive tables.';\n",
              "          element.innerHTML = '';\n",
              "          dataTable['output_type'] = 'display_data';\n",
              "          await google.colab.output.renderOutput(dataTable, element);\n",
              "          const docLink = document.createElement('div');\n",
              "          docLink.innerHTML = docLinkHtml;\n",
              "          element.appendChild(docLink);\n",
              "        }\n",
              "      </script>\n",
              "    </div>\n",
              "  </div>\n",
              "  "
            ]
          },
          "metadata": {},
          "execution_count": 313
        }
      ],
      "source": [
        "import pandas as pd\n",
        "print(label_dict)\n",
        "pd.crosstab(y_label_test.reshape(-1),prediction,\n",
        "            rownames=['label'],colnames=['predict'])"
      ]
    },
    {
      "cell_type": "markdown",
      "source": [
        "匯入pandas模組\n",
        "\n",
        "reshape(-1)轉換1維陣列\n",
        "\n",
        "測試資料的預測結果\n",
        "\n",
        "設定行的名稱label\n",
        "\n",
        "設定列的名稱是predict"
      ],
      "metadata": {
        "id": "kQZdeca-m9Ns"
      }
    },
    {
      "cell_type": "code",
      "execution_count": null,
      "metadata": {
        "id": "mNYccE8kVbET",
        "colab": {
          "base_uri": "https://localhost:8080/"
        },
        "outputId": "8242137f-0112-472e-e1c5-b84801f06ecb"
      },
      "outputs": [
        {
          "output_type": "stream",
          "name": "stdout",
          "text": [
            "{0: 'airplane', 1: 'automobile', 2: 'bird', 3: 'cat', 4: 'deer', 5: 'dog', 6: 'frog', 7: 'horse', 8: 'ship', 9: 'truck'}\n"
          ]
        }
      ],
      "source": [
        "print(label_dict)"
      ]
    },
    {
      "cell_type": "markdown",
      "metadata": {
        "id": "xgPEYeP6ncct"
      },
      "source": [
        "# Save model to Google Drive"
      ]
    },
    {
      "cell_type": "code",
      "source": [
        "from google.colab import drive\n",
        "drive.mount('/content/drive')"
      ],
      "metadata": {
        "colab": {
          "base_uri": "https://localhost:8080/",
          "height": 329
        },
        "id": "5zDh3X6jJO3S",
        "outputId": "7ced6d20-7a7c-4d9c-82e0-d683d7b7d3f4"
      },
      "execution_count": null,
      "outputs": [
        {
          "output_type": "error",
          "ename": "MessageError",
          "evalue": "ignored",
          "traceback": [
            "\u001b[0;31m---------------------------------------------------------------------------\u001b[0m",
            "\u001b[0;31mMessageError\u001b[0m                              Traceback (most recent call last)",
            "\u001b[0;32m<ipython-input-315-d5df0069828e>\u001b[0m in \u001b[0;36m<cell line: 2>\u001b[0;34m()\u001b[0m\n\u001b[1;32m      1\u001b[0m \u001b[0;32mfrom\u001b[0m \u001b[0mgoogle\u001b[0m\u001b[0;34m.\u001b[0m\u001b[0mcolab\u001b[0m \u001b[0;32mimport\u001b[0m \u001b[0mdrive\u001b[0m\u001b[0;34m\u001b[0m\u001b[0;34m\u001b[0m\u001b[0m\n\u001b[0;32m----> 2\u001b[0;31m \u001b[0mdrive\u001b[0m\u001b[0;34m.\u001b[0m\u001b[0mmount\u001b[0m\u001b[0;34m(\u001b[0m\u001b[0;34m'/content/drive'\u001b[0m\u001b[0;34m)\u001b[0m\u001b[0;34m\u001b[0m\u001b[0;34m\u001b[0m\u001b[0m\n\u001b[0m",
            "\u001b[0;32m/usr/local/lib/python3.10/dist-packages/google/colab/drive.py\u001b[0m in \u001b[0;36mmount\u001b[0;34m(mountpoint, force_remount, timeout_ms, readonly)\u001b[0m\n\u001b[1;32m    101\u001b[0m \u001b[0;32mdef\u001b[0m \u001b[0mmount\u001b[0m\u001b[0;34m(\u001b[0m\u001b[0mmountpoint\u001b[0m\u001b[0;34m,\u001b[0m \u001b[0mforce_remount\u001b[0m\u001b[0;34m=\u001b[0m\u001b[0;32mFalse\u001b[0m\u001b[0;34m,\u001b[0m \u001b[0mtimeout_ms\u001b[0m\u001b[0;34m=\u001b[0m\u001b[0;36m120000\u001b[0m\u001b[0;34m,\u001b[0m \u001b[0mreadonly\u001b[0m\u001b[0;34m=\u001b[0m\u001b[0;32mFalse\u001b[0m\u001b[0;34m)\u001b[0m\u001b[0;34m:\u001b[0m\u001b[0;34m\u001b[0m\u001b[0;34m\u001b[0m\u001b[0m\n\u001b[1;32m    102\u001b[0m   \u001b[0;34m\"\"\"Mount your Google Drive at the specified mountpoint path.\"\"\"\u001b[0m\u001b[0;34m\u001b[0m\u001b[0;34m\u001b[0m\u001b[0m\n\u001b[0;32m--> 103\u001b[0;31m   return _mount(\n\u001b[0m\u001b[1;32m    104\u001b[0m       \u001b[0mmountpoint\u001b[0m\u001b[0;34m,\u001b[0m\u001b[0;34m\u001b[0m\u001b[0;34m\u001b[0m\u001b[0m\n\u001b[1;32m    105\u001b[0m       \u001b[0mforce_remount\u001b[0m\u001b[0;34m=\u001b[0m\u001b[0mforce_remount\u001b[0m\u001b[0;34m,\u001b[0m\u001b[0;34m\u001b[0m\u001b[0;34m\u001b[0m\u001b[0m\n",
            "\u001b[0;32m/usr/local/lib/python3.10/dist-packages/google/colab/drive.py\u001b[0m in \u001b[0;36m_mount\u001b[0;34m(mountpoint, force_remount, timeout_ms, ephemeral, readonly)\u001b[0m\n\u001b[1;32m    130\u001b[0m   )\n\u001b[1;32m    131\u001b[0m   \u001b[0;32mif\u001b[0m \u001b[0mephemeral\u001b[0m\u001b[0;34m:\u001b[0m\u001b[0;34m\u001b[0m\u001b[0;34m\u001b[0m\u001b[0m\n\u001b[0;32m--> 132\u001b[0;31m     _message.blocking_request(\n\u001b[0m\u001b[1;32m    133\u001b[0m         \u001b[0;34m'request_auth'\u001b[0m\u001b[0;34m,\u001b[0m \u001b[0mrequest\u001b[0m\u001b[0;34m=\u001b[0m\u001b[0;34m{\u001b[0m\u001b[0;34m'authType'\u001b[0m\u001b[0;34m:\u001b[0m \u001b[0;34m'dfs_ephemeral'\u001b[0m\u001b[0;34m}\u001b[0m\u001b[0;34m,\u001b[0m \u001b[0mtimeout_sec\u001b[0m\u001b[0;34m=\u001b[0m\u001b[0;32mNone\u001b[0m\u001b[0;34m\u001b[0m\u001b[0;34m\u001b[0m\u001b[0m\n\u001b[1;32m    134\u001b[0m     )\n",
            "\u001b[0;32m/usr/local/lib/python3.10/dist-packages/google/colab/_message.py\u001b[0m in \u001b[0;36mblocking_request\u001b[0;34m(request_type, request, timeout_sec, parent)\u001b[0m\n\u001b[1;32m    174\u001b[0m       \u001b[0mrequest_type\u001b[0m\u001b[0;34m,\u001b[0m \u001b[0mrequest\u001b[0m\u001b[0;34m,\u001b[0m \u001b[0mparent\u001b[0m\u001b[0;34m=\u001b[0m\u001b[0mparent\u001b[0m\u001b[0;34m,\u001b[0m \u001b[0mexpect_reply\u001b[0m\u001b[0;34m=\u001b[0m\u001b[0;32mTrue\u001b[0m\u001b[0;34m\u001b[0m\u001b[0;34m\u001b[0m\u001b[0m\n\u001b[1;32m    175\u001b[0m   )\n\u001b[0;32m--> 176\u001b[0;31m   \u001b[0;32mreturn\u001b[0m \u001b[0mread_reply_from_input\u001b[0m\u001b[0;34m(\u001b[0m\u001b[0mrequest_id\u001b[0m\u001b[0;34m,\u001b[0m \u001b[0mtimeout_sec\u001b[0m\u001b[0;34m)\u001b[0m\u001b[0;34m\u001b[0m\u001b[0;34m\u001b[0m\u001b[0m\n\u001b[0m",
            "\u001b[0;32m/usr/local/lib/python3.10/dist-packages/google/colab/_message.py\u001b[0m in \u001b[0;36mread_reply_from_input\u001b[0;34m(message_id, timeout_sec)\u001b[0m\n\u001b[1;32m    101\u001b[0m     ):\n\u001b[1;32m    102\u001b[0m       \u001b[0;32mif\u001b[0m \u001b[0;34m'error'\u001b[0m \u001b[0;32min\u001b[0m \u001b[0mreply\u001b[0m\u001b[0;34m:\u001b[0m\u001b[0;34m\u001b[0m\u001b[0;34m\u001b[0m\u001b[0m\n\u001b[0;32m--> 103\u001b[0;31m         \u001b[0;32mraise\u001b[0m \u001b[0mMessageError\u001b[0m\u001b[0;34m(\u001b[0m\u001b[0mreply\u001b[0m\u001b[0;34m[\u001b[0m\u001b[0;34m'error'\u001b[0m\u001b[0;34m]\u001b[0m\u001b[0;34m)\u001b[0m\u001b[0;34m\u001b[0m\u001b[0;34m\u001b[0m\u001b[0m\n\u001b[0m\u001b[1;32m    104\u001b[0m       \u001b[0;32mreturn\u001b[0m \u001b[0mreply\u001b[0m\u001b[0;34m.\u001b[0m\u001b[0mget\u001b[0m\u001b[0;34m(\u001b[0m\u001b[0;34m'data'\u001b[0m\u001b[0;34m,\u001b[0m \u001b[0;32mNone\u001b[0m\u001b[0;34m)\u001b[0m\u001b[0;34m\u001b[0m\u001b[0;34m\u001b[0m\u001b[0m\n\u001b[1;32m    105\u001b[0m \u001b[0;34m\u001b[0m\u001b[0m\n",
            "\u001b[0;31mMessageError\u001b[0m: Error: credential propagation was unsuccessful"
          ]
        }
      ]
    }
  ],
  "metadata": {
    "anaconda-cloud": {},
    "kernelspec": {
      "display_name": "Python 3",
      "language": "python",
      "name": "python3"
    },
    "language_info": {
      "codemirror_mode": {
        "name": "ipython",
        "version": 3
      },
      "file_extension": ".py",
      "mimetype": "text/x-python",
      "name": "python",
      "nbconvert_exporter": "python",
      "pygments_lexer": "ipython3",
      "version": "3.5.5"
    },
    "colab": {
      "provenance": []
    },
    "accelerator": "GPU"
  },
  "nbformat": 4,
  "nbformat_minor": 0
}